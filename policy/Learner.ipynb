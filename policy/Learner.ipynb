{
 "cells": [
  {
   "cell_type": "code",
   "execution_count": 1,
   "metadata": {
    "collapsed": true
   },
   "outputs": [],
   "source": [
    "import random\n",
    "import time"
   ]
  },
  {
   "cell_type": "code",
   "execution_count": 2,
   "metadata": {
    "collapsed": true
   },
   "outputs": [],
   "source": [
    "import tensorflow as tf\n",
    "import numpy as np\n",
    "\n",
    "import zmq"
   ]
  },
  {
   "cell_type": "code",
   "execution_count": 3,
   "metadata": {
    "collapsed": true
   },
   "outputs": [],
   "source": [
    "from learner import *"
   ]
  },
  {
   "cell_type": "code",
   "execution_count": 4,
   "metadata": {
    "collapsed": true
   },
   "outputs": [],
   "source": [
    "exp_socket_addr = \"tcp://127.0.0.1:19884\" \n",
    "max_actions = 7\n",
    "strat_socket_addr = \"tcp://127.0.0.1:19885\""
   ]
  },
  {
   "cell_type": "code",
   "execution_count": 5,
   "metadata": {
    "collapsed": false
   },
   "outputs": [],
   "source": [
    "context = zmq.Context()\n",
    "sock_exp = context.socket(zmq.REP)\n",
    "sock_exp.bind(exp_socket_addr)"
   ]
  },
  {
   "cell_type": "code",
   "execution_count": 6,
   "metadata": {
    "collapsed": true
   },
   "outputs": [],
   "source": [
    "sock_strat = context.socket(zmq.PUB)\n",
    "sock_strat.bind(strat_socket_addr)"
   ]
  },
  {
   "cell_type": "code",
   "execution_count": 51,
   "metadata": {
    "collapsed": true
   },
   "outputs": [],
   "source": [
    "LEARNING_RATE = 0.00025 / 4."
   ]
  },
  {
   "cell_type": "code",
   "execution_count": 52,
   "metadata": {
    "collapsed": true
   },
   "outputs": [],
   "source": [
    "NUM_HIDDEN = 256"
   ]
  },
  {
   "cell_type": "code",
   "execution_count": 53,
   "metadata": {
    "collapsed": false
   },
   "outputs": [],
   "source": [
    "def CreateNetwork(state, num_actions, scope, is_training, reuse=False):\n",
    "    hidden1 = tf.contrib.layers.relu(\n",
    "        state, NUM_HIDDEN,\n",
    "        weights_initializer=tf.truncated_normal_initializer(stddev=0.1),\n",
    "        normalizer_fn=tf.contrib.layers.batch_norm,\n",
    "        normalizer_params={'is_training': is_training},\n",
    "        scope=scope + '/hidden1', reuse=reuse)\n",
    "#     hidden2 = tf.contrib.layers.relu(\n",
    "#         hidden1, NUM_HIDDEN,\n",
    "#         weights_initializer=tf.truncated_normal_initializer(stddev=0.1),\n",
    "#         normalizer_fn=tf.contrib.layers.batch_norm,\n",
    "#         normalizer_params={'is_training': is_training},\n",
    "#         scope=scope + '/hidden2', reuse=reuse)\n",
    "    hidden2 = hidden1\n",
    "    \n",
    "    value_hid = tf.contrib.layers.relu(hidden2, NUM_HIDDEN,\n",
    "        weights_initializer=tf.truncated_normal_initializer(stddev=0.1),\n",
    "        normalizer_fn=tf.contrib.layers.batch_norm,\n",
    "        normalizer_params={'is_training': is_training},\n",
    "        scope=scope + '/val_hid', reuse=reuse)\n",
    "\n",
    "    adv_hid = tf.contrib.layers.relu(hidden2, NUM_HIDDEN,\n",
    "        weights_initializer=tf.truncated_normal_initializer(stddev=0.1),\n",
    "        normalizer_fn=tf.contrib.layers.batch_norm,\n",
    "        normalizer_params={'is_training': is_training},\n",
    "        scope=scope + '/adv_hid', reuse=reuse)\n",
    "\n",
    "    value = tf.contrib.layers.linear(value_hid, 1,\n",
    "                                     scope=scope + '/value', reuse=reuse)\n",
    "    adv = tf.contrib.layers.linear(adv_hid, num_actions, scope=scope + '/advantage', reuse=reuse)\n",
    "    adv = tf.sub(adv, tf.reduce_mean(adv, reduction_indices=1, keep_dims=True), 'advantage')\n",
    "    \n",
    "    output = tf.add(value, adv, 'output')\n",
    "    # Add hidden2\n",
    "    return hidden1, value_hid, adv_hid, value, adv, output"
   ]
  },
  {
   "cell_type": "code",
   "execution_count": 10,
   "metadata": {
    "collapsed": true
   },
   "outputs": [],
   "source": [
    "def Select(value, index):\n",
    "    # Value - float tensor of (batch, actions) size\n",
    "    # index - int32 tensor of (batch) size\n",
    "    # returns float tensor of batch size where in every batch the element from index is selected\n",
    "    batch_size = tf.shape(value)[0]\n",
    "    _range = tf.range(0, batch_size)\n",
    "    ind = tf.concat(1, [tf.expand_dims(_range, 1), \n",
    "                        tf.expand_dims(index, 1)])\n",
    "    return tf.gather_nd(value, ind)"
   ]
  },
  {
   "cell_type": "code",
   "execution_count": 11,
   "metadata": {
    "collapsed": true
   },
   "outputs": [],
   "source": [
    "def Select4(value, index):\n",
    "    # Value - float tensor of (batch, actions) size\n",
    "    # index - int32 tensor of (batch) size\n",
    "    # returns float tensor of batch size where in every batch the element from index is selected\n",
    "    shp = tf.shape(value)\n",
    "    return tf.reduce_sum(value * tf.one_hot(index, shp[1]), reduction_indices=1)"
   ]
  },
  {
   "cell_type": "code",
   "execution_count": 54,
   "metadata": {
    "collapsed": true
   },
   "outputs": [],
   "source": [
    "class QLearner(object):\n",
    "    def __init__(self, exp_buffer, num_actions, td_err_clip=50, run_index=1):\n",
    "        self.exp_buffer = exp_buffer\n",
    "        self.num_actions = num_actions\n",
    "        self.run_index = run_index\n",
    "        self.td_err_clip = float(td_err_clip)\n",
    "\n",
    "        self.state = tf.placeholder(tf.float32, shape=[None, self.exp_buffer.state_size], name='state')\n",
    "        self.action = tf.placeholder(tf.int32, shape=[None], name='action')\n",
    "        self.reward = tf.placeholder(tf.float32, shape=[None], name='reward')\n",
    "        self.state1 = tf.placeholder(tf.float32, shape=[None, self.exp_buffer.state_size], name='state1')\n",
    "        self.gamma = tf.placeholder(tf.float32, shape=[None], name='gamma')\n",
    "        self.is_weights = tf.placeholder(tf.float32, shape=[None], name='is_weights')       \n",
    "        self.is_training = tf.placeholder(tf.bool, shape=None, name='is_training')\n",
    "\n",
    "        self.pred_vars = CreateNetwork(self.state, num_actions, 'model', self.is_training)\n",
    "        self.pred_vars_s1 = CreateNetwork(self.state1, num_actions, 'model', self.is_training, True)\n",
    "        self.target_vars = CreateNetwork(self.state1, num_actions, 'target', False)\n",
    "        \n",
    "        self.vars_pred = tf.get_collection(tf.GraphKeys.VARIABLES, 'model')\n",
    "        self.vars_target = tf.get_collection(tf.GraphKeys.VARIABLES, 'target')\n",
    "\n",
    "        self.copy_op = tf.group(\n",
    "            *[tf.assign(y, x) for x, y in zip(self.vars_pred, self.vars_target)]\n",
    "        )\n",
    "\n",
    "        idx = len(self.pred_vars) - 1\n",
    "\n",
    "        self.act_s1 = tf.cast(tf.argmax(self.pred_vars_s1[idx], dimension=1), tf.int32)\n",
    "        self.q_s1 = Select(self.target_vars[idx], self.act_s1)\n",
    "        self.target_q = tf.stop_gradient(self.reward + self.gamma * self.q_s1)\n",
    "        self.q = Select4(self.pred_vars[idx], self.action)\n",
    "\n",
    "        self.delta = tf.clip_by_value(self.target_q - self.q , -self.td_err_clip, self.td_err_clip)\n",
    "        self.td_err_weight = tf.abs(self.delta)\n",
    "        self.loss = tf.reduce_mean(tf.square(self.delta * self.is_weights))\n",
    "\n",
    "        update_ops = tf.get_collection(tf.GraphKeys.UPDATE_OPS)\n",
    "\n",
    "        self.global_step = tf.Variable(0, name='global_step', trainable=False)\n",
    "        tf.histogram_summary('TD Error', self.delta)\n",
    "        tf.scalar_summary(\"Loss\", tf.clip_by_value(tf.sqrt(self.loss), -10., 100.))\n",
    "        tf.scalar_summary(\"Q Func\", tf.reduce_mean(self.q))\n",
    "        \n",
    "        optimizer = tf.train.AdamOptimizer(LEARNING_RATE)\n",
    "        grads = optimizer.compute_gradients(self.loss, self.vars_pred)\n",
    "        if True:\n",
    "            grads = [(tf.clip_by_norm(g, 5.), v) for g, v in grads\n",
    "                     if g is not None]\n",
    "\n",
    "        for grad, v in grads:\n",
    "            tf.histogram_summary(v.name, v)\n",
    "            if grad is not None:\n",
    "                tf.histogram_summary('{}/grad'.format(v.name), grad)\n",
    "        \n",
    "        for ten in self.pred_vars:\n",
    "            tf.histogram_summary('vars/' + ten.name, ten)\n",
    "\n",
    "        tf.histogram_summary('vars/weights', self.is_weights)\n",
    "            \n",
    "        self.train_op = optimizer.apply_gradients(grads, self.global_step)\n",
    "        if update_ops:\n",
    "            self.train_op = tf.group(self.train_op, *update_ops)\n",
    "\n",
    "        self.summary_op = tf.merge_all_summaries()\n",
    "        self.writer = None\n",
    "        self.saver = None\n",
    "        self.cur_step = None\n",
    "\n",
    "    def step(self, sess, batch_size=32):\n",
    "        idx, ss, aa, rr, ss1, gg, ww = self.exp_buffer.sample(batch_size)\n",
    "        if ss is None:\n",
    "            return\n",
    "        \n",
    "        if self.writer is None:\n",
    "            self.writer = tf.train.SummaryWriter('/media/vertix/UHDD/tmp/tensorflow_logs/aicup/%d'\n",
    "                                                 % self.run_index)\n",
    "            self.saver = tf.train.Saver(self.vars_pred)\n",
    "            self.last_start = time.time()\n",
    "\n",
    "        feed_dict = {self.state: ss, self.action: aa, self.reward: rr, self.state1:ss1,\n",
    "                     self.gamma: gg, self.is_weights: ww,\n",
    "                     self.is_training: True}\n",
    "\n",
    "        if self.cur_step and self.cur_step % 100 != 0:\n",
    "            self.cur_step, weights, _ = sess.run(\n",
    "                [self.global_step, self.td_err_weight, self.train_op], feed_dict)\n",
    "        else:\n",
    "            self.cur_step, weights, _, smr = sess.run(\n",
    "                [self.global_step, self.td_err_weight, self.train_op, self.summary_op], feed_dict)\n",
    "            self.writer.add_summary(smr, self.cur_step)\n",
    "        \n",
    "        for ii, td_w in zip(idx, weights):\n",
    "            self.exp_buffer.tree_update(ii, td_w)\n",
    "            \n",
    "        if self.cur_step % 20000 == 0:\n",
    "            print 'Updated target network'\n",
    "            sess.run(self.copy_op)\n",
    "            self.saver.save(sess, 'q_func', global_step=self.global_step)\n",
    "            if self.last_start is not None:\n",
    "                self.writer.add_summary(\n",
    "                    tf.Summary(\n",
    "                        value=[tf.Summary.Value(\n",
    "                                tag='Steps per sec',\n",
    "                                simple_value=20000 / (time.time() - self.last_start))]),\n",
    "                    self.cur_step)\n",
    "            self.last_start = time.time()\n",
    "\n",
    "    def stat(self, data):\n",
    "        self.writer.add_summary(\n",
    "            tf.Summary(\n",
    "                value=[tf.Summary.Value(tag=name, simple_value=value)\n",
    "                       for name, value in data.items()]), self.cur_step)"
   ]
  },
  {
   "cell_type": "code",
   "execution_count": 14,
   "metadata": {
    "collapsed": false
   },
   "outputs": [],
   "source": [
    "buf = WeightedExperienceBuffer(0.6, 0.4, 100, buffer_size=1<<17)\n",
    "for _ in range(1000):\n",
    "    msg = sock_exp.recv_pyobj()\n",
    "    sock_exp.send('Ok')\n",
    "    if msg['type'] == 'exp':\n",
    "        msg = msg['data']\n",
    "        buf.add(msg['s'], msg['a'], msg['r'], msg['s1'], msg['g'], 100)"
   ]
  },
  {
   "cell_type": "code",
   "execution_count": 30,
   "metadata": {
    "collapsed": false
   },
   "outputs": [],
   "source": [
    "_, s, _, _, _, _, _ = buf.sample(5)"
   ]
  },
  {
   "cell_type": "code",
   "execution_count": 49,
   "metadata": {
    "collapsed": false
   },
   "outputs": [
    {
     "data": {
      "text/plain": [
       "['100.00',\n",
       " '100.00',\n",
       " '0.00',\n",
       " '0.00',\n",
       " '2082.31',\n",
       " '2086.47',\n",
       " '25.00',\n",
       " '0.00',\n",
       " '0.00',\n",
       " '0.00',\n",
       " '2.02',\n",
       " '1266.79',\n",
       " '-1054.57',\n",
       " '0.00',\n",
       " '0.00',\n",
       " '2.25',\n",
       " '1648.29',\n",
       " '300.00',\n",
       " '400.00',\n",
       " '20.00']"
      ]
     },
     "execution_count": 49,
     "metadata": {},
     "output_type": "execute_result"
    }
   ],
   "source": [
    "i = 6\n",
    "['%.2f' % x for x in s[0, 15 + 20*i:15 + 20* (i+1)]]"
   ]
  },
  {
   "cell_type": "code",
   "execution_count": 37,
   "metadata": {
    "collapsed": false,
    "scrolled": false
   },
   "outputs": [
    {
     "data": {
      "text/plain": [
       "['100.00',\n",
       " '100.00',\n",
       " '100.00',\n",
       " '100.00',\n",
       " '815.52',\n",
       " '3141.04',\n",
       " '35.00',\n",
       " '0.00',\n",
       " '0.00',\n",
       " '0.00',\n",
       " '-0.22',\n",
       " '500.00',\n",
       " '600.00',\n",
       " '0.00',\n",
       " '0.00']"
      ]
     },
     "execution_count": 37,
     "metadata": {},
     "output_type": "execute_result"
    }
   ],
   "source": [
    "['%.2f' % x for x in s[0,:15]"
   ]
  },
  {
   "cell_type": "code",
   "execution_count": 55,
   "metadata": {
    "collapsed": false
   },
   "outputs": [],
   "source": [
    "sess.close()\n",
    "tf.reset_default_graph()\n",
    "sess = tf.InteractiveSession(config=tf.ConfigProto(device_count = {'GPU': 0}))"
   ]
  },
  {
   "cell_type": "code",
   "execution_count": 56,
   "metadata": {
    "collapsed": false
   },
   "outputs": [],
   "source": [
    "ql = QLearner(buf, 2 + 5, td_err_clip=100, run_index=3)\n",
    "sess.run(tf.initialize_all_variables())"
   ]
  },
  {
   "cell_type": "markdown",
   "metadata": {},
   "source": [
    "1. Prioritized replay\n",
    "2. Hanlde death by modifying gamma\n",
    "3. Test Q-learning on simple task\n",
    "4. Combine updates in batches"
   ]
  },
  {
   "cell_type": "code",
   "execution_count": null,
   "metadata": {
    "collapsed": false
   },
   "outputs": [],
   "source": [
    "for i in range(15 * 10 ** 6):\n",
    "    ql.step(sess)\n",
    "    \n",
    "    if i % 5 == 0:\n",
    "        msg = sock_exp.recv_pyobj()\n",
    "        sock_exp.send('Ok')\n",
    "    \n",
    "        if msg['type'] == 'exp':\n",
    "            msg = msg['data']\n",
    "            ql.exp_buffer.add(msg['s'], msg['a'], msg['r'], msg['s1'], msg['g'], 100)\n",
    "        elif msg['type'] == 'stat':\n",
    "            ql.stat(msg['data'])\n",
    "\n",
    "    if i > 0 and i % 5000 == 0:\n",
    "        sock_strat.send_pyobj({v.name: sess.run(v, {ql.is_training: False})\n",
    "                               for v in ql.vars_pred})"
   ]
  },
  {
   "cell_type": "code",
   "execution_count": 27,
   "metadata": {
    "collapsed": false
   },
   "outputs": [
    {
     "name": "stdout",
     "output_type": "stream",
     "text": [
      "model/hidden1/weights:0\n",
      "model/hidden1/BatchNorm/beta:0\n",
      "model/hidden1/BatchNorm/moving_mean:0\n",
      "model/hidden1/BatchNorm/moving_variance:0\n",
      "model/val_hid/weights:0\n",
      "model/val_hid/BatchNorm/beta:0\n",
      "model/val_hid/BatchNorm/moving_mean:0\n",
      "model/val_hid/BatchNorm/moving_variance:0\n",
      "model/adv_hid/weights:0\n",
      "model/adv_hid/BatchNorm/beta:0\n",
      "model/adv_hid/BatchNorm/moving_mean:0\n",
      "model/adv_hid/BatchNorm/moving_variance:0\n",
      "model/value/weights:0\n",
      "model/value/biases:0\n",
      "model/advantage/weights:0\n",
      "model/advantage/biases:0\n"
     ]
    }
   ],
   "source": [
    "for v in ql.vars_pred:\n",
    "    print v.name"
   ]
  },
  {
   "cell_type": "code",
   "execution_count": 25,
   "metadata": {
    "collapsed": false
   },
   "outputs": [
    {
     "data": {
      "text/plain": [
       "TensorShape([Dimension(416), Dimension(64)])"
      ]
     },
     "execution_count": 25,
     "metadata": {},
     "output_type": "execute_result"
    }
   ],
   "source": [
    "a.get_shape()"
   ]
  },
  {
   "cell_type": "code",
   "execution_count": null,
   "metadata": {
    "collapsed": true
   },
   "outputs": [],
   "source": []
  },
  {
   "cell_type": "markdown",
   "metadata": {},
   "source": [
    "-------------------\n",
    "Use OpenAI env to test Q-Learning"
   ]
  },
  {
   "cell_type": "code",
   "execution_count": 11,
   "metadata": {
    "collapsed": true
   },
   "outputs": [],
   "source": [
    "import gym"
   ]
  },
  {
   "cell_type": "code",
   "execution_count": 19,
   "metadata": {
    "collapsed": false
   },
   "outputs": [
    {
     "name": "stderr",
     "output_type": "stream",
     "text": [
      "[2016-11-23 18:50:09,140] Making new env: LunarLander-v2\n"
     ]
    }
   ],
   "source": [
    "env = gym.make('LunarLander-v2')"
   ]
  },
  {
   "cell_type": "code",
   "execution_count": 13,
   "metadata": {
    "collapsed": false
   },
   "outputs": [],
   "source": [
    "buf = WeightedExperienceBuffer()\n",
    "old_s = env.reset()\n",
    "for _ in range(5):\n",
    "    a = env.action_space.sample()\n",
    "    \n",
    "    s, r, d, _ = env.step(a)\n",
    "    buf.add(old_s, a, r, s if not d else None, TD_ERR_CLIP)\n",
    "    old_s = s"
   ]
  },
  {
   "cell_type": "code",
   "execution_count": 15,
   "metadata": {
    "collapsed": false
   },
   "outputs": [],
   "source": [
    "sess.close()\n",
    "tf.reset_default_graph()\n",
    "sess = tf.InteractiveSession()"
   ]
  },
  {
   "cell_type": "code",
   "execution_count": 16,
   "metadata": {
    "collapsed": false
   },
   "outputs": [],
   "source": [
    "ql = QLearner(buf, env.action_space.n, 8)\n",
    "# feed_dict = {ql.state: ss, ql.action: aa, ql.reward: rr, ql.state1:ss1, ql.gamma: gg}\n",
    "sess.run(tf.initialize_all_variables())"
   ]
  },
  {
   "cell_type": "code",
   "execution_count": 20,
   "metadata": {
    "collapsed": false
   },
   "outputs": [
    {
     "name": "stdout",
     "output_type": "stream",
     "text": [
      "Updated target network\n",
      "Updated target network\n",
      "Updated target network\n",
      "Updated target network\n",
      "Updated target network\n",
      "Updated target network\n",
      "Updated target network\n",
      "Updated target network\n",
      "Updated target network\n",
      "Updated target network\n"
     ]
    },
    {
     "ename": "KeyboardInterrupt",
     "evalue": "",
     "output_type": "error",
     "traceback": [
      "\u001b[0;31m---------------------------------------------------------------------------\u001b[0m",
      "\u001b[0;31mKeyboardInterrupt\u001b[0m                         Traceback (most recent call last)",
      "\u001b[0;32m<ipython-input-20-92fd5629f3e8>\u001b[0m in \u001b[0;36m<module>\u001b[0;34m()\u001b[0m\n\u001b[1;32m     15\u001b[0m             \u001b[0ma\u001b[0m \u001b[0;34m=\u001b[0m \u001b[0ma\u001b[0m\u001b[0;34m[\u001b[0m\u001b[0;36m0\u001b[0m\u001b[0;34m]\u001b[0m\u001b[0;34m\u001b[0m\u001b[0m\n\u001b[1;32m     16\u001b[0m \u001b[0;34m\u001b[0m\u001b[0m\n\u001b[0;32m---> 17\u001b[0;31m         \u001b[0ms\u001b[0m\u001b[0;34m,\u001b[0m \u001b[0mr\u001b[0m\u001b[0;34m,\u001b[0m \u001b[0md\u001b[0m\u001b[0;34m,\u001b[0m \u001b[0m_\u001b[0m \u001b[0;34m=\u001b[0m \u001b[0menv\u001b[0m\u001b[0;34m.\u001b[0m\u001b[0mstep\u001b[0m\u001b[0;34m(\u001b[0m\u001b[0ma\u001b[0m\u001b[0;34m)\u001b[0m\u001b[0;34m\u001b[0m\u001b[0m\n\u001b[0m\u001b[1;32m     18\u001b[0m         \u001b[0mbuf\u001b[0m\u001b[0;34m.\u001b[0m\u001b[0madd\u001b[0m\u001b[0;34m(\u001b[0m\u001b[0mold_s\u001b[0m\u001b[0;34m,\u001b[0m \u001b[0ma\u001b[0m\u001b[0;34m,\u001b[0m \u001b[0mr\u001b[0m\u001b[0;34m,\u001b[0m \u001b[0ms\u001b[0m \u001b[0;32mif\u001b[0m \u001b[0;32mnot\u001b[0m \u001b[0md\u001b[0m \u001b[0;32melse\u001b[0m \u001b[0mNone\u001b[0m\u001b[0;34m,\u001b[0m \u001b[0mTD_ERR_CLIP\u001b[0m\u001b[0;34m)\u001b[0m\u001b[0;34m\u001b[0m\u001b[0m\n\u001b[1;32m     19\u001b[0m \u001b[0;34m\u001b[0m\u001b[0m\n",
      "\u001b[0;32m/home/vertix/anaconda2/lib/python2.7/site-packages/gym/core.pyc\u001b[0m in \u001b[0;36mstep\u001b[0;34m(self, action)\u001b[0m\n\u001b[1;32m    120\u001b[0m         \"\"\"\n\u001b[1;32m    121\u001b[0m         \u001b[0mself\u001b[0m\u001b[0;34m.\u001b[0m\u001b[0mmonitor\u001b[0m\u001b[0;34m.\u001b[0m\u001b[0m_before_step\u001b[0m\u001b[0;34m(\u001b[0m\u001b[0maction\u001b[0m\u001b[0;34m)\u001b[0m\u001b[0;34m\u001b[0m\u001b[0m\n\u001b[0;32m--> 122\u001b[0;31m         \u001b[0mobservation\u001b[0m\u001b[0;34m,\u001b[0m \u001b[0mreward\u001b[0m\u001b[0;34m,\u001b[0m \u001b[0mdone\u001b[0m\u001b[0;34m,\u001b[0m \u001b[0minfo\u001b[0m \u001b[0;34m=\u001b[0m \u001b[0mself\u001b[0m\u001b[0;34m.\u001b[0m\u001b[0m_step\u001b[0m\u001b[0;34m(\u001b[0m\u001b[0maction\u001b[0m\u001b[0;34m)\u001b[0m\u001b[0;34m\u001b[0m\u001b[0m\n\u001b[0m\u001b[1;32m    123\u001b[0m \u001b[0;34m\u001b[0m\u001b[0m\n\u001b[1;32m    124\u001b[0m         \u001b[0mdone\u001b[0m \u001b[0;34m=\u001b[0m \u001b[0mself\u001b[0m\u001b[0;34m.\u001b[0m\u001b[0mmonitor\u001b[0m\u001b[0;34m.\u001b[0m\u001b[0m_after_step\u001b[0m\u001b[0;34m(\u001b[0m\u001b[0mobservation\u001b[0m\u001b[0;34m,\u001b[0m \u001b[0mreward\u001b[0m\u001b[0;34m,\u001b[0m \u001b[0mdone\u001b[0m\u001b[0;34m,\u001b[0m \u001b[0minfo\u001b[0m\u001b[0;34m)\u001b[0m\u001b[0;34m\u001b[0m\u001b[0m\n",
      "\u001b[0;32m/home/vertix/anaconda2/lib/python2.7/site-packages/gym/envs/box2d/lunar_lander.pyc\u001b[0m in \u001b[0;36m_step\u001b[0;34m(self, action)\u001b[0m\n\u001b[1;32m    275\u001b[0m             \u001b[0mself\u001b[0m\u001b[0;34m.\u001b[0m\u001b[0mlander\u001b[0m\u001b[0;34m.\u001b[0m\u001b[0mApplyLinearImpulse\u001b[0m\u001b[0;34m(\u001b[0m \u001b[0;34m(\u001b[0m\u001b[0;34m-\u001b[0m\u001b[0mox\u001b[0m\u001b[0;34m*\u001b[0m\u001b[0mSIDE_ENGINE_POWER\u001b[0m\u001b[0;34m*\u001b[0m\u001b[0ms_power\u001b[0m\u001b[0;34m,\u001b[0m \u001b[0;34m-\u001b[0m\u001b[0moy\u001b[0m\u001b[0;34m*\u001b[0m\u001b[0mSIDE_ENGINE_POWER\u001b[0m\u001b[0;34m*\u001b[0m\u001b[0ms_power\u001b[0m\u001b[0;34m)\u001b[0m\u001b[0;34m,\u001b[0m \u001b[0mimpulse_pos\u001b[0m\u001b[0;34m,\u001b[0m \u001b[0mTrue\u001b[0m\u001b[0;34m)\u001b[0m\u001b[0;34m\u001b[0m\u001b[0m\n\u001b[1;32m    276\u001b[0m \u001b[0;34m\u001b[0m\u001b[0m\n\u001b[0;32m--> 277\u001b[0;31m         \u001b[0mself\u001b[0m\u001b[0;34m.\u001b[0m\u001b[0mworld\u001b[0m\u001b[0;34m.\u001b[0m\u001b[0mStep\u001b[0m\u001b[0;34m(\u001b[0m\u001b[0;36m1.0\u001b[0m\u001b[0;34m/\u001b[0m\u001b[0mFPS\u001b[0m\u001b[0;34m,\u001b[0m \u001b[0;36m6\u001b[0m\u001b[0;34m*\u001b[0m\u001b[0;36m30\u001b[0m\u001b[0;34m,\u001b[0m \u001b[0;36m2\u001b[0m\u001b[0;34m*\u001b[0m\u001b[0;36m30\u001b[0m\u001b[0;34m)\u001b[0m\u001b[0;34m\u001b[0m\u001b[0m\n\u001b[0m\u001b[1;32m    278\u001b[0m \u001b[0;34m\u001b[0m\u001b[0m\n\u001b[1;32m    279\u001b[0m         \u001b[0mpos\u001b[0m \u001b[0;34m=\u001b[0m \u001b[0mself\u001b[0m\u001b[0;34m.\u001b[0m\u001b[0mlander\u001b[0m\u001b[0;34m.\u001b[0m\u001b[0mposition\u001b[0m\u001b[0;34m\u001b[0m\u001b[0m\n",
      "\u001b[0;32m/home/vertix/anaconda2/lib/python2.7/site-packages/gym/envs/box2d/lunar_lander.pyc\u001b[0m in \u001b[0;36mBeginContact\u001b[0;34m(self, contact)\u001b[0m\n\u001b[1;32m     60\u001b[0m         \u001b[0mcontactListener\u001b[0m\u001b[0;34m.\u001b[0m\u001b[0m__init__\u001b[0m\u001b[0;34m(\u001b[0m\u001b[0mself\u001b[0m\u001b[0;34m)\u001b[0m\u001b[0;34m\u001b[0m\u001b[0m\n\u001b[1;32m     61\u001b[0m         \u001b[0mself\u001b[0m\u001b[0;34m.\u001b[0m\u001b[0menv\u001b[0m \u001b[0;34m=\u001b[0m \u001b[0menv\u001b[0m\u001b[0;34m\u001b[0m\u001b[0m\n\u001b[0;32m---> 62\u001b[0;31m     \u001b[0;32mdef\u001b[0m \u001b[0mBeginContact\u001b[0m\u001b[0;34m(\u001b[0m\u001b[0mself\u001b[0m\u001b[0;34m,\u001b[0m \u001b[0mcontact\u001b[0m\u001b[0;34m)\u001b[0m\u001b[0;34m:\u001b[0m\u001b[0;34m\u001b[0m\u001b[0m\n\u001b[0m\u001b[1;32m     63\u001b[0m         \u001b[0;32mif\u001b[0m \u001b[0mself\u001b[0m\u001b[0;34m.\u001b[0m\u001b[0menv\u001b[0m\u001b[0;34m.\u001b[0m\u001b[0mlander\u001b[0m\u001b[0;34m==\u001b[0m\u001b[0mcontact\u001b[0m\u001b[0;34m.\u001b[0m\u001b[0mfixtureA\u001b[0m\u001b[0;34m.\u001b[0m\u001b[0mbody\u001b[0m \u001b[0;32mor\u001b[0m \u001b[0mself\u001b[0m\u001b[0;34m.\u001b[0m\u001b[0menv\u001b[0m\u001b[0;34m.\u001b[0m\u001b[0mlander\u001b[0m\u001b[0;34m==\u001b[0m\u001b[0mcontact\u001b[0m\u001b[0;34m.\u001b[0m\u001b[0mfixtureB\u001b[0m\u001b[0;34m.\u001b[0m\u001b[0mbody\u001b[0m\u001b[0;34m:\u001b[0m\u001b[0;34m\u001b[0m\u001b[0m\n\u001b[1;32m     64\u001b[0m             \u001b[0mself\u001b[0m\u001b[0;34m.\u001b[0m\u001b[0menv\u001b[0m\u001b[0;34m.\u001b[0m\u001b[0mgame_over\u001b[0m \u001b[0;34m=\u001b[0m \u001b[0mTrue\u001b[0m\u001b[0;34m\u001b[0m\u001b[0m\n",
      "\u001b[0;31mKeyboardInterrupt\u001b[0m: "
     ]
    }
   ],
   "source": [
    "# %%prun\n",
    "\n",
    "old_s = env.reset()\n",
    "episode_rew = 0.\n",
    "episode_len = 0.\n",
    "\n",
    "for i in range(10000000):\n",
    "    if i % 1 == 0:\n",
    "        epsilon = 1.0 / (1 + (ql.cur_step or 0.) / 1000.)\n",
    "        if np.random.sample() < epsilon:\n",
    "            a = env.action_space.sample()\n",
    "        else:\n",
    "            a = sess.run(ql.act_s1, {ql.state1: np.reshape(old_s, (1, -1)),\n",
    "                                     ql.is_training: False})\n",
    "            a = a[0]\n",
    "\n",
    "        s, r, d, _ = env.step(a)\n",
    "        buf.add(old_s, a, r, s if not d else None, TD_ERR_CLIP)\n",
    "        \n",
    "        episode_rew += r\n",
    "        episode_len += 1\n",
    "        \n",
    "        if d:\n",
    "            ql.stat({'Env/Reward': episode_rew, 'Env/Lenght': episode_len})\n",
    "            episode_rew, episode_len = 0., 0.\n",
    "            old_s = env.reset()\n",
    "        else:\n",
    "            old_s = s\n",
    "\n",
    "    ql.step(sess)"
   ]
  },
  {
   "cell_type": "code",
   "execution_count": 27,
   "metadata": {
    "collapsed": false
   },
   "outputs": [
    {
     "name": "stdout",
     "output_type": "stream",
     "text": [
      "-1001.0\n"
     ]
    }
   ],
   "source": [
    "old_s = env.reset()\n",
    "done = False\n",
    "r = 0\n",
    "while not done:\n",
    "#     env.render('human')\n",
    "#     print old_s\n",
    "    a = sess.run(ql.act_s1, {ql.state1: np.reshape(old_s, (1, -1)),\n",
    "                             ql.is_training: False})\n",
    "    old_s, reward, done, _ = env.step(a[0])\n",
    "    r += reward\n",
    "    \n",
    "    if r < -1000:\n",
    "        break\n",
    "    \n",
    "print r"
   ]
  },
  {
   "cell_type": "markdown",
   "metadata": {},
   "source": [
    "----------------"
   ]
  },
  {
   "cell_type": "code",
   "execution_count": null,
   "metadata": {
    "collapsed": true
   },
   "outputs": [],
   "source": []
  },
  {
   "cell_type": "code",
   "execution_count": 283,
   "metadata": {
    "collapsed": false
   },
   "outputs": [
    {
     "data": {
      "text/plain": [
       "[u'model/adv_hid/BatchNorm/moving_mean:0',\n",
       " u'model/hidden1/BatchNorm/moving_mean:0',\n",
       " u'model/advantage/biases:0',\n",
       " u'model/advantage/weights:0',\n",
       " u'model/val_hid/BatchNorm/moving_mean:0',\n",
       " u'model/val_hid/weights:0',\n",
       " u'model/val_hid/BatchNorm/beta:0',\n",
       " u'model/val_hid/BatchNorm/moving_variance:0',\n",
       " u'model/hidden2/BatchNorm/moving_mean:0',\n",
       " u'model/hidden2/BatchNorm/beta:0',\n",
       " u'model/hidden2/weights:0',\n",
       " u'model/hidden1/weights:0',\n",
       " u'model/adv_hid/weights:0',\n",
       " u'model/value/weights:0',\n",
       " u'model/value/biases:0',\n",
       " u'model/hidden1/BatchNorm/moving_variance:0',\n",
       " u'model/hidden2/BatchNorm/moving_variance:0',\n",
       " u'model/hidden1/BatchNorm/beta:0',\n",
       " u'model/adv_hid/BatchNorm/moving_variance:0',\n",
       " u'model/adv_hid/BatchNorm/beta:0']"
      ]
     },
     "execution_count": 283,
     "metadata": {},
     "output_type": "execute_result"
    }
   ],
   "source": [
    "network_vars.keys()"
   ]
  },
  {
   "cell_type": "code",
   "execution_count": 23,
   "metadata": {
    "collapsed": true
   },
   "outputs": [],
   "source": [
    "def ReLu(x):\n",
    "    return np.maximum(x, 0)"
   ]
  },
  {
   "cell_type": "code",
   "execution_count": 220,
   "metadata": {
    "collapsed": true
   },
   "outputs": [],
   "source": [
    "def BatchNorm(state, network_vars, key):\n",
    "    eps = 0.001\n",
    "    inv = 1.0 / np.sqrt(network_vars[key + '/moving_variance:0'] + eps)\n",
    "\n",
    "    return state * inv + (network_vars[key + '/beta:0'] - network_vars[key + '/moving_mean:0'] * inv)"
   ]
  },
  {
   "cell_type": "code",
   "execution_count": 279,
   "metadata": {
    "collapsed": true
   },
   "outputs": [],
   "source": [
    "class QFunction(object):\n",
    "    def __init__(self, network_vars):\n",
    "        self.vars = network_vars\n",
    "\n",
    "    def Q(self, state):\n",
    "        state = np.matmul(state, self.vars['model/hidden1/weights:0'])\n",
    "        # state += self.vars['model/hidden1/biases:0']\n",
    "        state = BatchNorm(state, self.vars, 'model/hidden1/BatchNorm')\n",
    "        state = ReLu(state)\n",
    "\n",
    "        state = np.matmul(state, self.vars['model/hidden2/weights:0'])\n",
    "        # state += self.vars['model/hidden2/biases:0']\n",
    "        state = BatchNorm(state, self.vars, 'model/hidden2/BatchNorm')\n",
    "        state = ReLu(state)\n",
    "\n",
    "        value = np.matmul(state, self.vars['model/val_hid/weights:0'])\n",
    "        value = BatchNorm(value, self.vars, 'model/val_hid/BatchNorm')\n",
    "        # value += self.vars['model/val_hid/biases:0']\n",
    "        value = ReLu(value)\n",
    "        value = np.matmul(value, self.vars['model/value/weights:0'])\n",
    "        value += self.vars['model/value/biases:0']\n",
    "\n",
    "        adv = np.matmul(state, self.vars['model/adv_hid/weights:0'])\n",
    "        adv = BatchNorm(adv, self.vars, 'model/adv_hid/BatchNorm')\n",
    "        # adv += self.vars['model/adv_hid/biases:0']\n",
    "        adv = ReLu(adv)\n",
    "        adv = np.matmul(adv, self.vars['model/advantage/weights:0'])\n",
    "        adv += self.vars['model/advantage/biases:0']\n",
    "\n",
    "        return value + (adv - adv.mean())"
   ]
  },
  {
   "cell_type": "code",
   "execution_count": 280,
   "metadata": {
    "collapsed": false
   },
   "outputs": [
    {
     "data": {
      "text/plain": [
       "array([[ 0.4263148 ,  0.27988333,  0.52581638,  0.42325473,  0.46426272,\n",
       "         0.47350475,  0.352005  ]], dtype=float32)"
      ]
     },
     "execution_count": 280,
     "metadata": {},
     "output_type": "execute_result"
    }
   ],
   "source": [
    "ql.pred_vars[6].eval({ql.state: ss, ql.is_training: False})"
   ]
  },
  {
   "cell_type": "code",
   "execution_count": 284,
   "metadata": {
    "collapsed": false
   },
   "outputs": [
    {
     "data": {
      "text/plain": [
       "array([[ 0.42631482,  0.27988335,  0.52581639,  0.4232547 ,  0.46426274,\n",
       "         0.47350477,  0.352005  ]])"
      ]
     },
     "execution_count": 284,
     "metadata": {},
     "output_type": "execute_result"
    }
   ],
   "source": [
    "QFunction(network_vars).Q(ss)"
   ]
  },
  {
   "cell_type": "code",
   "execution_count": null,
   "metadata": {
    "collapsed": true
   },
   "outputs": [],
   "source": []
  },
  {
   "cell_type": "code",
   "execution_count": null,
   "metadata": {
    "collapsed": true
   },
   "outputs": [],
   "source": []
  },
  {
   "cell_type": "code",
   "execution_count": null,
   "metadata": {
    "collapsed": true
   },
   "outputs": [],
   "source": []
  },
  {
   "cell_type": "code",
   "execution_count": 170,
   "metadata": {
    "collapsed": false
   },
   "outputs": [
    {
     "data": {
      "text/plain": [
       "array([ 1746.92163086,     0.        ,     0.        ,     0.        ,\n",
       "           0.        ,     0.        ,     0.        ,     0.        ,\n",
       "           0.        ,  3156.87939453], dtype=float32)"
      ]
     },
     "execution_count": 170,
     "metadata": {},
     "output_type": "execute_result"
    }
   ],
   "source": [
    "ql.q.eval(feed_dict)"
   ]
  },
  {
   "cell_type": "code",
   "execution_count": 174,
   "metadata": {
    "collapsed": false
   },
   "outputs": [
    {
     "data": {
      "text/plain": [
       "array([ 10.50465488,  10.50465488,  10.50465488,  10.50465488,\n",
       "        10.50465488,  10.50465488,  10.50465488,  10.50465488,\n",
       "        10.50465488,  10.50465488], dtype=float32)"
      ]
     },
     "execution_count": 174,
     "metadata": {},
     "output_type": "execute_result"
    }
   ],
   "source": [
    "ql.q_s1.eval(feed_dict)"
   ]
  },
  {
   "cell_type": "code",
   "execution_count": 173,
   "metadata": {
    "collapsed": false
   },
   "outputs": [],
   "source": [
    "sess.run(ql.copy_op)"
   ]
  },
  {
   "cell_type": "code",
   "execution_count": 138,
   "metadata": {
    "collapsed": false
   },
   "outputs": [
    {
     "data": {
      "text/plain": [
       "array([ 2186.74389648,  6496.70410156,  2797.15771484,  4662.953125  ,\n",
       "           0.        ,  2761.18579102,  3284.98608398,  6556.95996094,\n",
       "        2748.39379883,     0.        ], dtype=float32)"
      ]
     },
     "execution_count": 138,
     "metadata": {},
     "output_type": "execute_result"
    }
   ],
   "source": [
    "Select(ql.pred_vars[2], ql.action).eval(feed_dict)"
   ]
  },
  {
   "cell_type": "code",
   "execution_count": 148,
   "metadata": {
    "collapsed": false
   },
   "outputs": [
    {
     "data": {
      "text/plain": [
       "array([ 2186.74389648,  6496.70410156,  2797.15771484,  4662.953125  ,\n",
       "           0.        ,  2761.18579102,  3284.98608398,  6556.95996094,\n",
       "        2748.39379883,     0.        ], dtype=float32)"
      ]
     },
     "execution_count": 148,
     "metadata": {},
     "output_type": "execute_result"
    }
   ],
   "source": [
    "tf.reduce_sum(ql.pred_vars[2] * tf.one_hot(ql.action, ql.num_actions), reduction_indices=1).eval(feed_dict)"
   ]
  },
  {
   "cell_type": "code",
   "execution_count": 93,
   "metadata": {
    "collapsed": false
   },
   "outputs": [
    {
     "data": {
      "text/plain": [
       "array([10,  7], dtype=int32)"
      ]
     },
     "execution_count": 93,
     "metadata": {},
     "output_type": "execute_result"
    }
   ],
   "source": [
    "tf.shape(ql.pred_vars[2]).eval(feed_dict)"
   ]
  },
  {
   "cell_type": "code",
   "execution_count": 51,
   "metadata": {
    "collapsed": false
   },
   "outputs": [
    {
     "data": {
      "text/plain": [
       "array([ 25.,  25.,  25.,  25.,  25.,  25.,  25.,  25.,  25.,  25.], dtype=float32)"
      ]
     },
     "execution_count": 51,
     "metadata": {},
     "output_type": "execute_result"
    }
   ],
   "source": [
    "ql.delta.eval()"
   ]
  },
  {
   "cell_type": "code",
   "execution_count": 40,
   "metadata": {
    "collapsed": false
   },
   "outputs": [
    {
     "data": {
      "text/plain": [
       "25.0"
      ]
     },
     "execution_count": 40,
     "metadata": {},
     "output_type": "execute_result"
    }
   ],
   "source": [
    "tf.reduce_mean(ql.delta).eval({ql.state: ss, ql.action: aa, ql.reward: rr, ql.state1:ss1, ql.gamma: gg})"
   ]
  },
  {
   "cell_type": "code",
   "execution_count": 283,
   "metadata": {
    "collapsed": false
   },
   "outputs": [
    {
     "data": {
      "text/plain": [
       "array([    0.        ,     0.        ,  2561.84985352,  2696.66064453,\n",
       "        3319.86474609,  2376.26171875,  2375.80859375,  2602.42016602,\n",
       "        2548.83056641,     0.        ], dtype=float32)"
      ]
     },
     "execution_count": 283,
     "metadata": {},
     "output_type": "execute_result"
    }
   ],
   "source": [
    "ql.q.eval({ql.state: ss, ql.action: aa})"
   ]
  },
  {
   "cell_type": "code",
   "execution_count": 284,
   "metadata": {
    "collapsed": false
   },
   "outputs": [
    {
     "data": {
      "text/plain": [
       "array([ 9.87346268,  9.87346268,  9.87346268,  9.87346268,  9.87346268,\n",
       "        9.87346268,  9.87346268,  9.87346268,  9.87346268,  9.87346268], dtype=float32)"
      ]
     },
     "execution_count": 284,
     "metadata": {},
     "output_type": "execute_result"
    }
   ],
   "source": [
    "ql.q_s1.eval({ql.state1: ss1})"
   ]
  },
  {
   "cell_type": "code",
   "execution_count": null,
   "metadata": {
    "collapsed": true
   },
   "outputs": [],
   "source": []
  }
 ],
 "metadata": {
  "anaconda-cloud": {},
  "kernelspec": {
   "display_name": "Python [conda root]",
   "language": "python",
   "name": "conda-root-py"
  },
  "language_info": {
   "codemirror_mode": {
    "name": "ipython",
    "version": 2
   },
   "file_extension": ".py",
   "mimetype": "text/x-python",
   "name": "python",
   "nbconvert_exporter": "python",
   "pygments_lexer": "ipython2",
   "version": "2.7.12"
  }
 },
 "nbformat": 4,
 "nbformat_minor": 1
}
