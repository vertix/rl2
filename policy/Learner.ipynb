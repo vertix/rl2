{
 "cells": [
  {
   "cell_type": "code",
   "execution_count": 1,
   "metadata": {
    "collapsed": true
   },
   "outputs": [],
   "source": [
    "import random"
   ]
  },
  {
   "cell_type": "code",
   "execution_count": 2,
   "metadata": {
    "collapsed": true
   },
   "outputs": [],
   "source": [
    "import tensorflow as tf\n",
    "import numpy as np\n",
    "\n",
    "import zmq"
   ]
  },
  {
   "cell_type": "code",
   "execution_count": 3,
   "metadata": {
    "collapsed": true
   },
   "outputs": [],
   "source": [
    "exp_socket_addr = \"tcp://127.0.0.1:19884\" \n",
    "max_actions = 7\n",
    "strat_socket_addr = \"tcp://127.0.0.1:19885\""
   ]
  },
  {
   "cell_type": "code",
   "execution_count": 4,
   "metadata": {
    "collapsed": true
   },
   "outputs": [],
   "source": [
    "context = zmq.Context()\n",
    "sock_exp = context.socket(zmq.REP)\n",
    "sock_exp.bind(exp_socket_addr)"
   ]
  },
  {
   "cell_type": "code",
   "execution_count": 5,
   "metadata": {
    "collapsed": true
   },
   "outputs": [],
   "source": [
    "sock_strat = context.socket(zmq.PUB)\n",
    "sock_strat.bind(strat_socket_addr)"
   ]
  },
  {
   "cell_type": "code",
   "execution_count": 6,
   "metadata": {
    "collapsed": true
   },
   "outputs": [],
   "source": [
    "GAMMA = 0.999\n",
    "LEARNING_RATE = 0.001"
   ]
  },
  {
   "cell_type": "code",
   "execution_count": 7,
   "metadata": {
    "collapsed": false
   },
   "outputs": [],
   "source": [
    "class ExperienceBuffer(object):\n",
    "    def __init__(self, buffer_size = 50000):\n",
    "        self.ss, self.aa, self.rr, self.ss1, self.gg = None, None, None, None, None\n",
    "        self.buffer_size = buffer_size\n",
    "        self.inserted = 0\n",
    "    \n",
    "    def add(self, s, a, r, s1):\n",
    "        if self.ss is None:\n",
    "            # Initialize\n",
    "            state_size = len(s)\n",
    "            self.ss = np.zeros((state_size, self.buffer_size))\n",
    "            self.aa = np.zeros(self.buffer_size, dtype=np.int16)\n",
    "            self.ss1 = np.zeros((state_size, self.buffer_size))\n",
    "            self.rr = np.zeros(self.buffer_size)\n",
    "            self.gg = np.zeros(self.buffer_size)\n",
    "\n",
    "        cur_index = self.inserted % self.buffer_size\n",
    "        self.ss[:, cur_index] = s\n",
    "        self.aa[cur_index] = a\n",
    "        self.rr[cur_index] = r\n",
    "        if s1 is not None:\n",
    "            self.ss[:, cur_index] = s1\n",
    "            self.gg[cur_index] = GAMMA\n",
    "        else:\n",
    "            self.ss[:, cur_index] = s\n",
    "            self.gg[cur_index] = 0.\n",
    "        \n",
    "        self.inserted += 1\n",
    "\n",
    "    @property\n",
    "    def state_size(self):\n",
    "        return None if self.ss is None else self.ss.shape[0]\n",
    "            \n",
    "    def sample(self, size):\n",
    "        if size > self.inserted:\n",
    "            return None, None, None, None, None\n",
    "\n",
    "        indexes = random.sample(range(min(self.inserted, self.buffer_size)), size)\n",
    "\n",
    "        return (np.transpose(self.ss[:,indexes]), self.aa[indexes], self.rr[indexes],\n",
    "                np.transpose(self.ss1[:, indexes]), self.gg[indexes])"
   ]
  },
  {
   "cell_type": "code",
   "execution_count": 9,
   "metadata": {
    "collapsed": false
   },
   "outputs": [],
   "source": [
    "for _ in range(50):\n",
    "    msg = sock_exp.recv_pyobj()\n",
    "    sock_exp.send('Ok')\n",
    "\n",
    "    buf.add(msg['s'], msg['a'], msg['r'], msg['s1'])"
   ]
  },
  {
   "cell_type": "code",
   "execution_count": 239,
   "metadata": {
    "collapsed": true
   },
   "outputs": [],
   "source": [
    "def CreateNetwork(state, num_actions, scope, reuse=False):\n",
    "    hidden1 = tf.contrib.layers.relu(\n",
    "        state, 20,\n",
    "        weights_initializer=tf.truncated_normal_initializer(stddev=1.),\n",
    "        biases_initializer=tf.constant_initializer(0.1),\n",
    "        scope=scope + '/hidden1', reuse=reuse)\n",
    "    hidden2 = tf.contrib.layers.relu(\n",
    "        hidden1, 20,\n",
    "        weights_initializer=tf.truncated_normal_initializer(stddev=1.),\n",
    "        biases_initializer=tf.constant_initializer(0.1),\n",
    "        scope=scope + '/hidden2', reuse=reuse)\n",
    "    output = tf.contrib.layers.linear(hidden2, num_actions,\n",
    "                                      biases_initializer=tf.constant_initializer(10.),\n",
    "                                      scope=scope + '/output',\n",
    "                                      reuse=reuse)\n",
    "    return hidden1, hidden2, output"
   ]
  },
  {
   "cell_type": "code",
   "execution_count": 107,
   "metadata": {
    "collapsed": true
   },
   "outputs": [],
   "source": [
    "def Select(value, index):\n",
    "    # Value - float tensor of (batch, actions) size\n",
    "    # index - int32 tensor of (batch) size\n",
    "    # returns float tensor of batch size where in every batch the element from index is selected\n",
    "    batch_size = tf.shape(value)[0]\n",
    "    _range = tf.range(0, batch_size)\n",
    "    ind = tf.concat(1, [tf.expand_dims(_range, 1), \n",
    "                        tf.expand_dims(index, 1)])\n",
    "    return tf.gather_nd(value, ind)"
   ]
  },
  {
   "cell_type": "code",
   "execution_count": 149,
   "metadata": {
    "collapsed": true
   },
   "outputs": [],
   "source": [
    "def Select4(value, index):\n",
    "    # Value - float tensor of (batch, actions) size\n",
    "    # index - int32 tensor of (batch) size\n",
    "    # returns float tensor of batch size where in every batch the element from index is selected\n",
    "    shp = tf.shape(value)\n",
    "    return tf.reduce_sum(value * tf.one_hot(index, shp[1]), reduction_indices=1)"
   ]
  },
  {
   "cell_type": "code",
   "execution_count": 261,
   "metadata": {
    "collapsed": true
   },
   "outputs": [],
   "source": [
    "class QLearner(object):\n",
    "    def __init__(self, exp_buffer, num_actions, clip_error=5.):\n",
    "        self.exp_buffer = exp_buffer\n",
    "        self.num_actions = num_actions\n",
    "        \n",
    "        self.state = tf.placeholder(tf.float32, shape=[None, self.exp_buffer.state_size], name='state')\n",
    "        self.action = tf.placeholder(tf.int32, shape=[None], name='action')\n",
    "        self.reward = tf.placeholder(tf.float32, shape=[None], name='reward')\n",
    "        self.state1 = tf.placeholder(tf.float32, shape=[None, self.exp_buffer.state_size], name='state1')\n",
    "        self.gamma = tf.placeholder(tf.float32, shape=[None], name='gamma')\n",
    "        \n",
    "        self.pred_vars = CreateNetwork(self.state, num_actions, 'model')\n",
    "        self.pred_vars_s1 = CreateNetwork(self.state1, num_actions, 'model', True)                \n",
    "        self.target_vars = CreateNetwork(self.state1, num_actions, 'target')\n",
    "        \n",
    "        self.vars_pred = tf.get_collection(tf.GraphKeys.VARIABLES, 'model')\n",
    "        self.vars_target = tf.get_collection(tf.GraphKeys.VARIABLES, 'target')\n",
    "\n",
    "        self.copy_op = tf.group(\n",
    "            *[tf.assign(y, x) for x, y in zip(self.vars_pred, self.vars_target)]\n",
    "        )\n",
    "\n",
    "        self.act_s1 = tf.cast(tf.argmax(self.pred_vars_s1[-1], dimension=1), tf.int32)\n",
    "        # This complicated code just extracts from target Q-values the values\n",
    "        # selected by self.act_s1\n",
    "        self.q_s1 = Select4(self.target_vars[2], self.act_s1)\n",
    "        self.target_q = tf.stop_gradient(self.reward + self.gamma * self.q_s1)\n",
    "        self.q = Select4(self.pred_vars[2], self.action)\n",
    "\n",
    "        self.delta = self.target_q - self.q \n",
    "        self.delta = tf.clip_by_value(self.delta,\n",
    "                                      -clip_error,\n",
    "                                      clip_error)\n",
    "        self.loss = tf.reduce_mean(tf.square(self.delta))\n",
    "\n",
    "        self.global_step = tf.Variable(0, name='global_step', trainable=False)\n",
    "        optimizer = tf.train.AdamOptimizer(LEARNING_RATE)\n",
    "        # TODO: Clip gradients\n",
    "        self.train_op = optimizer.minimize(tf.reduce_mean(self.delta), self.global_step)\n",
    "        \n",
    "        tf.histogram_summary('TD Error', self.delta)\n",
    "        tf.scalar_summary(\"Loss\", self.loss)\n",
    "        tf.scalar_summary(\"Q Func\", tf.reduce_mean(self.q))\n",
    "        for v in self.vars_pred:\n",
    "            tf.histogram_summary(v.name, v)\n",
    "        \n",
    "        self.summary_op = tf.merge_all_summaries()\n",
    "        self.writer = None\n",
    "        self.cur_step = None\n",
    "\n",
    "    def step(self, sess, batch_size=32):\n",
    "        ss, aa, rr, ss1, gg = buf.sample(batch_size)\n",
    "        if ss is None:\n",
    "            return\n",
    "        \n",
    "        if self.writer is None:\n",
    "            self.writer = tf.train.SummaryWriter('/media/vertix/UHDD/tmp/tensorflow_logs/aicup')\n",
    "\n",
    "        feed_dict = {self.state: ss, self.action: aa, self.reward: rr, self.state1:ss1,\n",
    "                     self.gamma: gg}\n",
    "            \n",
    "        if self.cur_step and self.cur_step % 100 != 0:\n",
    "            self.cur_step, _ = sess.run([self.global_step, self.train_op], feed_dict)\n",
    "        else:\n",
    "            self.cur_step, _, smr = sess.run([self.global_step, self.train_op, self.summary_op], feed_dict)\n",
    "            self.writer.add_summary(smr, self.cur_step)\n",
    "        \n",
    "        if self.cur_step % 10000 == 0:\n",
    "            print 'Updated target network'\n",
    "            sess.run(self.copy_op)"
   ]
  },
  {
   "cell_type": "code",
   "execution_count": 264,
   "metadata": {
    "collapsed": true
   },
   "outputs": [],
   "source": [
    "buf = ExperienceBuffer(5 * 10 ** 6)  # 5 million experiences\n",
    "for _ in range(5):\n",
    "    msg = sock_exp.recv_pyobj()\n",
    "    sock_exp.send('Ok')\n",
    "    buf.add(msg['s'], msg['a'], msg['r'], msg['s1'])"
   ]
  },
  {
   "cell_type": "code",
   "execution_count": 265,
   "metadata": {
    "collapsed": false
   },
   "outputs": [],
   "source": [
    "sess.close()\n",
    "tf.reset_default_graph()\n",
    "sess = tf.InteractiveSession()"
   ]
  },
  {
   "cell_type": "code",
   "execution_count": 266,
   "metadata": {
    "collapsed": false
   },
   "outputs": [],
   "source": [
    "ql = QLearner(buf, 7)\n",
    "# feed_dict = {ql.state: ss, ql.action: aa, ql.reward: rr, ql.state1:ss1, ql.gamma: gg}\n",
    "sess.run(tf.initialize_all_variables())"
   ]
  },
  {
   "cell_type": "code",
   "execution_count": null,
   "metadata": {
    "collapsed": false,
    "scrolled": false
   },
   "outputs": [],
   "source": [
    "for i in range(11002):\n",
    "    msg = sock_exp.recv_pyobj()\n",
    "    sock_exp.send('Ok')\n",
    "\n",
    "    buf.add(msg['s'], msg['a'], msg['r'], msg['s1'])\n",
    "    \n",
    "    ql.step(sess)\n",
    "\n",
    "    if i > 0 and i % 1000 == 0:\n",
    "        sock_strat.send_pyobj({v.name: sess.run(v)\n",
    "                               for v in ql.vars_pred})"
   ]
  },
  {
   "cell_type": "code",
   "execution_count": 213,
   "metadata": {
    "collapsed": true
   },
   "outputs": [],
   "source": [
    "ss, aa, rr, ss1, gg = buf.sample(1)"
   ]
  },
  {
   "cell_type": "code",
   "execution_count": null,
   "metadata": {
    "collapsed": true
   },
   "outputs": [],
   "source": []
  },
  {
   "cell_type": "code",
   "execution_count": null,
   "metadata": {
    "collapsed": true
   },
   "outputs": [],
   "source": []
  },
  {
   "cell_type": "code",
   "execution_count": 209,
   "metadata": {
    "collapsed": false
   },
   "outputs": [
    {
     "data": {
      "text/plain": [
       "[u'model/hidden1/biases:0',\n",
       " u'model/hidden2/biases:0',\n",
       " u'model/output/biases:0',\n",
       " u'model/output/weights:0',\n",
       " u'model/hidden1/weights:0',\n",
       " u'model/hidden2/weights:0']"
      ]
     },
     "execution_count": 209,
     "metadata": {},
     "output_type": "execute_result"
    }
   ],
   "source": [
    "network_vars.keys()"
   ]
  },
  {
   "cell_type": "code",
   "execution_count": 210,
   "metadata": {
    "collapsed": true
   },
   "outputs": [],
   "source": [
    "def ReLu(x):\n",
    "    return np.maximum(x, 0)"
   ]
  },
  {
   "cell_type": "code",
   "execution_count": 237,
   "metadata": {
    "collapsed": true
   },
   "outputs": [],
   "source": [
    "def ComputeQ(state, network_vars):\n",
    "    state = np.matmul(state, network_vars['model/hidden1/weights:0'])\n",
    "    state += network_vars['model/hidden1/biases:0']\n",
    "    state = ReLu(state)\n",
    "    \n",
    "    state = np.matmul(state, network_vars['model/hidden2/weights:0'])\n",
    "    state += network_vars['model/hidden2/biases:0']\n",
    "    state = ReLu(state)\n",
    "\n",
    "    state = np.matmul(state, network_vars['model/output/weights:0'])\n",
    "    state += network_vars['model/output/biases:0']\n",
    "    return state"
   ]
  },
  {
   "cell_type": "code",
   "execution_count": 244,
   "metadata": {
    "collapsed": false
   },
   "outputs": [
    {
     "data": {
      "text/plain": [
       "array([[ 25242.28515625,  34222.109375  ,  13944.6875    ,  20922.26367188,\n",
       "        -30307.70703125, -19805.37304688, -38147.6875    ]], dtype=float32)"
      ]
     },
     "execution_count": 244,
     "metadata": {},
     "output_type": "execute_result"
    }
   ],
   "source": [
    "ql.pred_vars[2].eval({ql.state: ss})"
   ]
  },
  {
   "cell_type": "code",
   "execution_count": 221,
   "metadata": {
    "collapsed": false
   },
   "outputs": [
    {
     "data": {
      "text/plain": [
       "((1, 414), (20,))"
      ]
     },
     "execution_count": 221,
     "metadata": {},
     "output_type": "execute_result"
    }
   ],
   "source": [
    "ss.shape, network_vars['model/hidden1/biases:0'].shape"
   ]
  },
  {
   "cell_type": "code",
   "execution_count": 246,
   "metadata": {
    "collapsed": false
   },
   "outputs": [
    {
     "data": {
      "text/plain": [
       "1"
      ]
     },
     "execution_count": 246,
     "metadata": {},
     "output_type": "execute_result"
    }
   ],
   "source": [
    "np.argmax(ComputeQ(ss, network_vars))"
   ]
  },
  {
   "cell_type": "code",
   "execution_count": 200,
   "metadata": {
    "collapsed": false
   },
   "outputs": [],
   "source": [
    "_b = _a.value()"
   ]
  },
  {
   "cell_type": "code",
   "execution_count": 204,
   "metadata": {
    "collapsed": false
   },
   "outputs": [
    {
     "data": {
      "text/plain": [
       "(414, 20)"
      ]
     },
     "execution_count": 204,
     "metadata": {},
     "output_type": "execute_result"
    }
   ],
   "source": [
    "_b.eval(session=sess).shape"
   ]
  },
  {
   "cell_type": "code",
   "execution_count": null,
   "metadata": {
    "collapsed": true
   },
   "outputs": [],
   "source": []
  },
  {
   "cell_type": "code",
   "execution_count": null,
   "metadata": {
    "collapsed": true
   },
   "outputs": [],
   "source": []
  },
  {
   "cell_type": "code",
   "execution_count": null,
   "metadata": {
    "collapsed": true
   },
   "outputs": [],
   "source": []
  },
  {
   "cell_type": "code",
   "execution_count": 170,
   "metadata": {
    "collapsed": false
   },
   "outputs": [
    {
     "data": {
      "text/plain": [
       "array([ 1746.92163086,     0.        ,     0.        ,     0.        ,\n",
       "           0.        ,     0.        ,     0.        ,     0.        ,\n",
       "           0.        ,  3156.87939453], dtype=float32)"
      ]
     },
     "execution_count": 170,
     "metadata": {},
     "output_type": "execute_result"
    }
   ],
   "source": [
    "ql.q.eval(feed_dict)"
   ]
  },
  {
   "cell_type": "code",
   "execution_count": 174,
   "metadata": {
    "collapsed": false
   },
   "outputs": [
    {
     "data": {
      "text/plain": [
       "array([ 10.50465488,  10.50465488,  10.50465488,  10.50465488,\n",
       "        10.50465488,  10.50465488,  10.50465488,  10.50465488,\n",
       "        10.50465488,  10.50465488], dtype=float32)"
      ]
     },
     "execution_count": 174,
     "metadata": {},
     "output_type": "execute_result"
    }
   ],
   "source": [
    "ql.q_s1.eval(feed_dict)"
   ]
  },
  {
   "cell_type": "code",
   "execution_count": 173,
   "metadata": {
    "collapsed": false
   },
   "outputs": [],
   "source": [
    "sess.run(ql.copy_op)"
   ]
  },
  {
   "cell_type": "code",
   "execution_count": 138,
   "metadata": {
    "collapsed": false
   },
   "outputs": [
    {
     "data": {
      "text/plain": [
       "array([ 2186.74389648,  6496.70410156,  2797.15771484,  4662.953125  ,\n",
       "           0.        ,  2761.18579102,  3284.98608398,  6556.95996094,\n",
       "        2748.39379883,     0.        ], dtype=float32)"
      ]
     },
     "execution_count": 138,
     "metadata": {},
     "output_type": "execute_result"
    }
   ],
   "source": [
    "Select(ql.pred_vars[2], ql.action).eval(feed_dict)"
   ]
  },
  {
   "cell_type": "code",
   "execution_count": 148,
   "metadata": {
    "collapsed": false
   },
   "outputs": [
    {
     "data": {
      "text/plain": [
       "array([ 2186.74389648,  6496.70410156,  2797.15771484,  4662.953125  ,\n",
       "           0.        ,  2761.18579102,  3284.98608398,  6556.95996094,\n",
       "        2748.39379883,     0.        ], dtype=float32)"
      ]
     },
     "execution_count": 148,
     "metadata": {},
     "output_type": "execute_result"
    }
   ],
   "source": [
    "tf.reduce_sum(ql.pred_vars[2] * tf.one_hot(ql.action, ql.num_actions), reduction_indices=1).eval(feed_dict)"
   ]
  },
  {
   "cell_type": "code",
   "execution_count": 93,
   "metadata": {
    "collapsed": false
   },
   "outputs": [
    {
     "data": {
      "text/plain": [
       "array([10,  7], dtype=int32)"
      ]
     },
     "execution_count": 93,
     "metadata": {},
     "output_type": "execute_result"
    }
   ],
   "source": [
    "tf.shape(ql.pred_vars[2]).eval(feed_dict)"
   ]
  },
  {
   "cell_type": "code",
   "execution_count": 51,
   "metadata": {
    "collapsed": false
   },
   "outputs": [
    {
     "data": {
      "text/plain": [
       "array([ 25.,  25.,  25.,  25.,  25.,  25.,  25.,  25.,  25.,  25.], dtype=float32)"
      ]
     },
     "execution_count": 51,
     "metadata": {},
     "output_type": "execute_result"
    }
   ],
   "source": [
    "ql.delta.eval()"
   ]
  },
  {
   "cell_type": "code",
   "execution_count": 40,
   "metadata": {
    "collapsed": false
   },
   "outputs": [
    {
     "data": {
      "text/plain": [
       "25.0"
      ]
     },
     "execution_count": 40,
     "metadata": {},
     "output_type": "execute_result"
    }
   ],
   "source": [
    "tf.reduce_mean(ql.delta).eval({ql.state: ss, ql.action: aa, ql.reward: rr, ql.state1:ss1, ql.gamma: gg})"
   ]
  },
  {
   "cell_type": "code",
   "execution_count": 283,
   "metadata": {
    "collapsed": false
   },
   "outputs": [
    {
     "data": {
      "text/plain": [
       "array([    0.        ,     0.        ,  2561.84985352,  2696.66064453,\n",
       "        3319.86474609,  2376.26171875,  2375.80859375,  2602.42016602,\n",
       "        2548.83056641,     0.        ], dtype=float32)"
      ]
     },
     "execution_count": 283,
     "metadata": {},
     "output_type": "execute_result"
    }
   ],
   "source": [
    "ql.q.eval({ql.state: ss, ql.action: aa})"
   ]
  },
  {
   "cell_type": "code",
   "execution_count": 284,
   "metadata": {
    "collapsed": false
   },
   "outputs": [
    {
     "data": {
      "text/plain": [
       "array([ 9.87346268,  9.87346268,  9.87346268,  9.87346268,  9.87346268,\n",
       "        9.87346268,  9.87346268,  9.87346268,  9.87346268,  9.87346268], dtype=float32)"
      ]
     },
     "execution_count": 284,
     "metadata": {},
     "output_type": "execute_result"
    }
   ],
   "source": [
    "ql.q_s1.eval({ql.state1: ss1})"
   ]
  },
  {
   "cell_type": "code",
   "execution_count": null,
   "metadata": {
    "collapsed": true
   },
   "outputs": [],
   "source": []
  }
 ],
 "metadata": {
  "anaconda-cloud": {},
  "kernelspec": {
   "display_name": "Python [conda root]",
   "language": "python",
   "name": "conda-root-py"
  },
  "language_info": {
   "codemirror_mode": {
    "name": "ipython",
    "version": 2
   },
   "file_extension": ".py",
   "mimetype": "text/x-python",
   "name": "python",
   "nbconvert_exporter": "python",
   "pygments_lexer": "ipython2",
   "version": "2.7.12"
  }
 },
 "nbformat": 4,
 "nbformat_minor": 1
}
