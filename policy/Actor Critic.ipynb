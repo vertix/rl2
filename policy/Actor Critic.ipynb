{
 "cells": [
  {
   "cell_type": "code",
   "execution_count": 2,
   "metadata": {
    "collapsed": true
   },
   "outputs": [],
   "source": [
    "%config InlineBackend.figure_format = 'retina'"
   ]
  },
  {
   "cell_type": "code",
   "execution_count": 3,
   "metadata": {
    "collapsed": true
   },
   "outputs": [],
   "source": [
    "import random\n",
    "import time"
   ]
  },
  {
   "cell_type": "code",
   "execution_count": 4,
   "metadata": {
    "collapsed": true
   },
   "outputs": [],
   "source": [
    "import tensorflow as tf\n",
    "import numpy as np\n",
    "\n",
    "import zmq"
   ]
  },
  {
   "cell_type": "code",
   "execution_count": 5,
   "metadata": {
    "collapsed": true
   },
   "outputs": [],
   "source": [
    "from learner import *"
   ]
  },
  {
   "cell_type": "code",
   "execution_count": 1,
   "metadata": {
    "collapsed": true
   },
   "outputs": [],
   "source": [
    "exp_socket_addr = \"tcp://127.0.0.1:39884\"\n",
    "max_actions = 7\n",
    "vars_socket_addr = \"tcp://127.0.0.1:39885\""
   ]
  },
  {
   "cell_type": "code",
   "execution_count": 57,
   "metadata": {
    "collapsed": false
   },
   "outputs": [],
   "source": [
    "context = zmq.Context()\n",
    "sock_exp = context.socket(zmq.REP)\n",
    "sock_exp.bind(exp_socket_addr)"
   ]
  },
  {
   "cell_type": "code",
   "execution_count": 58,
   "metadata": {
    "collapsed": true
   },
   "outputs": [],
   "source": [
    "sock_vars = context.socket(zmq.PUB)\n",
    "sock_vars.bind(vars_socket_addr)"
   ]
  },
  {
   "cell_type": "code",
   "execution_count": 8,
   "metadata": {
    "collapsed": true
   },
   "outputs": [],
   "source": [
    "NUM_HIDDEN = 128"
   ]
  },
  {
   "cell_type": "code",
   "execution_count": 122,
   "metadata": {
    "collapsed": false
   },
   "outputs": [],
   "source": [
    "def CreateNetworks(state, num_actions, is_training=True, reuse=False):\n",
    "    with tf.variable_scope('common'):\n",
    "        hidden1 = tf.contrib.layers.relu(\n",
    "            state, NUM_HIDDEN,\n",
    "            weights_initializer=tf.truncated_normal_initializer(stddev=0.01),\n",
    "            biases_initializer=tf.constant_initializer(0.01),\n",
    "#             normalizer_fn=tf.contrib.layers.batch_norm,\n",
    "#             normalizer_params={'is_training': is_training},\n",
    "            scope='hidden1',\n",
    "            reuse=reuse)\n",
    "        hidden2 = tf.contrib.layers.relu(\n",
    "            hidden1, NUM_HIDDEN,\n",
    "            weights_initializer=tf.truncated_normal_initializer(stddev=0.01),\n",
    "            biases_initializer=tf.constant_initializer(0.01),\n",
    "#             normalizer_fn=tf.contrib.layers.batch_norm,\n",
    "#             normalizer_params={'is_training': is_training},\n",
    "            scope='hidden2',\n",
    "            reuse=reuse)\n",
    "    \n",
    "    with tf.variable_scope('value'):\n",
    "        value = tf.contrib.layers.linear(hidden2, 1,\n",
    "                                         weights_initializer=tf.truncated_normal_initializer(stddev=0.01),\n",
    "                                         scope='value',\n",
    "                                         reuse=reuse)\n",
    "        value = tf.squeeze(value)\n",
    "#         return value\n",
    "    if not reuse:\n",
    "        with tf.variable_scope('policy'):\n",
    "            logits = tf.contrib.layers.linear(hidden2, num_actions,\n",
    "                                              weights_initializer=tf.truncated_normal_initializer(stddev=0.01),\n",
    "                                              scope='policy',\n",
    "                                              reuse=reuse)\n",
    "    else:\n",
    "        logits = None\n",
    "    return logits, value"
   ]
  },
  {
   "cell_type": "code",
   "execution_count": 123,
   "metadata": {
    "collapsed": true
   },
   "outputs": [],
   "source": [
    "DEFAULT_OPTIONS = {\n",
    "    'clip_grad': 5.,\n",
    "    'learning_rate': 0.001,\n",
    "}"
   ]
  },
  {
   "cell_type": "code",
   "execution_count": 124,
   "metadata": {
    "collapsed": true
   },
   "outputs": [],
   "source": [
    "def HuberLoss(tensor, boundary):\n",
    "    abs_x = tf.abs(tensor)\n",
    "    delta = boundary\n",
    "    quad = tf.minimum(abs_x, delta)\n",
    "    lin = (abs_x - quad)\n",
    "    return 0.5 * quad**2 + delta * lin"
   ]
  },
  {
   "cell_type": "code",
   "execution_count": 125,
   "metadata": {
    "collapsed": true
   },
   "outputs": [],
   "source": [
    "class ActorCritic(object):\n",
    "    def __init__(self, build_networks, state_size, options=DEFAULT_OPTIONS):\n",
    "        self._options = options\n",
    "        with tf.device('/cpu:0'):\n",
    "            self.state = tf.placeholder(tf.float32, shape=[None, state_size], name='state')\n",
    "            self.action = tf.placeholder(tf.int32, shape=[None], name='action')\n",
    "            self.reward = tf.placeholder(tf.float32, shape=[None], name='reward')\n",
    "            self.state1 = tf.placeholder(tf.float32, shape=[None, state_size], name='state1')\n",
    "            self.gamma = tf.placeholder(tf.float32, shape=[None], name='gamma')\n",
    "            self.is_training = tf.placeholder(tf.bool, shape=None, name='is_training')\n",
    "\n",
    "            self.logits, self.baseline = build_networks(self.state,\n",
    "                                                        is_training=self.is_training, reuse=False)\n",
    "            _,  self.baseline1 = build_networks(self.state1, is_training=False, reuse=True)\n",
    "            self.tf_policy = tf.reshape(tf.multinomial(self.logits, 1), [])\n",
    "\n",
    "            self.vars = tf.get_collection(tf.GraphKeys.VARIABLES)\n",
    "            \n",
    "            # Experimental\n",
    "            self.rolled_baseline = tf.stop_gradient(self.reward + self.gamma * self.baseline1)\n",
    "            self.advantage = self.rolled_baseline - self.baseline\n",
    "            \n",
    "            self.cross_entropy = tf.nn.sparse_softmax_cross_entropy_with_logits(self.logits, self.action)\n",
    "            self.policy_loss = tf.reduce_mean(\n",
    "                tf.mul(self.cross_entropy, tf.stop_gradient(self.advantage)))\n",
    "            \n",
    "            self.value_loss = 0.5 * tf.reduce_mean(HuberLoss(self.advantage, 5))\n",
    "\n",
    "            self.policy_entropy = tf.reduce_mean(-tf.nn.softmax(self.logits) * \n",
    "                                                 tf.nn.log_softmax(self.logits))\n",
    "\n",
    "#             loss = self.value_loss\n",
    "            loss = self.policy_loss + 0.25 * self.value_loss - 0.01 * self.policy_entropy\n",
    "\n",
    "            self.optimizer = tf.train.AdamOptimizer(options['learning_rate'])\n",
    "            grads = self.optimizer.compute_gradients(loss, tf.get_collection(tf.GraphKeys.VARIABLES))\n",
    "            if 'clip_grad' in options:\n",
    "                grads = [(tf.clip_by_norm(g, options['clip_grad']) if g is not None else None, v)\n",
    "                         for g, v in grads]\n",
    "\n",
    "            for grad, var in grads:\n",
    "                tf.histogram_summary(var.name, var)\n",
    "                if grad is not None:\n",
    "                    tf.histogram_summary('{}/grad'.format(var.name), grad)            \n",
    "\n",
    "            self.global_step = tf.Variable(0, name='global_step', trainable=False)\n",
    "            self.train_op = self.optimizer.apply_gradients(grads, self.global_step)\n",
    "            \n",
    "            tf.histogram_summary(\"Predicted baseline\", self.baseline)\n",
    "            tf.histogram_summary(\"TD error\", self.advantage)\n",
    "            tf.scalar_summary(\"Loss/Actor\", self.policy_loss)\n",
    "            tf.scalar_summary(\"Loss/Critic\", self.value_loss)\n",
    "            tf.scalar_summary(\"Loss/Entropy\", self.policy_entropy)\n",
    "            tf.scalar_summary(\"Loss/Total\", loss)\n",
    "\n",
    "            self.summary_op = tf.merge_all_summaries()\n",
    "\n",
    "    def Init(self, sess, run_id):\n",
    "        sess.run(tf.initialize_all_variables())\n",
    "        self.writer = tf.train.SummaryWriter(\n",
    "            '/Users/vertix/tf/tensorflow_logs/aicup/%s'  % run_id\n",
    "#             '/media/vertix/UHDD/tmp/tensorflow_logs/aicup/%s' % run_id\n",
    "        )\n",
    "        self.saver = tf.train.Saver(tf.get_collection(tf.GraphKeys.VARIABLES))\n",
    "        self.last_start = time.time()\n",
    "        self.cur_step = 0\n",
    "        self.writer.add_graph(tf.get_default_graph())\n",
    "\n",
    "    def Step(self, sess, batch):\n",
    "        ss, aa, rr, ss1, gg = batch        \n",
    "        feed_dict = {self.state: ss, self.action: aa, self.reward: rr, self.state1:ss1,\n",
    "                     self.gamma: gg, self.is_training: True}\n",
    "\n",
    "        if self.cur_step and self.cur_step % 100 != 0:\n",
    "            self.cur_step, _ = sess.run(\n",
    "                [self.global_step, self.train_op], feed_dict)\n",
    "        else:\n",
    "            self.cur_step, _, smr = sess.run(\n",
    "                [self.global_step, self.train_op, self.summary_op], feed_dict)\n",
    "            self.writer.add_summary(smr, self.cur_step)\n",
    "                    \n",
    "        if self.cur_step % 20000 == 0:\n",
    "            self.saver.save(sess, 'actor_critic', global_step=self.global_step)\n",
    "            if self.last_start is not None:\n",
    "                self.writer.add_summary(\n",
    "                    tf.Summary(\n",
    "                        value=[tf.Summary.Value(\n",
    "                                tag='Steps per sec',\n",
    "                                simple_value=20000 / (time.time() - self.last_start))]),\n",
    "                    self.cur_step)\n",
    "            self.last_start = time.time()\n",
    "\n",
    "    def Stat(self, data):\n",
    "        self.writer.add_summary(\n",
    "            tf.Summary(\n",
    "                value=[tf.Summary.Value(tag=name, simple_value=value)\n",
    "                       for name, value in data.items()]), self.cur_step)\n",
    "\n",
    "    def GetVars(self, sess):\n",
    "        vals = sess.run(self.vars)\n",
    "        return dict(zip([v.name for v in self.vars], vals))"
   ]
  },
  {
   "cell_type": "code",
   "execution_count": null,
   "metadata": {
    "collapsed": true
   },
   "outputs": [],
   "source": []
  },
  {
   "cell_type": "markdown",
   "metadata": {},
   "source": [
    "-------------------"
   ]
  },
  {
   "cell_type": "code",
   "execution_count": 107,
   "metadata": {
    "collapsed": false
   },
   "outputs": [],
   "source": [
    "sess.close()\n",
    "tf.reset_default_graph()\n",
    "sess = tf.InteractiveSession()"
   ]
  },
  {
   "cell_type": "code",
   "execution_count": 108,
   "metadata": {
    "collapsed": false
   },
   "outputs": [],
   "source": [
    "ac = ActorCritic(lambda x, **kwargs: CreateNetworks(x, 7, **kwargs), 814)"
   ]
  },
  {
   "cell_type": "code",
   "execution_count": 109,
   "metadata": {
    "collapsed": true
   },
   "outputs": [],
   "source": [
    "ac.Init(sess, 'pg4')"
   ]
  },
  {
   "cell_type": "code",
   "execution_count": 86,
   "metadata": {
    "collapsed": false
   },
   "outputs": [],
   "source": [
    "# ac.saver.restore(sess, 'ac-6300000')"
   ]
  },
  {
   "cell_type": "code",
   "execution_count": 114,
   "metadata": {
    "collapsed": true
   },
   "outputs": [
    {
     "ename": "KeyboardInterrupt",
     "evalue": "",
     "output_type": "error",
     "traceback": [
      "\u001b[0;31m---------------------------------------------------------------------------\u001b[0m",
      "\u001b[0;31mKeyboardInterrupt\u001b[0m                         Traceback (most recent call last)",
      "\u001b[0;32m<ipython-input-114-a9864043cdfe>\u001b[0m in \u001b[0;36m<module>\u001b[0;34m()\u001b[0m\n\u001b[1;32m      4\u001b[0m     \u001b[0msock_vars\u001b[0m\u001b[0;34m.\u001b[0m\u001b[0msend_pyobj\u001b[0m\u001b[0;34m(\u001b[0m\u001b[0mac\u001b[0m\u001b[0;34m.\u001b[0m\u001b[0mGetVars\u001b[0m\u001b[0;34m(\u001b[0m\u001b[0msess\u001b[0m\u001b[0;34m)\u001b[0m\u001b[0;34m)\u001b[0m\u001b[0;34m\u001b[0m\u001b[0m\n\u001b[1;32m      5\u001b[0m \u001b[0;34m\u001b[0m\u001b[0m\n\u001b[0;32m----> 6\u001b[0;31m     \u001b[0mmsg\u001b[0m \u001b[0;34m=\u001b[0m \u001b[0msock_exp\u001b[0m\u001b[0;34m.\u001b[0m\u001b[0mrecv_pyobj\u001b[0m\u001b[0;34m(\u001b[0m\u001b[0;34m)\u001b[0m\u001b[0;34m\u001b[0m\u001b[0m\n\u001b[0m\u001b[1;32m      7\u001b[0m     \u001b[0msock_exp\u001b[0m\u001b[0;34m.\u001b[0m\u001b[0msend\u001b[0m\u001b[0;34m(\u001b[0m\u001b[0;34m'Ok'\u001b[0m\u001b[0;34m)\u001b[0m\u001b[0;34m\u001b[0m\u001b[0m\n\u001b[1;32m      8\u001b[0m     \u001b[0;32mif\u001b[0m \u001b[0mmsg\u001b[0m\u001b[0;34m[\u001b[0m\u001b[0;34m'type'\u001b[0m\u001b[0;34m]\u001b[0m \u001b[0;34m==\u001b[0m \u001b[0;34m'exp'\u001b[0m\u001b[0;34m:\u001b[0m\u001b[0;34m\u001b[0m\u001b[0m\n",
      "\u001b[0;32m/Users/vertix/anaconda/lib/python2.7/site-packages/zmq/sugar/socket.pyc\u001b[0m in \u001b[0;36mrecv_pyobj\u001b[0;34m(self, flags)\u001b[0m\n\u001b[1;32m    434\u001b[0m             \u001b[0mThe\u001b[0m \u001b[0mPython\u001b[0m \u001b[0mobject\u001b[0m \u001b[0mthat\u001b[0m \u001b[0marrives\u001b[0m \u001b[0;32mas\u001b[0m \u001b[0ma\u001b[0m \u001b[0mmessage\u001b[0m\u001b[0;34m.\u001b[0m\u001b[0;34m\u001b[0m\u001b[0m\n\u001b[1;32m    435\u001b[0m         \"\"\"\n\u001b[0;32m--> 436\u001b[0;31m         \u001b[0ms\u001b[0m \u001b[0;34m=\u001b[0m \u001b[0mself\u001b[0m\u001b[0;34m.\u001b[0m\u001b[0mrecv\u001b[0m\u001b[0;34m(\u001b[0m\u001b[0mflags\u001b[0m\u001b[0;34m)\u001b[0m\u001b[0;34m\u001b[0m\u001b[0m\n\u001b[0m\u001b[1;32m    437\u001b[0m         \u001b[0;32mreturn\u001b[0m \u001b[0mpickle\u001b[0m\u001b[0;34m.\u001b[0m\u001b[0mloads\u001b[0m\u001b[0;34m(\u001b[0m\u001b[0ms\u001b[0m\u001b[0;34m)\u001b[0m\u001b[0;34m\u001b[0m\u001b[0m\n\u001b[1;32m    438\u001b[0m \u001b[0;34m\u001b[0m\u001b[0m\n",
      "\u001b[0;32mzmq/backend/cython/socket.pyx\u001b[0m in \u001b[0;36mzmq.backend.cython.socket.Socket.recv (zmq/backend/cython/socket.c:6971)\u001b[0;34m()\u001b[0m\n",
      "\u001b[0;32mzmq/backend/cython/socket.pyx\u001b[0m in \u001b[0;36mzmq.backend.cython.socket.Socket.recv (zmq/backend/cython/socket.c:6763)\u001b[0;34m()\u001b[0m\n",
      "\u001b[0;32mzmq/backend/cython/socket.pyx\u001b[0m in \u001b[0;36mzmq.backend.cython.socket._recv_copy (zmq/backend/cython/socket.c:1931)\u001b[0;34m()\u001b[0m\n",
      "\u001b[0;32m/Users/vertix/tf/lib/python2.7/site-packages/zmq/backend/cython/checkrc.pxd\u001b[0m in \u001b[0;36mzmq.backend.cython.checkrc._check_rc (zmq/backend/cython/socket.c:7222)\u001b[0;34m()\u001b[0m\n\u001b[1;32m     10\u001b[0m     \"\"\"\n\u001b[1;32m     11\u001b[0m     \u001b[0mcdef\u001b[0m \u001b[0mint\u001b[0m \u001b[0merrno\u001b[0m \u001b[0;34m=\u001b[0m \u001b[0mzmq_errno\u001b[0m\u001b[0;34m(\u001b[0m\u001b[0;34m)\u001b[0m\u001b[0;34m\u001b[0m\u001b[0m\n\u001b[0;32m---> 12\u001b[0;31m     \u001b[0mPyErr_CheckSignals\u001b[0m\u001b[0;34m(\u001b[0m\u001b[0;34m)\u001b[0m\u001b[0;34m\u001b[0m\u001b[0m\n\u001b[0m\u001b[1;32m     13\u001b[0m     \u001b[0;32mif\u001b[0m \u001b[0mrc\u001b[0m \u001b[0;34m==\u001b[0m \u001b[0;34m-\u001b[0m\u001b[0;36m1\u001b[0m\u001b[0;34m:\u001b[0m \u001b[0;31m# if rc < -1, it's a bug in libzmq. Should we warn?\u001b[0m\u001b[0;34m\u001b[0m\u001b[0m\n\u001b[1;32m     14\u001b[0m         \u001b[0;32mif\u001b[0m \u001b[0merrno\u001b[0m \u001b[0;34m==\u001b[0m \u001b[0mEINTR\u001b[0m\u001b[0;34m:\u001b[0m\u001b[0;34m\u001b[0m\u001b[0m\n",
      "\u001b[0;31mKeyboardInterrupt\u001b[0m: "
     ]
    }
   ],
   "source": [
    "# %%prun\n",
    "\n",
    "for i in range(15 * 10 ** 6):  # \n",
    "    sock_vars.send_pyobj(ac.GetVars(sess))\n",
    "\n",
    "    msg = sock_exp.recv_pyobj()\n",
    "    sock_exp.send('Ok')\n",
    "    if msg['type'] == 'exp':\n",
    "        msg = msg['data']\n",
    "\n",
    "        ac.Step(sess, (msg['s'], msg['a'].transpose(),\n",
    "                       msg['r'].transpose(), msg['s1'],\n",
    "                       msg['g'].transpose()))\n",
    "    elif msg['type'] == 'stat':\n",
    "        ac.Stat(msg['data'])"
   ]
  },
  {
   "cell_type": "code",
   "execution_count": 115,
   "metadata": {
    "collapsed": true
   },
   "outputs": [
    {
     "data": {
      "text/plain": [
       "{'a': array([2, 2, 2, 2, 2, 2, 2, 2, 2, 2, 2, 2, 2, 2, 2, 2, 2, 2, 2, 2], dtype=int32),\n",
       " 'g': array([ 0.995,  0.995,  0.995,  0.995,  0.995,  0.995,  0.995,  0.995,\n",
       "         0.995,  0.995,  0.995,  0.995,  0.995,  0.995,  0.995,  0.995,\n",
       "         0.995,  0.995,  0.995,  0.995]),\n",
       " 'r': array([  0,   0,   0,   0,   0,   0,   0,   0,   0,   0, 139,   0,   0,\n",
       "          0,   0,   0,   0,   0,   0,   0]),\n",
       " 's': array([[   110.,    110.,    107., ...,      0.,      0.,  13200.],\n",
       "        [   110.,    110.,    107., ...,      0.,      0.,  13199.],\n",
       "        [   110.,    110.,    107., ...,      0.,      0.,  13198.],\n",
       "        ..., \n",
       "        [   110.,    120.,    111., ...,      0.,      0.,  13183.],\n",
       "        [   110.,    120.,    111., ...,      0.,      0.,  13182.],\n",
       "        [   110.,    120.,     99., ...,      0.,      0.,  13181.]]),\n",
       " 's1': array([[   110.,    110.,    107., ...,      0.,      0.,  13199.],\n",
       "        [   110.,    110.,    107., ...,      0.,      0.,  13198.],\n",
       "        [   110.,    110.,    107., ...,      0.,      0.,  13197.],\n",
       "        ..., \n",
       "        [   110.,    120.,    111., ...,      0.,      0.,  13182.],\n",
       "        [   110.,    120.,     99., ...,      0.,      0.,  13181.],\n",
       "        [   110.,    120.,     99., ...,      0.,      0.,  13180.]])}"
      ]
     },
     "execution_count": 115,
     "metadata": {},
     "output_type": "execute_result"
    }
   ],
   "source": [
    "msg"
   ]
  },
  {
   "cell_type": "code",
   "execution_count": 116,
   "metadata": {
    "collapsed": false
   },
   "outputs": [],
   "source": [
    "feed_dict = {ac.state: msg['s'], ac.action: msg['a'], ac.reward: msg['r'], ac.state1:msg['s1'],\n",
    "             ac.gamma: msg['g'], ac.is_training: True}"
   ]
  },
  {
   "cell_type": "code",
   "execution_count": 117,
   "metadata": {
    "collapsed": false
   },
   "outputs": [
    {
     "data": {
      "text/plain": [
       "array([ 0.,  0.,  0.,  0.,  0.,  0.,  0.,  0.,  0.,  0.,  0.,  0.,  0.,\n",
       "        0.,  0.,  0.,  0.,  0.,  0.,  0.], dtype=float32)"
      ]
     },
     "execution_count": 117,
     "metadata": {},
     "output_type": "execute_result"
    }
   ],
   "source": [
    "ac.cross_entropy.eval(feed_dict)"
   ]
  },
  {
   "cell_type": "code",
   "execution_count": 119,
   "metadata": {
    "collapsed": false
   },
   "outputs": [
    {
     "data": {
      "text/plain": [
       "1.0010546e-14"
      ]
     },
     "execution_count": 119,
     "metadata": {},
     "output_type": "execute_result"
    }
   ],
   "source": [
    "ac.policy_entropy.eval(feed_dict)"
   ]
  },
  {
   "cell_type": "code",
   "execution_count": null,
   "metadata": {
    "collapsed": true
   },
   "outputs": [],
   "source": []
  },
  {
   "cell_type": "code",
   "execution_count": 148,
   "metadata": {
    "collapsed": false
   },
   "outputs": [
    {
     "name": "stdout",
     "output_type": "stream",
     "text": [
      "common/hidden1/weights:0\n",
      "common/hidden1/biases:0\n",
      "common/hidden2/weights:0\n",
      "common/hidden2/biases:0\n",
      "value/value/weights:0\n",
      "value/value/biases:0\n",
      "policy/policy/weights:0\n",
      "policy/policy/biases:0\n",
      "global_step:0\n",
      "beta1_power:0\n",
      "beta2_power:0\n",
      "common/hidden1/weights/Adam:0\n",
      "common/hidden1/weights/Adam_1:0\n",
      "common/hidden1/biases/Adam:0\n",
      "common/hidden1/biases/Adam_1:0\n",
      "common/hidden2/weights/Adam:0\n",
      "common/hidden2/weights/Adam_1:0\n",
      "common/hidden2/biases/Adam:0\n",
      "common/hidden2/biases/Adam_1:0\n",
      "value/value/weights/Adam:0\n",
      "value/value/weights/Adam_1:0\n",
      "value/value/biases/Adam:0\n",
      "value/value/biases/Adam_1:0\n",
      "policy/policy/weights/Adam:0\n",
      "policy/policy/weights/Adam_1:0\n",
      "policy/policy/biases/Adam:0\n",
      "policy/policy/biases/Adam_1:0\n"
     ]
    }
   ],
   "source": [
    "for v in tf.get_collection(tf.GraphKeys.VARIABLES):\n",
    "    print v.name"
   ]
  },
  {
   "cell_type": "code",
   "execution_count": 224,
   "metadata": {
    "collapsed": true
   },
   "outputs": [],
   "source": [
    "import cPickle\n",
    "\n",
    "def DumpVariables(filename):\n",
    "    network_vars = {}\n",
    "    for v in tf.get_collection(tf.GraphKeys.VARIABLES):\n",
    "        if '/' in v.name and 'Adam' not in v.name:\n",
    "            network_vars[v.name] = v.eval()\n",
    "    with open(filename, 'w') as f:\n",
    "        cPickle.dump(network_vars, f)        "
   ]
  },
  {
   "cell_type": "code",
   "execution_count": 225,
   "metadata": {
    "collapsed": true
   },
   "outputs": [],
   "source": [
    "DumpVariables('network')"
   ]
  },
  {
   "cell_type": "markdown",
   "metadata": {},
   "source": [
    "----------------"
   ]
  },
  {
   "cell_type": "code",
   "execution_count": 162,
   "metadata": {
    "collapsed": true
   },
   "outputs": [],
   "source": [
    "def ReLu(x):\n",
    "    return np.maximum(x, 0)"
   ]
  },
  {
   "cell_type": "code",
   "execution_count": 163,
   "metadata": {
    "collapsed": true
   },
   "outputs": [],
   "source": [
    "def BatchNorm(state, network_vars, key):\n",
    "    eps = 0.001\n",
    "    inv = 1.0 / np.sqrt(network_vars[key + '/moving_variance:0'] + eps)\n",
    "\n",
    "    return state * inv + (network_vars[key + '/beta:0'] - network_vars[key + '/moving_mean:0'] * inv)"
   ]
  },
  {
   "cell_type": "code",
   "execution_count": 164,
   "metadata": {
    "collapsed": true
   },
   "outputs": [],
   "source": [
    "def Softmax(state):\n",
    "    state -= np.max(state)\n",
    "    e = np.exp(state)\n",
    "    return e / np.sum(e)"
   ]
  },
  {
   "cell_type": "code",
   "execution_count": 205,
   "metadata": {
    "collapsed": true
   },
   "outputs": [],
   "source": [
    "class NNPolicy(object):\n",
    "    def __init__(self, network_vars):\n",
    "        self.vars = network_vars\n",
    "        self.actions = None\n",
    "\n",
    "    def Logits(self, state):\n",
    "        state = np.matmul(state, self.vars['common/hidden1/weights:0'])\n",
    "        state += self.vars['common/hidden1/biases:0']\n",
    "        state = ReLu(state)\n",
    "\n",
    "        state = np.matmul(state, self.vars['common/hidden2/weights:0'])\n",
    "        state += self.vars['common/hidden2/biases:0']\n",
    "        state = ReLu(state)\n",
    "\n",
    "        logits = np.matmul(state, self.vars['policy/policy/weights:0'])\n",
    "        logits += self.vars['policy/policy/biases:0']\n",
    "        return logits\n",
    "    \n",
    "    def Softmax(self, state):\n",
    "        logits = self.Logits(state)\n",
    "        return Softmax(logits)\n",
    "    \n",
    "    def Sample(self, state):\n",
    "        sm = self.Softmax(state)\n",
    "        if self.actions is None:\n",
    "            self.actions = range(len(sm))\n",
    "        return np.random.choice(self.actions, p=sm)"
   ]
  },
  {
   "cell_type": "code",
   "execution_count": 206,
   "metadata": {
    "collapsed": true
   },
   "outputs": [],
   "source": [
    "nnp = NNPolicy(network_vars)"
   ]
  },
  {
   "cell_type": "code",
   "execution_count": 219,
   "metadata": {
    "collapsed": false
   },
   "outputs": [
    {
     "data": {
      "text/plain": [
       "array([  5.60286788e-05,   1.27642462e-75,   1.33276611e-08,\n",
       "         5.64379590e-10,   8.89499400e-01,   1.10444557e-01,\n",
       "         1.42909448e-18])"
      ]
     },
     "execution_count": 219,
     "metadata": {},
     "output_type": "execute_result"
    }
   ],
   "source": [
    "nnp.Softmax(s[1, :])"
   ]
  },
  {
   "cell_type": "code",
   "execution_count": 218,
   "metadata": {
    "collapsed": false
   },
   "outputs": [
    {
     "data": {
      "text/plain": [
       "4"
      ]
     },
     "execution_count": 218,
     "metadata": {},
     "output_type": "execute_result"
    }
   ],
   "source": [
    "nnp.Sample(s[1, :])"
   ]
  },
  {
   "cell_type": "code",
   "execution_count": 178,
   "metadata": {
    "collapsed": false
   },
   "outputs": [
    {
     "data": {
      "text/plain": [
       "0.00021755436517878479"
      ]
     },
     "execution_count": 178,
     "metadata": {},
     "output_type": "execute_result"
    }
   ],
   "source": [
    "np.max(nnp.Logits(s) -  ac.logits.eval({ac.state: s}))"
   ]
  },
  {
   "cell_type": "code",
   "execution_count": 173,
   "metadata": {
    "collapsed": false
   },
   "outputs": [
    {
     "data": {
      "text/plain": [
       "(15, 7)"
      ]
     },
     "execution_count": 173,
     "metadata": {},
     "output_type": "execute_result"
    }
   ],
   "source": [
    "ac.logits.eval({ac.state: s})"
   ]
  },
  {
   "cell_type": "code",
   "execution_count": 280,
   "metadata": {
    "collapsed": false
   },
   "outputs": [
    {
     "data": {
      "text/plain": [
       "array([[ 0.4263148 ,  0.27988333,  0.52581638,  0.42325473,  0.46426272,\n",
       "         0.47350475,  0.352005  ]], dtype=float32)"
      ]
     },
     "execution_count": 280,
     "metadata": {},
     "output_type": "execute_result"
    }
   ],
   "source": [
    "ql.pred_vars[6].eval({ql.state: ss, ql.is_training: False})"
   ]
  },
  {
   "cell_type": "code",
   "execution_count": 284,
   "metadata": {
    "collapsed": false
   },
   "outputs": [
    {
     "data": {
      "text/plain": [
       "array([[ 0.42631482,  0.27988335,  0.52581639,  0.4232547 ,  0.46426274,\n",
       "         0.47350477,  0.352005  ]])"
      ]
     },
     "execution_count": 284,
     "metadata": {},
     "output_type": "execute_result"
    }
   ],
   "source": [
    "QFunction(network_vars).Q(ss)"
   ]
  },
  {
   "cell_type": "code",
   "execution_count": null,
   "metadata": {
    "collapsed": true
   },
   "outputs": [],
   "source": []
  },
  {
   "cell_type": "code",
   "execution_count": null,
   "metadata": {
    "collapsed": true
   },
   "outputs": [],
   "source": []
  },
  {
   "cell_type": "code",
   "execution_count": null,
   "metadata": {
    "collapsed": true
   },
   "outputs": [],
   "source": []
  },
  {
   "cell_type": "code",
   "execution_count": 170,
   "metadata": {
    "collapsed": false
   },
   "outputs": [
    {
     "data": {
      "text/plain": [
       "array([ 1746.92163086,     0.        ,     0.        ,     0.        ,\n",
       "           0.        ,     0.        ,     0.        ,     0.        ,\n",
       "           0.        ,  3156.87939453], dtype=float32)"
      ]
     },
     "execution_count": 170,
     "metadata": {},
     "output_type": "execute_result"
    }
   ],
   "source": [
    "ql.q.eval(feed_dict)"
   ]
  },
  {
   "cell_type": "code",
   "execution_count": 174,
   "metadata": {
    "collapsed": false
   },
   "outputs": [
    {
     "data": {
      "text/plain": [
       "array([ 10.50465488,  10.50465488,  10.50465488,  10.50465488,\n",
       "        10.50465488,  10.50465488,  10.50465488,  10.50465488,\n",
       "        10.50465488,  10.50465488], dtype=float32)"
      ]
     },
     "execution_count": 174,
     "metadata": {},
     "output_type": "execute_result"
    }
   ],
   "source": [
    "ql.q_s1.eval(feed_dict)"
   ]
  },
  {
   "cell_type": "code",
   "execution_count": 173,
   "metadata": {
    "collapsed": false
   },
   "outputs": [],
   "source": [
    "sess.run(ql.copy_op)"
   ]
  },
  {
   "cell_type": "code",
   "execution_count": 138,
   "metadata": {
    "collapsed": false
   },
   "outputs": [
    {
     "data": {
      "text/plain": [
       "array([ 2186.74389648,  6496.70410156,  2797.15771484,  4662.953125  ,\n",
       "           0.        ,  2761.18579102,  3284.98608398,  6556.95996094,\n",
       "        2748.39379883,     0.        ], dtype=float32)"
      ]
     },
     "execution_count": 138,
     "metadata": {},
     "output_type": "execute_result"
    }
   ],
   "source": [
    "Select(ql.pred_vars[2], ql.action).eval(feed_dict)"
   ]
  },
  {
   "cell_type": "code",
   "execution_count": 148,
   "metadata": {
    "collapsed": false
   },
   "outputs": [
    {
     "data": {
      "text/plain": [
       "array([ 2186.74389648,  6496.70410156,  2797.15771484,  4662.953125  ,\n",
       "           0.        ,  2761.18579102,  3284.98608398,  6556.95996094,\n",
       "        2748.39379883,     0.        ], dtype=float32)"
      ]
     },
     "execution_count": 148,
     "metadata": {},
     "output_type": "execute_result"
    }
   ],
   "source": [
    "tf.reduce_sum(ql.pred_vars[2] * tf.one_hot(ql.action, ql.num_actions), reduction_indices=1).eval(feed_dict)"
   ]
  },
  {
   "cell_type": "code",
   "execution_count": 93,
   "metadata": {
    "collapsed": false
   },
   "outputs": [
    {
     "data": {
      "text/plain": [
       "array([10,  7], dtype=int32)"
      ]
     },
     "execution_count": 93,
     "metadata": {},
     "output_type": "execute_result"
    }
   ],
   "source": [
    "tf.shape(ql.pred_vars[2]).eval(feed_dict)"
   ]
  },
  {
   "cell_type": "code",
   "execution_count": 51,
   "metadata": {
    "collapsed": false
   },
   "outputs": [
    {
     "data": {
      "text/plain": [
       "array([ 25.,  25.,  25.,  25.,  25.,  25.,  25.,  25.,  25.,  25.], dtype=float32)"
      ]
     },
     "execution_count": 51,
     "metadata": {},
     "output_type": "execute_result"
    }
   ],
   "source": [
    "ql.delta.eval()"
   ]
  },
  {
   "cell_type": "code",
   "execution_count": 40,
   "metadata": {
    "collapsed": false
   },
   "outputs": [
    {
     "data": {
      "text/plain": [
       "25.0"
      ]
     },
     "execution_count": 40,
     "metadata": {},
     "output_type": "execute_result"
    }
   ],
   "source": [
    "tf.reduce_mean(ql.delta).eval({ql.state: ss, ql.action: aa, ql.reward: rr, ql.state1:ss1, ql.gamma: gg})"
   ]
  },
  {
   "cell_type": "code",
   "execution_count": 283,
   "metadata": {
    "collapsed": false
   },
   "outputs": [
    {
     "data": {
      "text/plain": [
       "array([    0.        ,     0.        ,  2561.84985352,  2696.66064453,\n",
       "        3319.86474609,  2376.26171875,  2375.80859375,  2602.42016602,\n",
       "        2548.83056641,     0.        ], dtype=float32)"
      ]
     },
     "execution_count": 283,
     "metadata": {},
     "output_type": "execute_result"
    }
   ],
   "source": [
    "ql.q.eval({ql.state: ss, ql.action: aa})"
   ]
  },
  {
   "cell_type": "code",
   "execution_count": 284,
   "metadata": {
    "collapsed": false
   },
   "outputs": [
    {
     "data": {
      "text/plain": [
       "array([ 9.87346268,  9.87346268,  9.87346268,  9.87346268,  9.87346268,\n",
       "        9.87346268,  9.87346268,  9.87346268,  9.87346268,  9.87346268], dtype=float32)"
      ]
     },
     "execution_count": 284,
     "metadata": {},
     "output_type": "execute_result"
    }
   ],
   "source": [
    "ql.q_s1.eval({ql.state1: ss1})"
   ]
  },
  {
   "cell_type": "code",
   "execution_count": null,
   "metadata": {
    "collapsed": true
   },
   "outputs": [],
   "source": []
  }
 ],
 "metadata": {
  "anaconda-cloud": {},
  "kernelspec": {
   "display_name": "Python [Root]",
   "language": "python",
   "name": "Python [Root]"
  },
  "language_info": {
   "codemirror_mode": {
    "name": "ipython",
    "version": 2
   },
   "file_extension": ".py",
   "mimetype": "text/x-python",
   "name": "python",
   "nbconvert_exporter": "python",
   "pygments_lexer": "ipython2",
   "version": "2.7.12"
  }
 },
 "nbformat": 4,
 "nbformat_minor": 1
}
