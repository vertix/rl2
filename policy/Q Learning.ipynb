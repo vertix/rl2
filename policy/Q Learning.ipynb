{
 "cells": [
  {
   "cell_type": "code",
   "execution_count": 1,
   "metadata": {
    "collapsed": true
   },
   "outputs": [],
   "source": [
    "import random\n",
    "import time"
   ]
  },
  {
   "cell_type": "code",
   "execution_count": 2,
   "metadata": {
    "collapsed": true
   },
   "outputs": [],
   "source": [
    "%matplotlib inline\n",
    "from matplotlib import pyplot as plt"
   ]
  },
  {
   "cell_type": "code",
   "execution_count": 3,
   "metadata": {
    "collapsed": true
   },
   "outputs": [],
   "source": [
    "import tensorflow as tf\n",
    "import numpy as np\n",
    "\n",
    "import zmq\n",
    "\n",
    "from tensorflow.python.training import moving_averages"
   ]
  },
  {
   "cell_type": "code",
   "execution_count": 4,
   "metadata": {
    "collapsed": true
   },
   "outputs": [],
   "source": [
    "np.set_printoptions(precision=4, suppress=True)"
   ]
  },
  {
   "cell_type": "code",
   "execution_count": 5,
   "metadata": {
    "collapsed": false
   },
   "outputs": [
    {
     "data": {
      "text/plain": [
       "<module 'learner' from 'learner.pyc'>"
      ]
     },
     "execution_count": 5,
     "metadata": {},
     "output_type": "execute_result"
    }
   ],
   "source": [
    "import learner\n",
    "reload(learner)"
   ]
  },
  {
   "cell_type": "code",
   "execution_count": 6,
   "metadata": {
    "collapsed": true
   },
   "outputs": [],
   "source": [
    "exp_socket_addr = \"tcp://127.0.0.1:19884\"\n",
    "max_actions = 7\n",
    "strat_socket_addr = \"tcp://127.0.0.1:19885\""
   ]
  },
  {
   "cell_type": "code",
   "execution_count": 6,
   "metadata": {
    "collapsed": false
   },
   "outputs": [],
   "source": [
    "context = zmq.Context()\n",
    "sock_exp = context.socket(zmq.REP)\n",
    "sock_exp.bind(exp_socket_addr)"
   ]
  },
  {
   "cell_type": "code",
   "execution_count": 7,
   "metadata": {
    "collapsed": false
   },
   "outputs": [],
   "source": [
    "sock_strat = context.socket(zmq.PUB)\n",
    "sock_strat.bind(strat_socket_addr)"
   ]
  },
  {
   "cell_type": "code",
   "execution_count": 131,
   "metadata": {
    "collapsed": false
   },
   "outputs": [],
   "source": [
    "NUM_HIDDEN = 256"
   ]
  },
  {
   "cell_type": "code",
   "execution_count": 132,
   "metadata": {
    "collapsed": false
   },
   "outputs": [],
   "source": [
    "NUM_UNIT_REPRESENTATION = 100\n",
    "N_UNIT = 36\n",
    "N_ME = 32\n",
    "EN_CNT = 10\n",
    "FR_CNT = 10\n",
    "N_REST = 809 - N_ME - (EN_CNT + FR_CNT) * N_UNIT\n",
    "\n",
    "def CreateNetwork(state, num_actions, scope, is_training, reuse=False, dropout=True):\n",
    "    with tf.variable_scope(scope, reuse=reuse):\n",
    "        my_state = tf.slice(state, [0, 0], [-1, N_ME + EN_CNT * N_UNIT])\n",
    "        rest_state = tf.slice(state, [0, 809 - N_REST], [-1, N_REST])\n",
    "        \n",
    "        with tf.variable_scope('friends'):\n",
    "            friends = tf.reshape(tf.slice(state, [0, N_ME + EN_CNT * N_UNIT],\n",
    "                                          [-1, FR_CNT * N_UNIT]), [-1, 1, FR_CNT, N_UNIT])\n",
    "            friends = tf.contrib.layers.conv2d(\n",
    "                friends, NUM_UNIT_REPRESENTATION,\n",
    "                [1, 1], stride=1, activation_fn=tf.nn.elu)\n",
    "            friends = tf.squeeze(tf.contrib.layers.max_pool2d(friends, [1, FR_CNT]), [1, 2])\n",
    "        final_state = tf.concat(1, [my_state, friends, rest_state])\n",
    "\n",
    "        hidden1 = tf.contrib.layers.fully_connected(\n",
    "            final_state, NUM_HIDDEN,\n",
    "            activation_fn=tf.nn.elu,\n",
    "            weights_initializer=tf.truncated_normal_initializer(stddev=0.01),\n",
    "            biases_initializer=tf.constant_initializer(0.01),\n",
    "            scope='hidden1', reuse=reuse)\n",
    "\n",
    "        if dropout:\n",
    "            do1 = tf.contrib.layers.dropout(hidden1, keep_prob=0.5, is_training=is_training)\n",
    "        else:\n",
    "            do1 = hidden1\n",
    "\n",
    "        hidden2 = tf.contrib.layers.relu(\n",
    "            do1, NUM_HIDDEN,\n",
    "            activation_fn=tf.nn.elu,\n",
    "            weights_initializer=tf.truncated_normal_initializer(stddev=0.01),\n",
    "            biases_initializer=tf.constant_initializer(0.01),\n",
    "            scope='hidden2', reuse=reuse)\n",
    "\n",
    "        if dropout:\n",
    "            do2 = tf.contrib.layers.dropout(hidden2, keep_prob=0.5, is_training=is_training)\n",
    "        else:\n",
    "            do2 = hidden2\n",
    "\n",
    "        value = tf.contrib.layers.linear(do2, 1,\n",
    "                                         weights_initializer=tf.truncated_normal_initializer(stddev=0.01),\n",
    "                                         biases_initializer=tf.constant_initializer(0.),\n",
    "                                         scope='value')\n",
    "        adv = tf.contrib.layers.linear(hidden2, num_actions,\n",
    "                                       weights_initializer=tf.truncated_normal_initializer(stddev=0.01),\n",
    "                                       scope='advantage')\n",
    "        adv = tf.sub(adv, tf.reduce_mean(adv, reduction_indices=1, keep_dims=True), 'advantage')\n",
    "\n",
    "        output = tf.add(value, adv, 'output')\n",
    "    return final_state, hidden1, hidden2, value, adv, output"
   ]
  },
  {
   "cell_type": "code",
   "execution_count": 36,
   "metadata": {
    "collapsed": true
   },
   "outputs": [],
   "source": [
    "def Select(value, index):\n",
    "    # Value - float tensor of (batch, actions) size\n",
    "    # index - int32 tensor of (batch) size\n",
    "    # returns float tensor of batch size where in every batch the element from index is selected\n",
    "    batch_size = tf.shape(value)[0]\n",
    "    _range = tf.range(0, batch_size)\n",
    "    ind = tf.concat(1, [tf.expand_dims(_range, 1), \n",
    "                        tf.expand_dims(index, 1)])\n",
    "    return tf.gather_nd(value, ind)"
   ]
  },
  {
   "cell_type": "code",
   "execution_count": 37,
   "metadata": {
    "collapsed": true
   },
   "outputs": [],
   "source": [
    "def Select4(value, index):\n",
    "    # Value - float tensor of (batch, actions) size\n",
    "    # index - int32 tensor of (batch) size\n",
    "    # returns float tensor of batch size where in every batch the element from index is selected\n",
    "    shp = tf.shape(value)\n",
    "    return tf.reduce_sum(value * tf.one_hot(index, shp[1]), reduction_indices=1)"
   ]
  },
  {
   "cell_type": "code",
   "execution_count": 26,
   "metadata": {
    "collapsed": true
   },
   "outputs": [],
   "source": [
    "DEFAULT_OPTIONS = {\n",
    "    'clip_grad': 3.,\n",
    "    'learning_rate': 0.001,\n",
    "    'update_steps': 10000,\n",
    "}"
   ]
  },
  {
   "cell_type": "code",
   "execution_count": 27,
   "metadata": {
    "collapsed": true
   },
   "outputs": [],
   "source": [
    "# Compute the normalization coefficients for state\n",
    "# size = min(buf.inserted, buf.buffer_size)\n",
    "# STATE_MEAN, STATE_STD = buf.ss[:, :size].mean(1), buf.ss[:, :size].std(1) + 0.01"
   ]
  },
  {
   "cell_type": "code",
   "execution_count": null,
   "metadata": {
    "collapsed": true
   },
   "outputs": [],
   "source": []
  },
  {
   "cell_type": "code",
   "execution_count": 350,
   "metadata": {
    "collapsed": false
   },
   "outputs": [],
   "source": [
    "class QLearner(object):\n",
    "    def __init__(self, exp_buffer, num_actions, run_index, options=DEFAULT_OPTIONS):\n",
    "        self.exp_buffer = exp_buffer\n",
    "        self.num_actions = num_actions\n",
    "        self.run_index = run_index\n",
    "        self.options = options\n",
    "\n",
    "        self.state = tf.placeholder(tf.float32, shape=[None, self.exp_buffer.state_size], name='state')\n",
    "        self.action = tf.placeholder(tf.int32, shape=[None], name='action')\n",
    "        self.reward = tf.placeholder(tf.float32, shape=[None], name='reward')\n",
    "        self.state1 = tf.placeholder(tf.float32, shape=[None, self.exp_buffer.state_size], name='state1')\n",
    "        self.gamma = tf.placeholder(tf.float32, shape=[None], name='gamma')\n",
    "        self.is_weights = tf.placeholder(tf.float32, shape=[None], name='is_weights')       \n",
    "        self.is_training = tf.placeholder(tf.bool, shape=None, name='is_training')\n",
    "\n",
    "#         mean = tf.get_variable('mean', dtype=tf.float32,\n",
    "#                                initializer=STATE_MEAN, trainable=False)\n",
    "#         std = tf.get_variable('std', dtype=tf.float32,\n",
    "#                               initializer=STATE_STD, trainable=False)       \n",
    "        \n",
    "#         norm_state = (self.state - tf.identity(mean)) / tf.identity(std)\n",
    "#         norm_state1 = (self.state1 - mean) / std\n",
    "        norm_state = self.state\n",
    "        norm_state1 = self.state1\n",
    "\n",
    "        self.pred_vars = CreateNetwork(norm_state, num_actions, 'model', self.is_training)\n",
    "        self.pred_vars_s1 = CreateNetwork(norm_state1, num_actions, 'model', self.is_training, True)\n",
    "        self.target_vars = CreateNetwork(norm_state1, num_actions, 'target', False)\n",
    "        \n",
    "        self.vars_pred = tf.get_collection(tf.GraphKeys.GLOBAL_VARIABLES, 'model')\n",
    "        self.vars_target = tf.get_collection(tf.GraphKeys.GLOBAL_VARIABLES, 'target')\n",
    "        \n",
    "        self.copy_op = tf.group(\n",
    "            *[tf.assign(y, x) for x, y in zip(self.vars_pred, self.vars_target)]\n",
    "        )\n",
    "#         self.vars_pred.extend([mean, std])\n",
    "\n",
    "        idx = len(self.pred_vars) - 1\n",
    "\n",
    "        self.act_s1 = tf.cast(tf.argmax(self.pred_vars_s1[idx], dimension=1), tf.int32)\n",
    "        self.q_s1 = Select(self.target_vars[idx], self.act_s1)\n",
    "        self.target_q = tf.stop_gradient(self.reward + self.gamma * self.q_s1)\n",
    "        self.q = Select4(self.pred_vars[idx], self.action)\n",
    "\n",
    "        self.delta = self.target_q - self.q\n",
    "        self.td_err_weight = tf.abs(self.delta)\n",
    "        self.loss = tf.reduce_mean(learner.HuberLoss(self.delta, 5) * self.is_weights)\n",
    "\n",
    "        update_ops = tf.get_collection(tf.GraphKeys.UPDATE_OPS)\n",
    "\n",
    "        self.global_step = tf.Variable(0, name='global_step', trainable=False)\n",
    "        \n",
    "        optimizer = tf.train.AdamOptimizer(options['learning_rate'])\n",
    "        grads = optimizer.compute_gradients(self.loss, tf.get_collection(\n",
    "                tf.GraphKeys.TRAINABLE_VARIABLES, 'model'))\n",
    "        if 'clip_grad' in options:\n",
    "            gg = [g for g, _ in grads]\n",
    "            vv = [v for _, v in grads]\n",
    "            global_norm = tf.global_norm(gg)\n",
    "            tf.scalar_summary('Scalars/Grad norm', global_norm)\n",
    "            grads = zip(tf.clip_by_global_norm(gg, options['clip_grad'], global_norm)[0], vv)\n",
    "#             grads = [(tf.clip_by_norm(g, options['clip_grad']) if g is not None else None, v)\n",
    "#                      for g, v in grads]\n",
    "\n",
    "        for grad, v in grads:\n",
    "            if grad is not None:\n",
    "                tf.histogram_summary('{}/grad'.format(v.name), grad)\n",
    "                \n",
    "        for v in tf.get_collection(tf.GraphKeys.GLOBAL_VARIABLES):\n",
    "            tf.histogram_summary(v.name, v)\n",
    "\n",
    "        for ten in self.pred_vars:\n",
    "            tf.histogram_summary('vars/' + ten.name, ten)\n",
    "\n",
    "        tf.histogram_summary('Monitor/TD Error', self.delta)\n",
    "        tf.histogram_summary('Monitor/Q', self.q)\n",
    "        tf.histogram_summary('Monitor/Weights', self.is_weights)\n",
    "        tf.scalar_summary(\"Scalars/Loss\", self.loss)\n",
    "        tf.scalar_summary(\"Scalars/Q Func\", tf.reduce_mean(self.q))\n",
    "        tf.scalar_summary('Scalars/Weights', tf.reduce_mean(self.is_weights))\n",
    "            \n",
    "        self.train_op = optimizer.apply_gradients(grads, self.global_step)\n",
    "#         if update_ops:\n",
    "        self.train_op = tf.group(#tf.add_check_numerics_ops(), \n",
    "                                 self.train_op, #self.mean_update, self.var_update,\n",
    "                                 *update_ops)\n",
    "\n",
    "        self.summary_op = tf.merge_all_summaries()\n",
    "        self.writer = None\n",
    "        self.saver = None\n",
    "        self.cur_step = None\n",
    "\n",
    "    def step(self, sess, batch_size=32):\n",
    "        idx, ss, aa, rr, ss1, gg, ww = self.exp_buffer.sample(batch_size)\n",
    "        if ss is None:\n",
    "            return\n",
    "        \n",
    "        if self.writer is None:\n",
    "            self.writer = tf.train.SummaryWriter('/Users/vertix/tf/tensorflow_logs/aicup/%s'\n",
    "                                                 #'/media/vertix/UHDD/tmp/tensorflow_logs/aicup/%s'\n",
    "                                                 % self.run_index)\n",
    "            self.saver = tf.train.Saver(self.vars_pred)\n",
    "            self.last_start = time.time()\n",
    "\n",
    "        feed_dict = {self.state: ss, self.action: aa, self.reward: rr, self.state1:ss1,\n",
    "                     self.gamma: gg, self.is_weights: ww,\n",
    "                     self.is_training: True}\n",
    "\n",
    "        if self.cur_step and self.cur_step % 100 != 0:\n",
    "            self.cur_step, weights, _ = sess.run(\n",
    "                [self.global_step, self.td_err_weight, self.train_op], feed_dict)\n",
    "        else:\n",
    "            self.cur_step, weights, _, smr = sess.run(\n",
    "                [self.global_step, self.td_err_weight, self.train_op, self.summary_op], feed_dict)\n",
    "            self.writer.add_summary(smr, self.cur_step)\n",
    "        \n",
    "        for ii, td_w in zip(idx, weights):\n",
    "            self.exp_buffer.tree_update(ii, td_w)\n",
    "            \n",
    "        if self.cur_step % self.options['update_steps'] == 0:\n",
    "            print 'Updated target network'\n",
    "            sess.run(self.copy_op)\n",
    "            self.saver.save(sess, self.run_index, global_step=self.global_step)\n",
    "            if self.last_start is not None:\n",
    "                self.writer.add_summary(\n",
    "                    tf.Summary(\n",
    "                        value=[tf.Summary.Value(\n",
    "                                tag='Steps per sec',\n",
    "                                simple_value=self.options['update_steps'] / (time.time() - self.last_start))]),\n",
    "                    self.cur_step)\n",
    "            self.last_start = time.time()\n",
    "\n",
    "    def stat(self, data):\n",
    "        self.writer.add_summary(\n",
    "            tf.Summary(\n",
    "                value=[tf.Summary.Value(tag=name, simple_value=value)\n",
    "                       for name, value in data.items()]), self.cur_step)"
   ]
  },
  {
   "cell_type": "code",
   "execution_count": 137,
   "metadata": {
    "collapsed": false
   },
   "outputs": [],
   "source": [
    "buf = learner.WeightedExperienceBuffer(0.6, 0.4, 100, buffer_size=1<<18)\n",
    "for _ in range(2):\n",
    "    msg = sock_exp.recv_pyobj()\n",
    "    sock_exp.send('Ok')\n",
    "    if msg['type'] == 'exp':\n",
    "        msg = msg['data']\n",
    "        buf.add(msg['s'], msg['a'], msg['r'], msg['s1'], msg['g'], 100)"
   ]
  },
  {
   "cell_type": "code",
   "execution_count": 138,
   "metadata": {
    "collapsed": false
   },
   "outputs": [
    {
     "data": {
      "text/plain": [
       "(40, 262144)"
      ]
     },
     "execution_count": 138,
     "metadata": {},
     "output_type": "execute_result"
    }
   ],
   "source": [
    "buf.inserted, buf.buffer_size"
   ]
  },
  {
   "cell_type": "code",
   "execution_count": 104,
   "metadata": {
    "collapsed": false
   },
   "outputs": [],
   "source": [
    "for i in xrange(min(buf.buffer_size, buf.inserted)):\n",
    "    buf.tree_update(i, 100)"
   ]
  },
  {
   "cell_type": "code",
   "execution_count": 108,
   "metadata": {
    "collapsed": true
   },
   "outputs": [
    {
     "name": "stdout",
     "output_type": "stream",
     "text": [
      "Updated target network\n",
      "Updated target network\n",
      "Updated target network\n",
      "Updated target network\n",
      "Updated target network\n",
      "Updated target network\n",
      "Updated target network\n",
      "Updated target network\n",
      "Updated target network\n",
      "Updated target network\n",
      "Updated target network\n",
      "Updated target network\n",
      "Updated target network\n",
      "Updated target network\n",
      "Updated target network\n",
      "Updated target network\n",
      "Updated target network\n",
      "Updated target network\n",
      "Updated target network\n",
      "Updated target network\n",
      "Updated target network\n",
      "Updated target network\n",
      "Updated target network\n",
      "Updated target network\n",
      "Updated target network\n",
      "Updated target network\n",
      "Updated target network\n",
      "Updated target network\n"
     ]
    }
   ],
   "source": [
    "buf.beta = 0.7"
   ]
  },
  {
   "cell_type": "code",
   "execution_count": null,
   "metadata": {
    "collapsed": true
   },
   "outputs": [],
   "source": []
  },
  {
   "cell_type": "code",
   "execution_count": 235,
   "metadata": {
    "collapsed": true
   },
   "outputs": [],
   "source": [
    "tf.reset_default_graph()"
   ]
  },
  {
   "cell_type": "code",
   "execution_count": 236,
   "metadata": {
    "collapsed": true
   },
   "outputs": [],
   "source": [
    "state = tf.placeholder(tf.float32, shape=[None, 809], name='state')"
   ]
  },
  {
   "cell_type": "code",
   "execution_count": 237,
   "metadata": {
    "collapsed": false
   },
   "outputs": [
    {
     "name": "stdout",
     "output_type": "stream",
     "text": [
      "(?, 392)\n",
      "(?, 57)\n",
      "(?, 64)\n"
     ]
    }
   ],
   "source": [
    "fs, h1, _, _, _, _ = CreateNetwork(state, 4 + 5, 'model', False)\n",
    "# fs = CreateNetwork(state, 4 + 5, 'model', False)"
   ]
  },
  {
   "cell_type": "code",
   "execution_count": 145,
   "metadata": {
    "collapsed": false
   },
   "outputs": [],
   "source": [
    "# enemies = tf.transpose(\n",
    "enemies = tf.reshape(tf.slice(state, [0, 32], [-1, 10 * 36]), [-1, 1, 10, 36])\n",
    "#     [0, 1, 3, 2])"
   ]
  },
  {
   "cell_type": "code",
   "execution_count": 146,
   "metadata": {
    "collapsed": true
   },
   "outputs": [],
   "source": [
    "enemies_repr = tf.contrib.layers.conv2d(enemies, 10, [1, 1], stride=1, activation_fn=tf.nn.elu)"
   ]
  },
  {
   "cell_type": "code",
   "execution_count": 147,
   "metadata": {
    "collapsed": true
   },
   "outputs": [],
   "source": [
    "enemies_summary = tf.squeeze(tf.contrib.layers.max_pool2d(enemies_repr, [1, 10]))"
   ]
  },
  {
   "cell_type": "code",
   "execution_count": 148,
   "metadata": {
    "collapsed": true
   },
   "outputs": [],
   "source": [
    "enemies_indexes = tf.argmax(enemies_repr, 2)"
   ]
  },
  {
   "cell_type": "code",
   "execution_count": 196,
   "metadata": {
    "collapsed": true
   },
   "outputs": [],
   "source": [
    "sess = tf.InteractiveSession(config=tf.ConfigProto(device_count = {'GPU': 0}))\n",
    "sess.run(tf.initialize_all_variables())"
   ]
  },
  {
   "cell_type": "code",
   "execution_count": 197,
   "metadata": {
    "collapsed": false
   },
   "outputs": [
    {
     "data": {
      "text/plain": [
       "(2, 465)"
      ]
     },
     "execution_count": 197,
     "metadata": {},
     "output_type": "execute_result"
    }
   ],
   "source": [
    "fs.eval({state: buf.ss[:, :2].transpose()}).shape"
   ]
  },
  {
   "cell_type": "code",
   "execution_count": 150,
   "metadata": {
    "collapsed": false
   },
   "outputs": [
    {
     "data": {
      "text/plain": [
       "(2, 1, 10, 36)"
      ]
     },
     "execution_count": 150,
     "metadata": {},
     "output_type": "execute_result"
    }
   ],
   "source": [
    "enemies.eval({state: buf.ss[:, :2].transpose()}).shape"
   ]
  },
  {
   "cell_type": "code",
   "execution_count": 151,
   "metadata": {
    "collapsed": false
   },
   "outputs": [
    {
     "data": {
      "text/plain": [
       "(2, 1, 10, 10)"
      ]
     },
     "execution_count": 151,
     "metadata": {},
     "output_type": "execute_result"
    }
   ],
   "source": [
    "enemies_repr.eval({state: buf.ss[:, :2].transpose()}).shape"
   ]
  },
  {
   "cell_type": "code",
   "execution_count": 153,
   "metadata": {
    "collapsed": false
   },
   "outputs": [
    {
     "data": {
      "text/plain": [
       "array([[ 4.805,  0.   ,  9.333,  0.637,  0.   ,  3.134,  2.208,  0.   ,\n",
       "         5.666,  2.19 ],\n",
       "       [ 4.805,  0.   ,  9.33 ,  0.637,  0.   ,  3.131,  2.21 ,  0.   ,\n",
       "         5.669,  2.19 ]], dtype=float32)"
      ]
     },
     "execution_count": 153,
     "metadata": {},
     "output_type": "execute_result"
    }
   ],
   "source": [
    "enemies_summary.eval({state: buf.ss[:, :2].transpose()})"
   ]
  },
  {
   "cell_type": "code",
   "execution_count": 140,
   "metadata": {
    "collapsed": false
   },
   "outputs": [
    {
     "data": {
      "text/plain": [
       "array([[[2, 6, 6, 6, 1, 7, 7, 6, 3, 6]],\n",
       "\n",
       "       [[2, 6, 6, 6, 1, 7, 7, 6, 3, 6]]])"
      ]
     },
     "execution_count": 140,
     "metadata": {},
     "output_type": "execute_result"
    }
   ],
   "source": [
    "enemies_indexes.eval({state: buf.ss[:, :2].transpose()})"
   ]
  },
  {
   "cell_type": "code",
   "execution_count": 103,
   "metadata": {
    "collapsed": true
   },
   "outputs": [
    {
     "data": {
      "text/plain": [
       "array([[[[-0.78 , -0.95 ,  1.733,  1.419, -0.938,  0.907, -0.496,  2.993,\n",
       "           0.129,  0.763],\n",
       "         [-0.806, -0.974,  2.213,  0.988, -0.862,  0.82 , -0.29 ,  3.333,\n",
       "           0.941, -0.17 ],\n",
       "         [-0.81 , -0.93 ,  2.08 ,  1.462, -0.865,  0.972, -0.202,  3.062,\n",
       "           0.753,  0.572],\n",
       "         [-0.433, -0.886,  1.815,  2.02 , -0.914,  0.923,  0.45 ,  3.668,\n",
       "           0.723,  0.41 ],\n",
       "         [-0.572, -0.899,  2.133,  1.941, -0.87 ,  0.879,  0.48 ,  3.525,\n",
       "           0.99 ,  0.215],\n",
       "         [-0.801, -0.948,  2.288,  1.316, -0.748,  0.916,  0.302,  3.663,\n",
       "           1.431, -0.043],\n",
       "         [-0.611, -0.996,  4.215,  3.947, -0.965,  1.757, -0.366,  6.488,\n",
       "           1.842,  0.89 ],\n",
       "         [ 0.   ,  0.   ,  0.   ,  0.   ,  0.   ,  0.   ,  0.   ,  0.   ,\n",
       "           0.   ,  0.   ],\n",
       "         [ 0.   ,  0.   ,  0.   ,  0.   ,  0.   ,  0.   ,  0.   ,  0.   ,\n",
       "           0.   ,  0.   ],\n",
       "         [ 0.   ,  0.   ,  0.   ,  0.   ,  0.   ,  0.   ,  0.   ,  0.   ,\n",
       "           0.   ,  0.   ]]],\n",
       "\n",
       "\n",
       "       [[[-0.78 , -0.95 ,  1.732,  1.418, -0.938,  0.908, -0.496,  2.993,\n",
       "           0.129,  0.762],\n",
       "         [-0.805, -0.974,  2.212,  0.987, -0.862,  0.822, -0.29 ,  3.333,\n",
       "           0.941, -0.171],\n",
       "         [-0.81 , -0.93 ,  2.079,  1.461, -0.865,  0.974, -0.202,  3.062,\n",
       "           0.753,  0.571],\n",
       "         [-0.432, -0.886,  1.815,  2.019, -0.913,  0.925,  0.45 ,  3.668,\n",
       "           0.723,  0.41 ],\n",
       "         [-0.572, -0.899,  2.133,  1.94 , -0.869,  0.881,  0.48 ,  3.525,\n",
       "           0.99 ,  0.215],\n",
       "         [-0.801, -0.948,  2.287,  1.315, -0.748,  0.917,  0.302,  3.663,\n",
       "           1.431, -0.044],\n",
       "         [-0.61 , -0.996,  4.214,  3.946, -0.965,  1.759, -0.366,  6.488,\n",
       "           1.842,  0.889],\n",
       "         [ 0.   ,  0.   ,  0.   ,  0.   ,  0.   ,  0.   ,  0.   ,  0.   ,\n",
       "           0.   ,  0.   ],\n",
       "         [ 0.   ,  0.   ,  0.   ,  0.   ,  0.   ,  0.   ,  0.   ,  0.   ,\n",
       "           0.   ,  0.   ],\n",
       "         [ 0.   ,  0.   ,  0.   ,  0.   ,  0.   ,  0.   ,  0.   ,  0.   ,\n",
       "           0.   ,  0.   ]]]], dtype=float32)"
      ]
     },
     "execution_count": 103,
     "metadata": {},
     "output_type": "execute_result"
    }
   ],
   "source": [
    "enemies_repr.eval({state: buf.ss[:, :2].transpose()})"
   ]
  },
  {
   "cell_type": "code",
   "execution_count": 95,
   "metadata": {
    "collapsed": false
   },
   "outputs": [
    {
     "name": "stdout",
     "output_type": "stream",
     "text": [
      "Conv/weights:0\n",
      "(1, 1, 36, 10)\n",
      "Conv/biases:0\n",
      "(10,)\n"
     ]
    }
   ],
   "source": [
    "for v in tf.get_collection(tf.GraphKeys.VARIABLES):\n",
    "    print v.name\n",
    "    print v.eval().shape"
   ]
  },
  {
   "cell_type": "code",
   "execution_count": 59,
   "metadata": {
    "collapsed": false
   },
   "outputs": [
    {
     "data": {
      "text/plain": [
       "(2, 10, 36)"
      ]
     },
     "execution_count": 59,
     "metadata": {},
     "output_type": "execute_result"
    }
   ],
   "source": [
    "friends.eval({state: buf.ss[:, :2].transpose()}).shape"
   ]
  },
  {
   "cell_type": "code",
   "execution_count": null,
   "metadata": {
    "collapsed": true
   },
   "outputs": [],
   "source": []
  },
  {
   "cell_type": "code",
   "execution_count": null,
   "metadata": {
    "collapsed": true
   },
   "outputs": [],
   "source": []
  },
  {
   "cell_type": "code",
   "execution_count": 139,
   "metadata": {
    "collapsed": false
   },
   "outputs": [],
   "source": [
    "sess.close()\n",
    "tf.reset_default_graph()\n",
    "sess = tf.InteractiveSession(config=tf.ConfigProto(device_count = {'GPU': 0}))"
   ]
  },
  {
   "cell_type": "code",
   "execution_count": 140,
   "metadata": {
    "collapsed": false
   },
   "outputs": [],
   "source": [
    "ql = QLearner(buf, 4 + 5, run_index='ql-3-fr100-256', options={\n",
    "    'clip_grad': 3.,\n",
    "    'learning_rate': 0.001 / 4,\n",
    "    'update_steps': 20000,\n",
    "})\n",
    "sess.run(tf.initialize_all_variables())"
   ]
  },
  {
   "cell_type": "code",
   "execution_count": 387,
   "metadata": {
    "collapsed": false
   },
   "outputs": [],
   "source": [
    "for _ in xrange(105):\n",
    "    ql.step(sess)"
   ]
  },
  {
   "cell_type": "markdown",
   "metadata": {},
   "source": [
    "3. Test Q-learning on simple task"
   ]
  },
  {
   "cell_type": "code",
   "execution_count": 119,
   "metadata": {
    "collapsed": false
   },
   "outputs": [
    {
     "name": "stdout",
     "output_type": "stream",
     "text": [
      "model/hidden1/weights:0\n",
      "model/hidden1/biases:0\n",
      "model/hidden2/weights:0\n",
      "model/hidden2/biases:0\n",
      "model/value/weights:0\n",
      "model/value/biases:0\n",
      "model/advantage/weights:0\n",
      "model/advantage/biases:0\n",
      "mean:0\n",
      "std:0\n"
     ]
    }
   ],
   "source": [
    "for v in ql.vars_pred:\n",
    "    print v.name"
   ]
  },
  {
   "cell_type": "code",
   "execution_count": null,
   "metadata": {
    "collapsed": true
   },
   "outputs": [],
   "source": []
  },
  {
   "cell_type": "code",
   "execution_count": 62,
   "metadata": {
    "collapsed": true
   },
   "outputs": [],
   "source": [
    "import threading"
   ]
  },
  {
   "cell_type": "code",
   "execution_count": 169,
   "metadata": {
    "collapsed": true
   },
   "outputs": [],
   "source": [
    "def FillBuffer(ql, coord):\n",
    "    while not coord.should_stop():\n",
    "        msg = sock_exp.recv_pyobj()\n",
    "        sock_exp.send('Ok')\n",
    "    \n",
    "        if msg['type'] == 'exp':\n",
    "            msg = msg['data']\n",
    "            ql.exp_buffer.add(msg['s'], msg['a'], msg['r'], msg['s1'], msg['g'], 100)\n",
    "        elif msg['type'] == 'stat':\n",
    "            ql.stat(msg['data'])        "
   ]
  },
  {
   "cell_type": "code",
   "execution_count": 64,
   "metadata": {
    "collapsed": true
   },
   "outputs": [],
   "source": [
    "def Learn(ql, coord, sess):\n",
    "    i = 0\n",
    "    while not coord.should_stop():\n",
    "        ql.step(sess)\n",
    "        \n",
    "        if i > 0 and i % 500 == 0:\n",
    "            sock_strat.send_pyobj({v.name: sess.run(v, {ql.is_training: False})\n",
    "                                   for v in ql.vars_pred})\n",
    "        i += 1"
   ]
  },
  {
   "cell_type": "code",
   "execution_count": 254,
   "metadata": {
    "collapsed": true
   },
   "outputs": [
    {
     "ename": "KeyboardInterrupt",
     "evalue": "",
     "output_type": "error",
     "traceback": [
      "\u001b[0;31m---------------------------------------------------------------------------\u001b[0m",
      "\u001b[0;31mKeyboardInterrupt\u001b[0m                         Traceback (most recent call last)",
      "\u001b[0;32m<ipython-input-254-5ce96ff1f744>\u001b[0m in \u001b[0;36m<module>\u001b[0;34m()\u001b[0m\n\u001b[0;32m----> 1\u001b[0;31m \u001b[0mLearn\u001b[0m\u001b[0;34m(\u001b[0m\u001b[0mql\u001b[0m\u001b[0;34m,\u001b[0m \u001b[0mcoord\u001b[0m\u001b[0;34m,\u001b[0m \u001b[0msess\u001b[0m\u001b[0;34m)\u001b[0m\u001b[0;34m\u001b[0m\u001b[0m\n\u001b[0m",
      "\u001b[0;32m<ipython-input-253-de5ffb4dd664>\u001b[0m in \u001b[0;36mLearn\u001b[0;34m(ql, coord, sess)\u001b[0m\n\u001b[1;32m      2\u001b[0m     \u001b[0mi\u001b[0m \u001b[0;34m=\u001b[0m \u001b[0;36m0\u001b[0m\u001b[0;34m\u001b[0m\u001b[0m\n\u001b[1;32m      3\u001b[0m     \u001b[0;32mwhile\u001b[0m \u001b[0;32mnot\u001b[0m \u001b[0mcoord\u001b[0m\u001b[0;34m.\u001b[0m\u001b[0mshould_stop\u001b[0m\u001b[0;34m(\u001b[0m\u001b[0;34m)\u001b[0m\u001b[0;34m:\u001b[0m\u001b[0;34m\u001b[0m\u001b[0m\n\u001b[0;32m----> 4\u001b[0;31m         \u001b[0mql\u001b[0m\u001b[0;34m.\u001b[0m\u001b[0mstep\u001b[0m\u001b[0;34m(\u001b[0m\u001b[0msess\u001b[0m\u001b[0;34m)\u001b[0m\u001b[0;34m\u001b[0m\u001b[0m\n\u001b[0m\u001b[1;32m      5\u001b[0m \u001b[0;34m\u001b[0m\u001b[0m\n\u001b[1;32m      6\u001b[0m         \u001b[0;32mif\u001b[0m \u001b[0mi\u001b[0m \u001b[0;34m>\u001b[0m \u001b[0;36m0\u001b[0m \u001b[0;32mand\u001b[0m \u001b[0mi\u001b[0m \u001b[0;34m%\u001b[0m \u001b[0;36m500\u001b[0m \u001b[0;34m==\u001b[0m \u001b[0;36m0\u001b[0m\u001b[0;34m:\u001b[0m\u001b[0;34m\u001b[0m\u001b[0m\n",
      "\u001b[0;32m<ipython-input-248-38329332370b>\u001b[0m in \u001b[0;36mstep\u001b[0;34m(self, sess, batch_size)\u001b[0m\n\u001b[1;32m    102\u001b[0m         \u001b[0;32mif\u001b[0m \u001b[0mself\u001b[0m\u001b[0;34m.\u001b[0m\u001b[0mcur_step\u001b[0m \u001b[0;32mand\u001b[0m \u001b[0mself\u001b[0m\u001b[0;34m.\u001b[0m\u001b[0mcur_step\u001b[0m \u001b[0;34m%\u001b[0m \u001b[0;36m100\u001b[0m \u001b[0;34m!=\u001b[0m \u001b[0;36m0\u001b[0m\u001b[0;34m:\u001b[0m\u001b[0;34m\u001b[0m\u001b[0m\n\u001b[1;32m    103\u001b[0m             self.cur_step, weights, _ = sess.run(\n\u001b[0;32m--> 104\u001b[0;31m                 [self.global_step, self.td_err_weight, self.train_op], feed_dict)\n\u001b[0m\u001b[1;32m    105\u001b[0m         \u001b[0;32melse\u001b[0m\u001b[0;34m:\u001b[0m\u001b[0;34m\u001b[0m\u001b[0m\n\u001b[1;32m    106\u001b[0m             self.cur_step, weights, _, smr = sess.run(\n",
      "\u001b[0;32m/Users/vertix/tf/lib/python2.7/site-packages/tensorflow/python/client/session.pyc\u001b[0m in \u001b[0;36mrun\u001b[0;34m(self, fetches, feed_dict, options, run_metadata)\u001b[0m\n\u001b[1;32m    715\u001b[0m     \u001b[0;32mtry\u001b[0m\u001b[0;34m:\u001b[0m\u001b[0;34m\u001b[0m\u001b[0m\n\u001b[1;32m    716\u001b[0m       result = self._run(None, fetches, feed_dict, options_ptr,\n\u001b[0;32m--> 717\u001b[0;31m                          run_metadata_ptr)\n\u001b[0m\u001b[1;32m    718\u001b[0m       \u001b[0;32mif\u001b[0m \u001b[0mrun_metadata\u001b[0m\u001b[0;34m:\u001b[0m\u001b[0;34m\u001b[0m\u001b[0m\n\u001b[1;32m    719\u001b[0m         \u001b[0mproto_data\u001b[0m \u001b[0;34m=\u001b[0m \u001b[0mtf_session\u001b[0m\u001b[0;34m.\u001b[0m\u001b[0mTF_GetBuffer\u001b[0m\u001b[0;34m(\u001b[0m\u001b[0mrun_metadata_ptr\u001b[0m\u001b[0;34m)\u001b[0m\u001b[0;34m\u001b[0m\u001b[0m\n",
      "\u001b[0;32m/Users/vertix/tf/lib/python2.7/site-packages/tensorflow/python/client/session.pyc\u001b[0m in \u001b[0;36m_run\u001b[0;34m(self, handle, fetches, feed_dict, options, run_metadata)\u001b[0m\n\u001b[1;32m    913\u001b[0m     \u001b[0;32mif\u001b[0m \u001b[0mfinal_fetches\u001b[0m \u001b[0;32mor\u001b[0m \u001b[0mfinal_targets\u001b[0m\u001b[0;34m:\u001b[0m\u001b[0;34m\u001b[0m\u001b[0m\n\u001b[1;32m    914\u001b[0m       results = self._do_run(handle, final_targets, final_fetches,\n\u001b[0;32m--> 915\u001b[0;31m                              feed_dict_string, options, run_metadata)\n\u001b[0m\u001b[1;32m    916\u001b[0m     \u001b[0;32melse\u001b[0m\u001b[0;34m:\u001b[0m\u001b[0;34m\u001b[0m\u001b[0m\n\u001b[1;32m    917\u001b[0m       \u001b[0mresults\u001b[0m \u001b[0;34m=\u001b[0m \u001b[0;34m[\u001b[0m\u001b[0;34m]\u001b[0m\u001b[0;34m\u001b[0m\u001b[0m\n",
      "\u001b[0;32m/Users/vertix/tf/lib/python2.7/site-packages/tensorflow/python/client/session.pyc\u001b[0m in \u001b[0;36m_do_run\u001b[0;34m(self, handle, target_list, fetch_list, feed_dict, options, run_metadata)\u001b[0m\n\u001b[1;32m    963\u001b[0m     \u001b[0;32mif\u001b[0m \u001b[0mhandle\u001b[0m \u001b[0;32mis\u001b[0m \u001b[0mNone\u001b[0m\u001b[0;34m:\u001b[0m\u001b[0;34m\u001b[0m\u001b[0m\n\u001b[1;32m    964\u001b[0m       return self._do_call(_run_fn, self._session, feed_dict, fetch_list,\n\u001b[0;32m--> 965\u001b[0;31m                            target_list, options, run_metadata)\n\u001b[0m\u001b[1;32m    966\u001b[0m     \u001b[0;32melse\u001b[0m\u001b[0;34m:\u001b[0m\u001b[0;34m\u001b[0m\u001b[0m\n\u001b[1;32m    967\u001b[0m       return self._do_call(_prun_fn, self._session, handle, feed_dict,\n",
      "\u001b[0;32m/Users/vertix/tf/lib/python2.7/site-packages/tensorflow/python/client/session.pyc\u001b[0m in \u001b[0;36m_do_call\u001b[0;34m(self, fn, *args)\u001b[0m\n\u001b[1;32m    970\u001b[0m   \u001b[0;32mdef\u001b[0m \u001b[0m_do_call\u001b[0m\u001b[0;34m(\u001b[0m\u001b[0mself\u001b[0m\u001b[0;34m,\u001b[0m \u001b[0mfn\u001b[0m\u001b[0;34m,\u001b[0m \u001b[0;34m*\u001b[0m\u001b[0margs\u001b[0m\u001b[0;34m)\u001b[0m\u001b[0;34m:\u001b[0m\u001b[0;34m\u001b[0m\u001b[0m\n\u001b[1;32m    971\u001b[0m     \u001b[0;32mtry\u001b[0m\u001b[0;34m:\u001b[0m\u001b[0;34m\u001b[0m\u001b[0m\n\u001b[0;32m--> 972\u001b[0;31m       \u001b[0;32mreturn\u001b[0m \u001b[0mfn\u001b[0m\u001b[0;34m(\u001b[0m\u001b[0;34m*\u001b[0m\u001b[0margs\u001b[0m\u001b[0;34m)\u001b[0m\u001b[0;34m\u001b[0m\u001b[0m\n\u001b[0m\u001b[1;32m    973\u001b[0m     \u001b[0;32mexcept\u001b[0m \u001b[0merrors\u001b[0m\u001b[0;34m.\u001b[0m\u001b[0mOpError\u001b[0m \u001b[0;32mas\u001b[0m \u001b[0me\u001b[0m\u001b[0;34m:\u001b[0m\u001b[0;34m\u001b[0m\u001b[0m\n\u001b[1;32m    974\u001b[0m       \u001b[0mmessage\u001b[0m \u001b[0;34m=\u001b[0m \u001b[0mcompat\u001b[0m\u001b[0;34m.\u001b[0m\u001b[0mas_text\u001b[0m\u001b[0;34m(\u001b[0m\u001b[0me\u001b[0m\u001b[0;34m.\u001b[0m\u001b[0mmessage\u001b[0m\u001b[0;34m)\u001b[0m\u001b[0;34m\u001b[0m\u001b[0m\n",
      "\u001b[0;32m/Users/vertix/tf/lib/python2.7/site-packages/tensorflow/python/client/session.pyc\u001b[0m in \u001b[0;36m_run_fn\u001b[0;34m(session, feed_dict, fetch_list, target_list, options, run_metadata)\u001b[0m\n\u001b[1;32m    952\u001b[0m         return tf_session.TF_Run(session, options,\n\u001b[1;32m    953\u001b[0m                                  \u001b[0mfeed_dict\u001b[0m\u001b[0;34m,\u001b[0m \u001b[0mfetch_list\u001b[0m\u001b[0;34m,\u001b[0m \u001b[0mtarget_list\u001b[0m\u001b[0;34m,\u001b[0m\u001b[0;34m\u001b[0m\u001b[0m\n\u001b[0;32m--> 954\u001b[0;31m                                  status, run_metadata)\n\u001b[0m\u001b[1;32m    955\u001b[0m \u001b[0;34m\u001b[0m\u001b[0m\n\u001b[1;32m    956\u001b[0m     \u001b[0;32mdef\u001b[0m \u001b[0m_prun_fn\u001b[0m\u001b[0;34m(\u001b[0m\u001b[0msession\u001b[0m\u001b[0;34m,\u001b[0m \u001b[0mhandle\u001b[0m\u001b[0;34m,\u001b[0m \u001b[0mfeed_dict\u001b[0m\u001b[0;34m,\u001b[0m \u001b[0mfetch_list\u001b[0m\u001b[0;34m)\u001b[0m\u001b[0;34m:\u001b[0m\u001b[0;34m\u001b[0m\u001b[0m\n",
      "\u001b[0;31mKeyboardInterrupt\u001b[0m: "
     ]
    }
   ],
   "source": [
    "Learn(ql, coord, sess)"
   ]
  },
  {
   "cell_type": "code",
   "execution_count": 197,
   "metadata": {
    "collapsed": true
   },
   "outputs": [],
   "source": [
    "coord = tf.train.Coordinator()"
   ]
  },
  {
   "cell_type": "code",
   "execution_count": 172,
   "metadata": {
    "collapsed": false
   },
   "outputs": [],
   "source": [
    "threads = [threading.Thread(target=FillBuffer, args=(ql, coord)),\n",
    "           threading.Thread(target=Learn, args=(ql, coord, sess))]"
   ]
  },
  {
   "cell_type": "code",
   "execution_count": 176,
   "metadata": {
    "collapsed": true
   },
   "outputs": [],
   "source": [
    "threads[0].start()\n",
    "threads[1].start()"
   ]
  },
  {
   "cell_type": "code",
   "execution_count": 193,
   "metadata": {
    "collapsed": false
   },
   "outputs": [],
   "source": [
    "coord.request_stop()"
   ]
  },
  {
   "cell_type": "code",
   "execution_count": 192,
   "metadata": {
    "collapsed": false
   },
   "outputs": [
    {
     "data": {
      "text/plain": [
       "(939023, 125780)"
      ]
     },
     "execution_count": 192,
     "metadata": {},
     "output_type": "execute_result"
    }
   ],
   "source": [
    "ql.cur_step, ql.exp_buffer.inserted"
   ]
  },
  {
   "cell_type": "code",
   "execution_count": 194,
   "metadata": {
    "collapsed": true
   },
   "outputs": [],
   "source": [
    "def FillBufferSimple(coord, buf):\n",
    "    while not coord.should_stop():\n",
    "        msg = sock_exp.recv_pyobj()\n",
    "        sock_exp.send('Ok')\n",
    "    \n",
    "        if msg['type'] == 'exp':\n",
    "            msg = msg['data']\n",
    "            buf.add(msg['s'], msg['a'], msg['r'], msg['s1'], msg['g'], 100)"
   ]
  },
  {
   "cell_type": "code",
   "execution_count": null,
   "metadata": {
    "collapsed": false
   },
   "outputs": [],
   "source": [
    "FillBufferSimple(coord, buf)"
   ]
  },
  {
   "cell_type": "code",
   "execution_count": 23,
   "metadata": {
    "collapsed": false
   },
   "outputs": [],
   "source": [
    "import threading\n",
    "_t = threading.Thread(target=FillBufferSimple, args=(coord, buf))\n",
    "_t.start()"
   ]
  },
  {
   "cell_type": "markdown",
   "metadata": {},
   "source": [
    "-----------------------\n",
    "## Debug"
   ]
  },
  {
   "cell_type": "code",
   "execution_count": 110,
   "metadata": {
    "collapsed": false
   },
   "outputs": [
    {
     "data": {
      "text/plain": [
       "(<tf.Tensor 'model/concat:0' shape=(?, 513) dtype=float32>,\n",
       " <tf.Tensor 'model/hidden1/Elu:0' shape=(?, 128) dtype=float32>,\n",
       " <tf.Tensor 'model/hidden2/Elu:0' shape=(?, 128) dtype=float32>,\n",
       " <tf.Tensor 'model/value/BiasAdd:0' shape=(?, 1) dtype=float32>,\n",
       " <tf.Tensor 'model/advantage_1:0' shape=(?, 9) dtype=float32>,\n",
       " <tf.Tensor 'model/output:0' shape=(?, 9) dtype=float32>)"
      ]
     },
     "execution_count": 110,
     "metadata": {},
     "output_type": "execute_result"
    }
   ],
   "source": [
    "ql.pred_vars"
   ]
  },
  {
   "cell_type": "code",
   "execution_count": 111,
   "metadata": {
    "collapsed": true
   },
   "outputs": [],
   "source": [
    "value = ql.pred_vars[3]"
   ]
  },
  {
   "cell_type": "code",
   "execution_count": 112,
   "metadata": {
    "collapsed": true
   },
   "outputs": [],
   "source": [
    "dv_ds = tf.gradients(value, ql.state)\n",
    "dv_ds = dv_ds[0]"
   ]
  },
  {
   "cell_type": "code",
   "execution_count": 115,
   "metadata": {
    "collapsed": false
   },
   "outputs": [
    {
     "data": {
      "text/plain": [
       "array([[ 10.8584]], dtype=float32)"
      ]
     },
     "execution_count": 115,
     "metadata": {},
     "output_type": "execute_result"
    }
   ],
   "source": [
    "value.eval({ql.state: ss, ql.is_training: False})"
   ]
  },
  {
   "cell_type": "code",
   "execution_count": 116,
   "metadata": {
    "collapsed": true
   },
   "outputs": [],
   "source": [
    "dv_ds_val = dv_ds.eval({ql.state: ss1, ql.is_training: False})"
   ]
  },
  {
   "cell_type": "code",
   "execution_count": 117,
   "metadata": {
    "collapsed": true
   },
   "outputs": [],
   "source": [
    "dv_ds_val_scaled = dv_ds_val / (buf.ss.std(axis=1) + 0.001)"
   ]
  },
  {
   "cell_type": "code",
   "execution_count": 118,
   "metadata": {
    "collapsed": false
   },
   "outputs": [
    {
     "data": {
      "text/plain": [
       "array([ 28, 677, 427, 453, 793, 209, 782, 804,  16, 444, 461, 418, 425,\n",
       "       415, 405, 410, 403, 404,  11, 408])"
      ]
     },
     "execution_count": 118,
     "metadata": {},
     "output_type": "execute_result"
    }
   ],
   "source": [
    "np.abs(dv_ds_val_scaled).argsort()[0, -20:]"
   ]
  },
  {
   "cell_type": "code",
   "execution_count": 126,
   "metadata": {
    "collapsed": true
   },
   "outputs": [],
   "source": [
    "def PlotValue(sess, ql, ss, i, start, stop):\n",
    "    value = ql.pred_vars[3]\n",
    "    n = 500\n",
    "    sss = ss.repeat(n, 0)\n",
    "    vx = ss[:, i]\n",
    "    space = np.linspace(start, stop, n)\n",
    "    sss[:, i] = space\n",
    "    plt.plot(space, sess.run(value, {ql.state: sss, ql.is_training: False}), 'b-',\n",
    "             vx, sess.run(value, {ql.state: ss, ql.is_training: False}), 'ro')"
   ]
  },
  {
   "cell_type": "code",
   "execution_count": 130,
   "metadata": {
    "collapsed": false
   },
   "outputs": [
    {
     "data": {
      "image/png": "[encoded data removed]",
      "text/plain": [
       "<matplotlib.figure.Figure at 0x18acce9d0>"
      ]
     },
     "metadata": {},
     "output_type": "display_data"
    }
   ],
   "source": [
    "PlotValue(sess, ql, ss, 28, 0., 5.)"
   ]
  },
  {
   "cell_type": "code",
   "execution_count": 137,
   "metadata": {
    "collapsed": true
   },
   "outputs": [],
   "source": [
    "enemies_indexes = tf.argmax(enemies_repr, 2)"
   ]
  },
  {
   "cell_type": "code",
   "execution_count": 113,
   "metadata": {
    "collapsed": true
   },
   "outputs": [],
   "source": [
    "idx, ss, aa, rr, ss1, gg, ww = buf.sample(1)"
   ]
  },
  {
   "cell_type": "code",
   "execution_count": 114,
   "metadata": {
    "collapsed": true
   },
   "outputs": [
    {
     "data": {
      "text/plain": [
       "array([[  0.75  ,   1.1   ,   1.05  ,   1.1   ,   0.2548,   1.142 ,\n",
       "          0.7262,  -3.9236,   4.    ,  -1.3878,   0.545 ,   0.6   ,\n",
       "          0.08  ,   1.    ,   0.    ,   0.    ,   0.6   ,   5.45  ,\n",
       "          0.    ,   0.    ,   0.    ,   0.    ,   0.    ,   1.2   ,\n",
       "          0.8   ,  15.    ,   0.055 ,   4.    ,   3.    ,   9.    ,\n",
       "          0.    ,   0.    ,   1.    ,   1.    ,   0.    ,   0.    ,\n",
       "          0.2302,   0.942 ,   2.5   ,   0.3473,   2.9798,   3.    ,\n",
       "          1.4489,  -0.0245,  -0.2   ,  -0.3789,   2.2536,  -0.305 ,\n",
       "          0.2015,   0.085 ,   0.4   ,   0.    ,   1.    ,   0.    ,\n",
       "          0.    ,   0.6   ,   0.85  ,   0.    ,   0.    ,   0.    ,\n",
       "          0.    ,   0.    ,   0.    ,   0.    ,   0.    ,   0.    ,\n",
       "          3.    ,   0.    ,   0.52  ,   1.    ,   0.    ,   0.    ,\n",
       "          0.1682,   0.9177,   2.5   ,   0.    ,   0.    ,   3.    ,\n",
       "          1.2027,  -0.0865,  -0.2243,  -0.7262,  -0.7262,  -0.5512,\n",
       "          0.2405,   0.34  ,   0.4   ,   0.16  ,   1.    ,   0.    ,\n",
       "          0.    ,   0.3   ,   2.4045,   0.    ,   0.    ,   0.    ,\n",
       "          0.    ,   0.    ,   0.    ,   0.    ,   0.    ,   0.    ,\n",
       "          3.    ,   0.    ,   1.2   ,   1.2   ,   1.17  ,   1.2   ,\n",
       "          0.3884,   0.7849,   3.5   ,  -2.7969,  -1.0849,   4.    ,\n",
       "          1.9349,   0.1337,  -0.3571,  -3.5231,  -1.8111,   0.1752,\n",
       "          0.3813,   0.545 ,   0.6   ,   0.21  ,   1.    ,   0.    ,\n",
       "          0.    ,   0.6   ,   5.45  ,   0.    ,   0.    ,   0.    ,\n",
       "          0.    ,   0.    ,   1.4   ,   2.1   ,  12.    ,   0.06  ,\n",
       "          4.    ,   3.    ,   1.2   ,   1.2   ,   1.14  ,   1.2   ,\n",
       "          0.3224,   0.7601,   3.5   ,   2.9539,   0.5238,   4.    ,\n",
       "          1.7386,   0.0677,  -0.382 ,   2.2277,  -0.2024,  -0.0077,\n",
       "          0.3879,   0.545 ,   0.6   ,   0.34  ,   1.    ,   0.    ,\n",
       "          0.    ,   0.6   ,   5.45  ,   0.    ,   0.    ,   0.4   ,\n",
       "          0.    ,   0.4   ,   1.4   ,   3.4   ,  12.    ,   0.06  ,\n",
       "          4.    ,   3.    ,   1.    ,   1.    ,   0.    ,   0.    ,\n",
       "          0.198 ,   0.6967,   2.5   ,   0.    ,   0.    ,   3.    ,\n",
       "          1.3608,  -0.0567,  -0.4454,  -0.7262,  -0.7262,  -0.3097,\n",
       "          0.449 ,   0.085 ,   0.4   ,   0.    ,   1.    ,   0.    ,\n",
       "          0.    ,   0.6   ,   0.85  ,   0.    ,   0.    ,   0.    ,\n",
       "          0.    ,   0.    ,   0.    ,   0.    ,   0.    ,   0.    ,\n",
       "          3.    ,   0.    ,   5.    ,   5.    ,   0.    ,   0.    ,\n",
       "          1.6879,   0.05  ,   5.    ,   0.    ,   0.    ,   0.    ,\n",
       "          0.    ,   1.4331,  -1.092 ,  -0.7262,  -0.7262,   0.7367,\n",
       "          1.8018,   0.6   ,   0.6   ,   0.    ,   1.    ,   0.    ,\n",
       "          0.    ,   2.4   ,   6.    ,   0.    ,   0.    ,   0.    ,\n",
       "          0.    ,   0.    ,   0.    ,   0.    ,   0.    ,   0.    ,\n",
       "          0.    ,   0.    ,   2.12  ,   5.    ,   0.    ,   0.    ,\n",
       "          2.0707,   1.6   ,   5.    ,   0.    ,   0.    ,   0.    ,\n",
       "          0.    ,   1.816 ,   0.458 ,  -0.7262,  -0.7262,   1.6348,\n",
       "          1.8728,   0.6   ,   0.6   ,   0.95  ,   0.    ,   1.    ,\n",
       "          0.    ,   2.4   ,   6.    ,   0.    ,   0.    ,   0.    ,\n",
       "          0.    ,   0.    ,   0.    ,   0.    ,   0.    ,   0.    ,\n",
       "          0.    ,   0.    ,   1.    ,   1.    ,   0.    ,   0.    ,\n",
       "          2.4317,   1.5082,   2.5   ,  -2.6387,   1.4274,   3.    ,\n",
       "          2.6457,   2.1769,   0.3662,  -3.3648,   0.7012,   1.5544,\n",
       "          2.2075,   0.085 ,   0.4   ,   0.    ,   0.    ,   1.    ,\n",
       "          0.    ,   0.6   ,   0.85  ,   0.    ,   0.    ,   0.    ,\n",
       "          0.    ,   0.    ,   0.    ,   0.    ,   0.    ,   0.    ,\n",
       "          3.    ,   0.    ,   5.    ,   5.    ,   0.    ,   0.    ,\n",
       "          2.6293,   0.35  ,   5.    ,   0.    ,   0.    ,   0.    ,\n",
       "          0.    ,   2.3746,  -0.792 ,  -0.7262,  -0.7262,   1.0658,\n",
       "          2.5032,   0.6   ,   0.6   ,   0.    ,   1.    ,   0.    ,\n",
       "          0.    ,   2.4   ,   6.    ,   0.    ,   0.    ,   0.    ,\n",
       "          0.    ,   0.    ,   0.    ,   0.    ,   0.    ,   0.    ,\n",
       "          0.    ,   0.    ,   5.    ,   5.    ,   0.    ,   0.    ,\n",
       "          3.0974,   1.2319,   5.    ,   0.    ,   0.    ,   0.    ,\n",
       "          0.    ,   2.8426,   0.0899,  -0.7262,  -0.7262,   1.4194,\n",
       "          2.8441,   0.6   ,   0.6   ,   0.    ,   0.    ,   1.    ,\n",
       "          0.    ,   2.4   ,   6.    ,   0.    ,   0.    ,   0.    ,\n",
       "          0.    ,   0.    ,   0.    ,   0.    ,   0.    ,   0.    ,\n",
       "          0.    ,   0.    ,   0.75  ,   1.1   ,   1.05  ,   1.1   ,\n",
       "          0.2548,   1.142 ,   3.5   ,   0.7262,  -3.9236,   4.    ,\n",
       "         -1.3878,   0.    ,   0.    ,   0.    ,  -4.6498,   1.3878,\n",
       "          0.    ,   0.545 ,   0.6   ,   0.08  ,   1.    ,   0.    ,\n",
       "          0.    ,   0.6   ,   5.45  ,   0.    ,   0.    ,   0.    ,\n",
       "          0.    ,   0.    ,   1.2   ,   0.8   ,  15.    ,   0.055 ,\n",
       "          4.    ,   3.    ,   0.54  ,   1.    ,   0.    ,   0.    ,\n",
       "          0.2111,   1.2376,   2.5   ,   0.    ,   0.    ,   3.    ,\n",
       "         -1.5062,  -0.0436,   0.0956,  -0.7262,  -0.7262,  -2.8964,\n",
       "          0.1051,   0.34  ,   0.4   ,   0.27  ,   1.    ,   0.    ,\n",
       "          0.    ,   0.3   ,   2.9628,   0.    ,   0.    ,   0.    ,\n",
       "          0.    ,   0.    ,   0.    ,   0.    ,   0.    ,   0.    ,\n",
       "          3.    ,   0.    ,   1.    ,   1.    ,   0.    ,   0.    ,\n",
       "          0.7005,   1.2028,   2.5   ,   0.    ,   0.    ,   3.    ,\n",
       "         -1.5615,   0.4457,   0.0608,  -0.7262,  -0.7262,   1.5234,\n",
       "          0.4498,   0.34  ,   0.4   ,   0.    ,   1.    ,   0.    ,\n",
       "          0.    ,   0.3   ,   0.    ,   0.    ,   0.    ,   0.    ,\n",
       "          0.    ,   0.    ,   0.    ,   0.    ,   0.    ,   0.    ,\n",
       "          3.    ,   0.    ,   5.    ,   5.    ,   0.    ,   0.    ,\n",
       "          0.35  ,   1.6567,   5.    ,   0.    ,   0.    ,   0.    ,\n",
       "          0.    ,   0.0952,   0.5147,  -0.7262,  -0.7262,   2.7756,\n",
       "          0.5235,   0.6   ,   0.6   ,   0.36  ,   1.    ,   0.    ,\n",
       "          0.    ,   2.4   ,   6.    ,   0.    ,   0.    ,   0.    ,\n",
       "          0.    ,   0.    ,   0.    ,   0.    ,   0.    ,   0.    ,\n",
       "          0.    ,   0.    ,   1.    ,   1.    ,   0.    ,   0.    ,\n",
       "          0.1415,   2.1307,   2.5   ,   0.0824,  -2.9989,   3.    ,\n",
       "         -1.5433,  -0.1133,   0.9886,  -0.6438,  -3.7251,   3.0727,\n",
       "          0.9951,   0.085 ,   0.4   ,   0.    ,   1.    ,   0.    ,\n",
       "          0.    ,   0.6   ,   0.85  ,   0.    ,   0.    ,   0.    ,\n",
       "          0.    ,   0.    ,   0.    ,   0.    ,   0.    ,   0.    ,\n",
       "          3.    ,   0.    ,   1.    ,   1.    ,   0.    ,   0.    ,\n",
       "          0.293 ,   2.1674,   2.5   ,  -0.1287,  -2.9972,   3.    ,\n",
       "         -1.6137,   0.0383,   1.0254,  -0.8549,  -3.7234,   2.9213,\n",
       "          1.0261,   0.085 ,   0.4   ,   0.    ,   1.    ,   0.    ,\n",
       "          0.    ,   0.6   ,   0.85  ,   0.    ,   0.    ,   0.    ,\n",
       "          0.    ,   0.    ,   0.    ,   0.    ,   0.    ,   0.    ,\n",
       "          3.    ,   0.    ,   1.    ,   1.    ,   0.    ,   0.    ,\n",
       "          0.1881,   2.3304,   2.5   ,   0.0154,  -3.    ,   3.    ,\n",
       "         -1.5657,  -0.0667,   1.1884,  -0.7108,  -3.7262,   3.0146,\n",
       "          1.1903,   0.34  ,   0.4   ,   0.    ,   1.    ,   0.    ,\n",
       "          0.    ,   0.3   ,   3.4   ,   0.    ,   0.    ,   0.    ,\n",
       "          0.    ,   0.    ,   0.    ,   0.    ,   0.    ,   0.    ,\n",
       "          3.    ,   0.    ,   1.    ,   1.    ,   0.    ,   0.    ,\n",
       "          0.2751,   2.3946,   2.5   ,  -0.0941,  -2.9985,   3.    ,\n",
       "         -1.6022,   0.0204,   1.2526,  -0.8203,  -3.7247,   2.9423,\n",
       "          1.2528,   0.085 ,   0.4   ,   0.    ,   1.    ,   0.    ,\n",
       "          0.    ,   0.6   ,   0.85  ,   0.    ,   0.    ,   0.    ,\n",
       "          0.    ,   0.    ,   0.    ,   0.    ,   0.    ,   0.    ,\n",
       "          3.    ,   0.    ,   5.    ,   5.    ,   0.    ,   0.    ,\n",
       "          0.05  ,   2.6933,   5.    ,   0.    ,   0.    ,   0.    ,\n",
       "          0.    ,  -0.2048,   1.5512,  -0.7262,  -0.7262,   3.0898,\n",
       "          1.5647,   0.6   ,   0.6   ,   0.    ,   1.    ,   0.    ,\n",
       "          0.    ,   2.4   ,   6.    ,   0.    ,   0.    ,   0.    ,\n",
       "          0.    ,   0.    ,   0.    ,   0.    ,   0.    ,   0.    ,\n",
       "          0.    ,   0.    ,   5.    ,   5.    ,   0.    ,   0.    ,\n",
       "          0.9026,   2.7681,   5.    ,   0.    ,   0.    ,   0.    ,\n",
       "          0.    ,   0.6479,   1.6261,  -0.7262,  -0.7262,   2.5794,\n",
       "          1.7504,   0.6   ,   0.6   ,   0.    ,   0.    ,   1.    ,\n",
       "          0.    ,   2.4   ,   6.    ,   0.    ,   0.    ,   0.    ,\n",
       "          0.    ,   0.    ,   0.    ,   0.    ,   0.    ,   0.    ,\n",
       "          0.    ,   0.    ,   0.22  ,   1.0879,   0.2289,   0.9382,\n",
       "          5.    ,   5.    ,   0.6   ,   0.6   ,   0.    ,   5.    ,\n",
       "          0.    ,   0.    ,   0.    ,   0.    ,   0.    ,   0.    ,\n",
       "          0.    ,   0.    ,   0.    ,   0.    ,   0.    ,   0.    ,\n",
       "          0.    ,   0.    ,   0.    ,   0.    ,   0.    ,   0.    ,\n",
       "          0.    ,   0.    ,   0.    ,   0.    ,   0.    ,   0.    ,\n",
       "          0.    ,   0.    ,   0.    ,   0.    ,   0.    ,   0.    ,\n",
       "          0.    ,   0.    ,   0.    ,   0.    ,   0.    ,   0.    ,\n",
       "          0.    ,   0.    ,   0.    ,   0.    ,   0.    ,   0.    ,\n",
       "          0.    ,   0.    ,   0.    ,   1.7435,   1.    ]], dtype=float32)"
      ]
     },
     "execution_count": 114,
     "metadata": {},
     "output_type": "execute_result"
    }
   ],
   "source": [
    "ss"
   ]
  },
  {
   "cell_type": "markdown",
   "metadata": {},
   "source": [
    "-----------------"
   ]
  },
  {
   "cell_type": "markdown",
   "metadata": {},
   "source": [
    "-------------------\n",
    "Use OpenAI env to test Q-Learning"
   ]
  },
  {
   "cell_type": "code",
   "execution_count": 74,
   "metadata": {
    "collapsed": true
   },
   "outputs": [],
   "source": [
    "import gym"
   ]
  },
  {
   "cell_type": "code",
   "execution_count": 394,
   "metadata": {
    "collapsed": false
   },
   "outputs": [
    {
     "name": "stderr",
     "output_type": "stream",
     "text": [
      "[2016-12-17 22:27:03,203] Making new env: MountainCar-v0\n"
     ]
    }
   ],
   "source": [
    "env = gym.make('MountainCar-v0')"
   ]
  },
  {
   "cell_type": "code",
   "execution_count": 395,
   "metadata": {
    "collapsed": false
   },
   "outputs": [
    {
     "data": {
      "text/plain": [
       "Discrete(3)"
      ]
     },
     "execution_count": 395,
     "metadata": {},
     "output_type": "execute_result"
    }
   ],
   "source": [
    "env.action_space"
   ]
  },
  {
   "cell_type": "code",
   "execution_count": 396,
   "metadata": {
    "collapsed": true
   },
   "outputs": [],
   "source": [
    "ROLLOUT_LEN = 20\n",
    "GAMMA = 0.99"
   ]
  },
  {
   "cell_type": "code",
   "execution_count": 397,
   "metadata": {
    "collapsed": false
   },
   "outputs": [],
   "source": [
    "buf = learner.WeightedExperienceBuffer(0.6, 0.4, 100, 1 << 18)\n",
    "old_s = env.reset()\n",
    "for _ in range(50):\n",
    "    ss, aa, rr, ss1, gg = [], [], [], [], []\n",
    "    done = False\n",
    "    while not done and len(ss) < ROLLOUT_LEN:\n",
    "        a = env.action_space.sample()\n",
    "    \n",
    "        s, r, done, _ = env.step(a)\n",
    "        ss.append(old_s)\n",
    "        aa.append(a)\n",
    "        rr.append(r)\n",
    "        ss1.append(s)\n",
    "        gg.append(GAMMA if not done else 0.)\n",
    "\n",
    "        old_s = s\n",
    "    \n",
    "    rew = 0.\n",
    "    g = 1.\n",
    "    for i in reversed(range(len(ss))):\n",
    "        rew = rr[i] + gg[i] * rew\n",
    "        g *= gg[i]\n",
    "        ss1[i] = old_s\n",
    "        rr[i] = r\n",
    "        gg[i] = g\n",
    "    \n",
    "    if done:\n",
    "        old_s = env.reset()\n",
    "    \n",
    "    buf.add(np.array(ss), np.array(aa), np.array(rr), np.array(ss1), np.array(gg), 100)"
   ]
  },
  {
   "cell_type": "code",
   "execution_count": 398,
   "metadata": {
    "collapsed": false
   },
   "outputs": [],
   "source": [
    "NUM_HIDDEN = 128\n",
    "def CreateNetwork(state, num_actions, scope, is_training, reuse=False, dropout=False):\n",
    "    with tf.variable_scope(scope, reuse=reuse):\n",
    "        hidden1 = tf.contrib.layers.fully_connected(\n",
    "            state, NUM_HIDDEN,\n",
    "            activation_fn=tf.nn.elu,\n",
    "            weights_initializer=tf.truncated_normal_initializer(stddev=0.01),\n",
    "            biases_initializer=tf.constant_initializer(0.01),\n",
    "            scope='hidden1', reuse=reuse)\n",
    "\n",
    "        if dropout:\n",
    "            do1 = tf.contrib.layers.dropout(hidden1, keep_prob=0.5, is_training=is_training)\n",
    "        else:\n",
    "            do1 = hidden1\n",
    "\n",
    "        do2 = do1\n",
    "#         hidden2 = tf.contrib.layers.relu(\n",
    "#             do1, NUM_HIDDEN / 2,\n",
    "#             activation_fn=tf.nn.elu,\n",
    "#             weights_initializer=tf.truncated_normal_initializer(stddev=0.01),\n",
    "#             biases_initializer=tf.constant_initializer(0.01),\n",
    "#             scope='hidden2', reuse=reuse)\n",
    "\n",
    "#         if dropout:\n",
    "#             do2 = tf.contrib.layers.dropout(hidden2, keep_prob=0.5, is_training=is_training)\n",
    "#         else:\n",
    "#             do2 = hidden2\n",
    "            \n",
    "        value = tf.contrib.layers.linear(do2, 1,\n",
    "                                         weights_initializer=tf.truncated_normal_initializer(stddev=0.01),\n",
    "                                         biases_initializer=tf.constant_initializer(0.),\n",
    "                                         scope='value')\n",
    "        adv = tf.contrib.layers.linear(do2, num_actions,\n",
    "                                       weights_initializer=tf.truncated_normal_initializer(stddev=0.01),\n",
    "                                       scope='advantage')\n",
    "        adv = tf.sub(adv, tf.reduce_mean(adv, reduction_indices=1, keep_dims=True), 'advantage')\n",
    "\n",
    "        output = tf.add(value, adv, 'output')\n",
    "    return hidden1, value, adv, output\n",
    "#     return hidden1, hidden2, value, adv, output"
   ]
  },
  {
   "cell_type": "code",
   "execution_count": 399,
   "metadata": {
    "collapsed": false
   },
   "outputs": [],
   "source": [
    "sess.close()\n",
    "tf.reset_default_graph()\n",
    "sess = tf.InteractiveSession()"
   ]
  },
  {
   "cell_type": "code",
   "execution_count": 400,
   "metadata": {
    "collapsed": false
   },
   "outputs": [],
   "source": [
    "ql = QLearner(buf, env.action_space.n, 'mcar-1', options={\n",
    "    'clip_grad': 3.,\n",
    "    'learning_rate': 0.001 / 4,\n",
    "    'update_steps': 15000,\n",
    "    })\n",
    "sess.run(tf.global_variables_initializer())"
   ]
  },
  {
   "cell_type": "code",
   "execution_count": 68,
   "metadata": {
    "collapsed": false
   },
   "outputs": [
    {
     "name": "stdout",
     "output_type": "stream",
     "text": [
      "model/hidden1/weights:0\n",
      "model/hidden1/biases:0\n",
      "model/hidden2/weights:0\n",
      "model/hidden2/biases:0\n",
      "model/value/weights:0\n",
      "model/value/biases:0\n",
      "model/advantage/weights:0\n",
      "model/advantage/biases:0\n"
     ]
    }
   ],
   "source": [
    "for v in ql.vars_pred:\n",
    "    print v.name"
   ]
  },
  {
   "cell_type": "code",
   "execution_count": 62,
   "metadata": {
    "collapsed": false
   },
   "outputs": [],
   "source": [
    "for v in tf.get_collection(tf.GraphKeys.VARIABLES, 'model'):\n",
    "    print v.name"
   ]
  },
  {
   "cell_type": "code",
   "execution_count": 315,
   "metadata": {
    "collapsed": false
   },
   "outputs": [
    {
     "data": {
      "text/plain": [
       "0.099758252501438174"
      ]
     },
     "execution_count": 315,
     "metadata": {},
     "output_type": "execute_result"
    }
   ],
   "source": [
    "0.3 / (1 + (ql.cur_step or 0.) / 500000.)"
   ]
  },
  {
   "cell_type": "code",
   "execution_count": null,
   "metadata": {
    "collapsed": false
   },
   "outputs": [
    {
     "name": "stdout",
     "output_type": "stream",
     "text": [
      "Updated target network\n"
     ]
    }
   ],
   "source": [
    "episode_rew = 0.\n",
    "episode_len = 0.\n",
    "old_s = env.reset()\n",
    "for i in range(100500100):\n",
    "    ss, aa, rr, ss1, gg = [], [], [], [], []\n",
    "    done = False\n",
    "    if i % 20 == 0:\n",
    "        while not done and len(ss) < ROLLOUT_LEN:\n",
    "            epsilon = 0.3 / (1 + (ql.cur_step or 0.) / 500000.)\n",
    "            if np.random.sample() < epsilon:\n",
    "                a = env.action_space.sample()\n",
    "            else:\n",
    "                a = sess.run(ql.act_s1, {ql.state1: np.reshape(old_s, (1, -1)),\n",
    "                                         ql.is_training: False})\n",
    "                a = a[0]\n",
    "\n",
    "            s, r, done, _ = env.step(a)\n",
    "#             if episode_len > 1500:\n",
    "#                 r -= 1000\n",
    "#                 done = True\n",
    "\n",
    "            ss.append(old_s)\n",
    "            aa.append(a)\n",
    "            rr.append(r)\n",
    "            ss1.append(s)\n",
    "            gg.append(GAMMA if not done else 0.0)\n",
    "\n",
    "            episode_rew += r\n",
    "            episode_len += 1\n",
    "\n",
    "            old_s = s\n",
    "\n",
    "        rew = 0.\n",
    "        g = 1.\n",
    "        for i in reversed(range(len(ss))):\n",
    "            rew = rr[i] + gg[i] * rew\n",
    "            g *= gg[i]\n",
    "            ss1[i] = old_s\n",
    "            rr[i] = r\n",
    "            gg[i] = g\n",
    "\n",
    "        if done:\n",
    "            ql.stat({'Env/Reward': episode_rew, 'Env/Lenght': episode_len})\n",
    "            episode_rew, episode_len = 0., 0.\n",
    "            old_s = env.reset()\n",
    "\n",
    "        buf.add(np.array(ss), np.array(aa), np.array(rr), np.array(ss1), np.array(gg), 100)\n",
    "\n",
    "    ql.step(sess)"
   ]
  },
  {
   "cell_type": "code",
   "execution_count": 280,
   "metadata": {
    "collapsed": false
   },
   "outputs": [
    {
     "data": {
      "text/plain": [
       "(5395630, 21034312)"
      ]
     },
     "execution_count": 280,
     "metadata": {},
     "output_type": "execute_result"
    }
   ],
   "source": [
    "ql.cur_step, buf.inserted"
   ]
  },
  {
   "cell_type": "code",
   "execution_count": 187,
   "metadata": {
    "collapsed": true
   },
   "outputs": [],
   "source": [
    "buf.beta = 0.7"
   ]
  },
  {
   "cell_type": "code",
   "execution_count": 393,
   "metadata": {
    "collapsed": false
   },
   "outputs": [
    {
     "name": "stdout",
     "output_type": "stream",
     "text": [
      "183.301092139\n"
     ]
    }
   ],
   "source": [
    "old_s = env.reset()\n",
    "done = False\n",
    "r = 0\n",
    "while not done:\n",
    "    env.render('human')\n",
    "#     print old_s\n",
    "    a = sess.run(ql.act_s1, {ql.state1: np.reshape(old_s, (1, -1)),\n",
    "                             ql.is_training: False})\n",
    "    old_s, reward, done, _ = env.step(a[0])\n",
    "    r += reward\n",
    "    \n",
    "    if a < -1000:\n",
    "        break\n",
    "    \n",
    "print r\n",
    "env.render(close=True)"
   ]
  },
  {
   "cell_type": "code",
   "execution_count": 107,
   "metadata": {
    "collapsed": true
   },
   "outputs": [],
   "source": []
  },
  {
   "cell_type": "markdown",
   "metadata": {},
   "source": [
    "----------------"
   ]
  },
  {
   "cell_type": "code",
   "execution_count": 372,
   "metadata": {
    "collapsed": false
   },
   "outputs": [],
   "source": [
    "network_vars = {v.name: v.eval() for v in ql.vars_pred}"
   ]
  },
  {
   "cell_type": "code",
   "execution_count": 373,
   "metadata": {
    "collapsed": false
   },
   "outputs": [
    {
     "data": {
      "text/plain": [
       "[u'mean:0',\n",
       " u'model/advantage/biases:0',\n",
       " u'model/advantage/weights:0',\n",
       " u'model/friends/Conv/biases:0',\n",
       " u'model/friends/Conv/weights:0',\n",
       " u'model/hidden1/biases:0',\n",
       " u'model/hidden1/weights:0',\n",
       " u'model/hidden2/biases:0',\n",
       " u'model/hidden2/weights:0',\n",
       " u'model/value/biases:0',\n",
       " u'model/value/weights:0',\n",
       " u'std:0']"
      ]
     },
     "execution_count": 373,
     "metadata": {},
     "output_type": "execute_result"
    }
   ],
   "source": [
    "sorted(network_vars.keys())"
   ]
  },
  {
   "cell_type": "code",
   "execution_count": 274,
   "metadata": {
    "collapsed": true
   },
   "outputs": [],
   "source": [
    "def Elu(x):\n",
    "    return np.where(x < 0, np.exp(x) - 1, x)"
   ]
  },
  {
   "cell_type": "code",
   "execution_count": 275,
   "metadata": {
    "collapsed": true
   },
   "outputs": [],
   "source": [
    "def ReLu(x):\n",
    "    return np.maximum(x, 0)"
   ]
  },
  {
   "cell_type": "code",
   "execution_count": 276,
   "metadata": {
    "collapsed": true
   },
   "outputs": [],
   "source": [
    "def Normalize(state, mean, std):\n",
    "    return (state - mean) / std\n",
    "\n",
    "def BatchNorm(state, network_vars, key, shift=True, eps=0.001):\n",
    "    inv = 1.0 / np.sqrt(network_vars[key + '/moving_variance:0'] + eps)\n",
    "\n",
    "    if shift:\n",
    "        return state * inv + (network_vars[key + '/beta:0'] - network_vars[key + '/moving_mean:0'] * inv)\n",
    "    else:\n",
    "        return state * inv + (-network_vars[key + '/moving_mean:0'] * inv)"
   ]
  },
  {
   "cell_type": "code",
   "execution_count": 342,
   "metadata": {
    "collapsed": true
   },
   "outputs": [],
   "source": [
    "class QFunction(object):\n",
    "    def __init__(self, network_vars):\n",
    "        self.vars = network_vars\n",
    "\n",
    "    def Q(self, state):\n",
    "        state = Normalize(state, self.vars['mean:0'], self.vars['std:0'])\n",
    "        \n",
    "        my_state = state[:32 + 10 * 36]\n",
    "        friends = state[32 + 10 * 36: 32 + 20 * 36].reshape((10, -1))\n",
    "        friends = np.matmul(friends, self.vars['model/friends/Conv/weights:0'][0, 0, :, :])\n",
    "        friends += self.vars['model/friends/Conv/biases:0']\n",
    "        friends = Elu(friends)\n",
    "        friends = friends.max(0)\n",
    "        rest_state = state[32 + 20 * 36:]\n",
    "        state = np.concatenate((my_state, friends, rest_state))\n",
    "\n",
    "        state = np.matmul(state, self.vars['model/hidden1/weights:0'])\n",
    "        state += self.vars['model/hidden1/biases:0']\n",
    "        state = Elu(state)\n",
    "\n",
    "        state = np.matmul(state, self.vars['model/hidden2/weights:0'])\n",
    "        state += self.vars['model/hidden2/biases:0']\n",
    "        state = Elu(state)\n",
    "\n",
    "        value = np.matmul(state, self.vars['model/value/weights:0'])\n",
    "        value += self.vars['model/value/biases:0']\n",
    "\n",
    "        adv = np.matmul(state, self.vars['model/advantage/weights:0'])\n",
    "        adv += self.vars['model/advantage/biases:0']\n",
    "\n",
    "        return value + (adv - adv.mean(keepdims=True))\n",
    "        return value + (adv - adv.mean(1, keepdims=True))"
   ]
  },
  {
   "cell_type": "code",
   "execution_count": 289,
   "metadata": {
    "collapsed": true
   },
   "outputs": [],
   "source": [
    "friends = ss[32 + 10 * 36: 32 + 20 * 36]"
   ]
  },
  {
   "cell_type": "code",
   "execution_count": 296,
   "metadata": {
    "collapsed": false
   },
   "outputs": [],
   "source": [
    "friends = friends.reshape((10, -1))"
   ]
  },
  {
   "cell_type": "code",
   "execution_count": 298,
   "metadata": {
    "collapsed": false
   },
   "outputs": [
    {
     "data": {
      "text/plain": [
       "(10, 36)"
      ]
     },
     "execution_count": 298,
     "metadata": {},
     "output_type": "execute_result"
    }
   ],
   "source": [
    "friends.shape"
   ]
  },
  {
   "cell_type": "code",
   "execution_count": 265,
   "metadata": {
    "collapsed": false
   },
   "outputs": [
    {
     "data": {
      "text/plain": [
       "(1, 1, 36, 64)"
      ]
     },
     "execution_count": 265,
     "metadata": {},
     "output_type": "execute_result"
    }
   ],
   "source": [
    "network_vars['model/friends/Conv/weights:0'].shape"
   ]
  },
  {
   "cell_type": "code",
   "execution_count": 305,
   "metadata": {
    "collapsed": false
   },
   "outputs": [],
   "source": [
    "friends = np.matmul(friends, network_vars['model/friends/Conv/weights:0'][0, 0, :, :])"
   ]
  },
  {
   "cell_type": "code",
   "execution_count": 308,
   "metadata": {
    "collapsed": false
   },
   "outputs": [],
   "source": [
    "friends += network_vars['model/friends/Conv/biases:0']"
   ]
  },
  {
   "cell_type": "code",
   "execution_count": 310,
   "metadata": {
    "collapsed": false
   },
   "outputs": [
    {
     "data": {
      "text/plain": [
       "(64,)"
      ]
     },
     "execution_count": 310,
     "metadata": {},
     "output_type": "execute_result"
    }
   ],
   "source": [
    "friends.max(0).shape"
   ]
  },
  {
   "cell_type": "code",
   "execution_count": 279,
   "metadata": {
    "collapsed": true
   },
   "outputs": [
    {
     "ename": "ValueError",
     "evalue": "total size of new array must be unchanged",
     "output_type": "error",
     "traceback": [
      "\u001b[0;31m---------------------------------------------------------------------------\u001b[0m",
      "\u001b[0;31mValueError\u001b[0m                                Traceback (most recent call last)",
      "\u001b[0;32m<ipython-input-279-83d937a21872>\u001b[0m in \u001b[0;36m<module>\u001b[0;34m()\u001b[0m\n\u001b[0;32m----> 1\u001b[0;31m \u001b[0mss\u001b[0m\u001b[0;34m.\u001b[0m\u001b[0mreshape\u001b[0m\u001b[0;34m(\u001b[0m\u001b[0;34m(\u001b[0m\u001b[0;36m5\u001b[0m\u001b[0;34m,\u001b[0m \u001b[0;34m-\u001b[0m\u001b[0;36m1\u001b[0m\u001b[0;34m)\u001b[0m\u001b[0;34m)\u001b[0m\u001b[0;34m\u001b[0m\u001b[0m\n\u001b[0m",
      "\u001b[0;31mValueError\u001b[0m: total size of new array must be unchanged"
     ]
    }
   ],
   "source": [
    "ss.reshape((5, -1))"
   ]
  },
  {
   "cell_type": "code",
   "execution_count": 266,
   "metadata": {
    "collapsed": true
   },
   "outputs": [],
   "source": [
    "_, ss, aa, rr, ss1, gg, ww = ql.exp_buffer.sample(1)"
   ]
  },
  {
   "cell_type": "code",
   "execution_count": 270,
   "metadata": {
    "collapsed": false
   },
   "outputs": [],
   "source": [
    "ss = ss[0, :]"
   ]
  },
  {
   "cell_type": "code",
   "execution_count": 374,
   "metadata": {
    "collapsed": false
   },
   "outputs": [
    {
     "data": {
      "text/plain": [
       "(<tf.Tensor 'model/concat:0' shape=(?, 513) dtype=float32>,\n",
       " <tf.Tensor 'model/hidden1/Elu:0' shape=(?, 128) dtype=float32>,\n",
       " <tf.Tensor 'model/hidden2/Elu:0' shape=(?, 128) dtype=float32>,\n",
       " <tf.Tensor 'model/value/BiasAdd:0' shape=(?, 1) dtype=float32>,\n",
       " <tf.Tensor 'model/advantage_1:0' shape=(?, 7) dtype=float32>,\n",
       " <tf.Tensor 'model/output:0' shape=(?, 7) dtype=float32>)"
      ]
     },
     "execution_count": 374,
     "metadata": {},
     "output_type": "execute_result"
    }
   ],
   "source": [
    "ql.pred_vars"
   ]
  },
  {
   "cell_type": "code",
   "execution_count": 375,
   "metadata": {
    "collapsed": false
   },
   "outputs": [
    {
     "data": {
      "text/plain": [
       "array([[-0.0042, -0.0008, -0.0029,  0.0015, -0.0015,  0.0022,  0.0014]], dtype=float32)"
      ]
     },
     "execution_count": 375,
     "metadata": {},
     "output_type": "execute_result"
    }
   ],
   "source": [
    "ql.pred_vars[5].eval({ql.state: ss.reshape((1, -1)), ql.is_training: False})"
   ]
  },
  {
   "cell_type": "code",
   "execution_count": 376,
   "metadata": {
    "collapsed": false
   },
   "outputs": [
    {
     "data": {
      "text/plain": [
       "array([-0.0042, -0.0008, -0.0029,  0.0015, -0.0015,  0.0022,  0.0014], dtype=float32)"
      ]
     },
     "execution_count": 376,
     "metadata": {},
     "output_type": "execute_result"
    }
   ],
   "source": [
    "QFunction(network_vars).Q(ss)"
   ]
  },
  {
   "cell_type": "code",
   "execution_count": null,
   "metadata": {
    "collapsed": true
   },
   "outputs": [],
   "source": []
  },
  {
   "cell_type": "code",
   "execution_count": null,
   "metadata": {
    "collapsed": true
   },
   "outputs": [],
   "source": []
  },
  {
   "cell_type": "code",
   "execution_count": null,
   "metadata": {
    "collapsed": true
   },
   "outputs": [],
   "source": []
  },
  {
   "cell_type": "code",
   "execution_count": 170,
   "metadata": {
    "collapsed": false
   },
   "outputs": [
    {
     "data": {
      "text/plain": [
       "array([ 1746.92163086,     0.        ,     0.        ,     0.        ,\n",
       "           0.        ,     0.        ,     0.        ,     0.        ,\n",
       "           0.        ,  3156.87939453], dtype=float32)"
      ]
     },
     "execution_count": 170,
     "metadata": {},
     "output_type": "execute_result"
    }
   ],
   "source": [
    "ql.q.eval(feed_dict)"
   ]
  },
  {
   "cell_type": "code",
   "execution_count": 174,
   "metadata": {
    "collapsed": false
   },
   "outputs": [
    {
     "data": {
      "text/plain": [
       "array([ 10.50465488,  10.50465488,  10.50465488,  10.50465488,\n",
       "        10.50465488,  10.50465488,  10.50465488,  10.50465488,\n",
       "        10.50465488,  10.50465488], dtype=float32)"
      ]
     },
     "execution_count": 174,
     "metadata": {},
     "output_type": "execute_result"
    }
   ],
   "source": [
    "ql.q_s1.eval(feed_dict)"
   ]
  },
  {
   "cell_type": "code",
   "execution_count": 173,
   "metadata": {
    "collapsed": false
   },
   "outputs": [],
   "source": [
    "sess.run(ql.copy_op)"
   ]
  },
  {
   "cell_type": "code",
   "execution_count": 138,
   "metadata": {
    "collapsed": false
   },
   "outputs": [
    {
     "data": {
      "text/plain": [
       "array([ 2186.74389648,  6496.70410156,  2797.15771484,  4662.953125  ,\n",
       "           0.        ,  2761.18579102,  3284.98608398,  6556.95996094,\n",
       "        2748.39379883,     0.        ], dtype=float32)"
      ]
     },
     "execution_count": 138,
     "metadata": {},
     "output_type": "execute_result"
    }
   ],
   "source": [
    "Select(ql.pred_vars[2], ql.action).eval(feed_dict)"
   ]
  },
  {
   "cell_type": "code",
   "execution_count": 148,
   "metadata": {
    "collapsed": false
   },
   "outputs": [
    {
     "data": {
      "text/plain": [
       "array([ 2186.74389648,  6496.70410156,  2797.15771484,  4662.953125  ,\n",
       "           0.        ,  2761.18579102,  3284.98608398,  6556.95996094,\n",
       "        2748.39379883,     0.        ], dtype=float32)"
      ]
     },
     "execution_count": 148,
     "metadata": {},
     "output_type": "execute_result"
    }
   ],
   "source": [
    "tf.reduce_sum(ql.pred_vars[2] * tf.one_hot(ql.action, ql.num_actions), reduction_indices=1).eval(feed_dict)"
   ]
  },
  {
   "cell_type": "code",
   "execution_count": 93,
   "metadata": {
    "collapsed": false
   },
   "outputs": [
    {
     "data": {
      "text/plain": [
       "array([10,  7], dtype=int32)"
      ]
     },
     "execution_count": 93,
     "metadata": {},
     "output_type": "execute_result"
    }
   ],
   "source": [
    "tf.shape(ql.pred_vars[2]).eval(feed_dict)"
   ]
  },
  {
   "cell_type": "code",
   "execution_count": 51,
   "metadata": {
    "collapsed": false
   },
   "outputs": [
    {
     "data": {
      "text/plain": [
       "array([ 25.,  25.,  25.,  25.,  25.,  25.,  25.,  25.,  25.,  25.], dtype=float32)"
      ]
     },
     "execution_count": 51,
     "metadata": {},
     "output_type": "execute_result"
    }
   ],
   "source": [
    "ql.delta.eval()"
   ]
  },
  {
   "cell_type": "code",
   "execution_count": 40,
   "metadata": {
    "collapsed": false
   },
   "outputs": [
    {
     "data": {
      "text/plain": [
       "25.0"
      ]
     },
     "execution_count": 40,
     "metadata": {},
     "output_type": "execute_result"
    }
   ],
   "source": [
    "tf.reduce_mean(ql.delta).eval({ql.state: ss, ql.action: aa, ql.reward: rr, ql.state1:ss1, ql.gamma: gg})"
   ]
  },
  {
   "cell_type": "code",
   "execution_count": 283,
   "metadata": {
    "collapsed": false
   },
   "outputs": [
    {
     "data": {
      "text/plain": [
       "array([    0.        ,     0.        ,  2561.84985352,  2696.66064453,\n",
       "        3319.86474609,  2376.26171875,  2375.80859375,  2602.42016602,\n",
       "        2548.83056641,     0.        ], dtype=float32)"
      ]
     },
     "execution_count": 283,
     "metadata": {},
     "output_type": "execute_result"
    }
   ],
   "source": [
    "ql.q.eval({ql.state: ss, ql.action: aa})"
   ]
  },
  {
   "cell_type": "code",
   "execution_count": 284,
   "metadata": {
    "collapsed": false
   },
   "outputs": [
    {
     "data": {
      "text/plain": [
       "array([ 9.87346268,  9.87346268,  9.87346268,  9.87346268,  9.87346268,\n",
       "        9.87346268,  9.87346268,  9.87346268,  9.87346268,  9.87346268], dtype=float32)"
      ]
     },
     "execution_count": 284,
     "metadata": {},
     "output_type": "execute_result"
    }
   ],
   "source": [
    "ql.q_s1.eval({ql.state1: ss1})"
   ]
  },
  {
   "cell_type": "code",
   "execution_count": null,
   "metadata": {
    "collapsed": true
   },
   "outputs": [],
   "source": []
  }
 ],
 "metadata": {
  "anaconda-cloud": {},
  "kernelspec": {
   "display_name": "Python [Root]",
   "language": "python",
   "name": "Python [Root]"
  },
  "language_info": {
   "codemirror_mode": {
    "name": "ipython",
    "version": 2
   },
   "file_extension": ".py",
   "mimetype": "text/x-python",
   "name": "python",
   "nbconvert_exporter": "python",
   "pygments_lexer": "ipython2",
   "version": "2.7.12"
  }
 },
 "nbformat": 4,
 "nbformat_minor": 1
}
