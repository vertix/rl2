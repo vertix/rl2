{
 "cells": [
  {
   "cell_type": "code",
   "execution_count": 1,
   "metadata": {
    "collapsed": true
   },
   "outputs": [],
   "source": [
    "import random\n",
    "import time"
   ]
  },
  {
   "cell_type": "code",
   "execution_count": 2,
   "metadata": {
    "collapsed": true
   },
   "outputs": [],
   "source": [
    "%matplotlib inline\n",
    "from matplotlib import pyplot as plt\n",
    "%config InlineBackend.figure_format = 'retina'"
   ]
  },
  {
   "cell_type": "code",
   "execution_count": 3,
   "metadata": {
    "collapsed": true
   },
   "outputs": [],
   "source": [
    "import tensorflow as tf\n",
    "import numpy as np\n",
    "\n",
    "np.set_printoptions(precision=4, suppress=True)"
   ]
  },
  {
   "cell_type": "code",
   "execution_count": 4,
   "metadata": {
    "collapsed": false
   },
   "outputs": [],
   "source": [
    "import tensorflow.contrib.layers"
   ]
  },
  {
   "cell_type": "code",
   "execution_count": 5,
   "metadata": {
    "collapsed": true
   },
   "outputs": [],
   "source": [
    "import gym"
   ]
  },
  {
   "cell_type": "code",
   "execution_count": 29,
   "metadata": {
    "collapsed": false
   },
   "outputs": [
    {
     "name": "stderr",
     "output_type": "stream",
     "text": [
      "[2017-01-25 21:12:45,257] Making new env: CartPole-v1\n"
     ]
    }
   ],
   "source": [
    "env = gym.make('CartPole-v1')\n",
    "# env = gym.make('LunarLander-v2')"
   ]
  },
  {
   "cell_type": "code",
   "execution_count": 30,
   "metadata": {
    "collapsed": true
   },
   "outputs": [],
   "source": [
    "def CartPoleQNetwork(state, unused_is_training):\n",
    "    hidden = tf.contrib.layers.fully_connected(\n",
    "        state, 32,\n",
    "        activation_fn=tf.nn.elu,\n",
    "        weights_initializer=tf.truncated_normal_initializer(stddev=0.1),\n",
    "        scope='hidden1')\n",
    "    hidden = tf.contrib.layers.fully_connected(\n",
    "        hidden, 32,\n",
    "        activation_fn=tf.nn.elu,\n",
    "        weights_initializer=tf.truncated_normal_initializer(stddev=0.1),\n",
    "        scope='hidden2')\n",
    "\n",
    "    value = tf.contrib.layers.linear(hidden, 1,\n",
    "                                     weights_initializer=tf.truncated_normal_initializer(stddev=0.1),\n",
    "                                     biases_initializer=tf.constant_initializer(0.),\n",
    "                                     scope='value')\n",
    "    adv = tf.contrib.layers.linear(hidden, env.action_space.n,  # num_actions\n",
    "                                   weights_initializer=tf.truncated_normal_initializer(stddev=0.01),\n",
    "                                   scope='advantage')\n",
    "    adv = tf.sub(adv, tf.reduce_mean(adv, reduction_indices=1, keep_dims=True), 'advantage')\n",
    "\n",
    "    output = tf.add(value, adv, 'output')\n",
    "    return output"
   ]
  },
  {
   "cell_type": "code",
   "execution_count": 31,
   "metadata": {
    "collapsed": true
   },
   "outputs": [],
   "source": [
    "ROLLOUT_LEN = 20\n",
    "GAMMA = 0.99"
   ]
  },
  {
   "cell_type": "code",
   "execution_count": 32,
   "metadata": {
    "collapsed": false
   },
   "outputs": [],
   "source": [
    "buf = learner.WeightedExperienceBuffer(0.6, 0.4, 100, 1 << 15)\n",
    "old_s = env.reset()\n",
    "for _ in range(50):\n",
    "    ss, aa, rr, ss1, gg = [], [], [], [], []\n",
    "    done = False\n",
    "    while not done and len(ss) < ROLLOUT_LEN:\n",
    "        a = env.action_space.sample()\n",
    "    \n",
    "        s, r, done, _ = env.step(a)\n",
    "        ss.append(old_s)\n",
    "        aa.append(a)\n",
    "        rr.append(r)\n",
    "        ss1.append(s)\n",
    "        gg.append(GAMMA if not done else 0.)\n",
    "\n",
    "        old_s = s\n",
    "    \n",
    "    rew = 0.\n",
    "    g = 1.\n",
    "    for i in reversed(range(len(ss))):\n",
    "        rew = rr[i] + gg[i] * rew\n",
    "        g *= gg[i]\n",
    "        ss1[i] = old_s\n",
    "        rr[i] = r\n",
    "        gg[i] = g\n",
    "    \n",
    "    if done:\n",
    "        old_s = env.reset()\n",
    "    \n",
    "    buf.add(np.array(ss), np.array(aa), np.array(rr), np.array(ss1), np.array(gg), 100)"
   ]
  },
  {
   "cell_type": "code",
   "execution_count": 33,
   "metadata": {
    "collapsed": false
   },
   "outputs": [
    {
     "data": {
      "text/plain": [
       "<module 'learner' from 'learner.pyc'>"
      ]
     },
     "execution_count": 33,
     "metadata": {},
     "output_type": "execute_result"
    }
   ],
   "source": [
    "import learner\n",
    "reload(learner)"
   ]
  },
  {
   "cell_type": "code",
   "execution_count": 34,
   "metadata": {
    "collapsed": false
   },
   "outputs": [],
   "source": [
    "sess.close()\n",
    "tf.reset_default_graph()\n",
    "sess = tf.InteractiveSession()"
   ]
  },
  {
   "cell_type": "code",
   "execution_count": 35,
   "metadata": {
    "collapsed": true
   },
   "outputs": [
    {
     "name": "stdout",
     "output_type": "stream",
     "text": [
      "INFO:tensorflow:Summary name model/hidden1/weights:0/grad is illegal; using model/hidden1/weights_0/grad instead.\n"
     ]
    },
    {
     "name": "stderr",
     "output_type": "stream",
     "text": [
      "[2017-01-25 21:13:06,545] Summary name model/hidden1/weights:0/grad is illegal; using model/hidden1/weights_0/grad instead.\n"
     ]
    },
    {
     "name": "stdout",
     "output_type": "stream",
     "text": [
      "INFO:tensorflow:Summary name model/hidden1/weights:0 is illegal; using model/hidden1/weights_0 instead.\n"
     ]
    },
    {
     "name": "stderr",
     "output_type": "stream",
     "text": [
      "[2017-01-25 21:13:06,547] Summary name model/hidden1/weights:0 is illegal; using model/hidden1/weights_0 instead.\n"
     ]
    },
    {
     "name": "stdout",
     "output_type": "stream",
     "text": [
      "INFO:tensorflow:Summary name model/hidden1/biases:0/grad is illegal; using model/hidden1/biases_0/grad instead.\n"
     ]
    },
    {
     "name": "stderr",
     "output_type": "stream",
     "text": [
      "[2017-01-25 21:13:06,551] Summary name model/hidden1/biases:0/grad is illegal; using model/hidden1/biases_0/grad instead.\n"
     ]
    },
    {
     "name": "stdout",
     "output_type": "stream",
     "text": [
      "INFO:tensorflow:Summary name model/hidden1/biases:0 is illegal; using model/hidden1/biases_0 instead.\n"
     ]
    },
    {
     "name": "stderr",
     "output_type": "stream",
     "text": [
      "[2017-01-25 21:13:06,554] Summary name model/hidden1/biases:0 is illegal; using model/hidden1/biases_0 instead.\n"
     ]
    },
    {
     "name": "stdout",
     "output_type": "stream",
     "text": [
      "INFO:tensorflow:Summary name model/hidden2/weights:0/grad is illegal; using model/hidden2/weights_0/grad instead.\n"
     ]
    },
    {
     "name": "stderr",
     "output_type": "stream",
     "text": [
      "[2017-01-25 21:13:06,557] Summary name model/hidden2/weights:0/grad is illegal; using model/hidden2/weights_0/grad instead.\n"
     ]
    },
    {
     "name": "stdout",
     "output_type": "stream",
     "text": [
      "INFO:tensorflow:Summary name model/hidden2/weights:0 is illegal; using model/hidden2/weights_0 instead.\n"
     ]
    },
    {
     "name": "stderr",
     "output_type": "stream",
     "text": [
      "[2017-01-25 21:13:06,559] Summary name model/hidden2/weights:0 is illegal; using model/hidden2/weights_0 instead.\n"
     ]
    },
    {
     "name": "stdout",
     "output_type": "stream",
     "text": [
      "INFO:tensorflow:Summary name model/hidden2/biases:0/grad is illegal; using model/hidden2/biases_0/grad instead.\n"
     ]
    },
    {
     "name": "stderr",
     "output_type": "stream",
     "text": [
      "[2017-01-25 21:13:06,562] Summary name model/hidden2/biases:0/grad is illegal; using model/hidden2/biases_0/grad instead.\n"
     ]
    },
    {
     "name": "stdout",
     "output_type": "stream",
     "text": [
      "INFO:tensorflow:Summary name model/hidden2/biases:0 is illegal; using model/hidden2/biases_0 instead.\n"
     ]
    },
    {
     "name": "stderr",
     "output_type": "stream",
     "text": [
      "[2017-01-25 21:13:06,565] Summary name model/hidden2/biases:0 is illegal; using model/hidden2/biases_0 instead.\n"
     ]
    },
    {
     "name": "stdout",
     "output_type": "stream",
     "text": [
      "INFO:tensorflow:Summary name model/value/weights:0/grad is illegal; using model/value/weights_0/grad instead.\n"
     ]
    },
    {
     "name": "stderr",
     "output_type": "stream",
     "text": [
      "[2017-01-25 21:13:06,568] Summary name model/value/weights:0/grad is illegal; using model/value/weights_0/grad instead.\n"
     ]
    },
    {
     "name": "stdout",
     "output_type": "stream",
     "text": [
      "INFO:tensorflow:Summary name model/value/weights:0 is illegal; using model/value/weights_0 instead.\n"
     ]
    },
    {
     "name": "stderr",
     "output_type": "stream",
     "text": [
      "[2017-01-25 21:13:06,571] Summary name model/value/weights:0 is illegal; using model/value/weights_0 instead.\n"
     ]
    },
    {
     "name": "stdout",
     "output_type": "stream",
     "text": [
      "INFO:tensorflow:Summary name model/value/biases:0/grad is illegal; using model/value/biases_0/grad instead.\n"
     ]
    },
    {
     "name": "stderr",
     "output_type": "stream",
     "text": [
      "[2017-01-25 21:13:06,574] Summary name model/value/biases:0/grad is illegal; using model/value/biases_0/grad instead.\n"
     ]
    },
    {
     "name": "stdout",
     "output_type": "stream",
     "text": [
      "INFO:tensorflow:Summary name model/value/biases:0 is illegal; using model/value/biases_0 instead.\n"
     ]
    },
    {
     "name": "stderr",
     "output_type": "stream",
     "text": [
      "[2017-01-25 21:13:06,577] Summary name model/value/biases:0 is illegal; using model/value/biases_0 instead.\n"
     ]
    },
    {
     "name": "stdout",
     "output_type": "stream",
     "text": [
      "INFO:tensorflow:Summary name model/advantage/weights:0/grad is illegal; using model/advantage/weights_0/grad instead.\n"
     ]
    },
    {
     "name": "stderr",
     "output_type": "stream",
     "text": [
      "[2017-01-25 21:13:06,580] Summary name model/advantage/weights:0/grad is illegal; using model/advantage/weights_0/grad instead.\n"
     ]
    },
    {
     "name": "stdout",
     "output_type": "stream",
     "text": [
      "INFO:tensorflow:Summary name model/advantage/weights:0 is illegal; using model/advantage/weights_0 instead.\n"
     ]
    },
    {
     "name": "stderr",
     "output_type": "stream",
     "text": [
      "[2017-01-25 21:13:06,584] Summary name model/advantage/weights:0 is illegal; using model/advantage/weights_0 instead.\n"
     ]
    },
    {
     "name": "stdout",
     "output_type": "stream",
     "text": [
      "INFO:tensorflow:Summary name model/advantage/biases:0/grad is illegal; using model/advantage/biases_0/grad instead.\n"
     ]
    },
    {
     "name": "stderr",
     "output_type": "stream",
     "text": [
      "[2017-01-25 21:13:06,587] Summary name model/advantage/biases:0/grad is illegal; using model/advantage/biases_0/grad instead.\n"
     ]
    },
    {
     "name": "stdout",
     "output_type": "stream",
     "text": [
      "INFO:tensorflow:Summary name model/advantage/biases:0 is illegal; using model/advantage/biases_0 instead.\n"
     ]
    },
    {
     "name": "stderr",
     "output_type": "stream",
     "text": [
      "[2017-01-25 21:13:06,590] Summary name model/advantage/biases:0 is illegal; using model/advantage/biases_0 instead.\n"
     ]
    }
   ],
   "source": [
    "with tf.device('/cpu:0'):\n",
    "    ql = learner.QLearner(buf, CartPoleQNetwork, options={\n",
    "        'clip_grad': 3.,\n",
    "        'learning_rate': 0.0001,\n",
    "        'update_steps': 15000,\n",
    "        })"
   ]
  },
  {
   "cell_type": "code",
   "execution_count": 36,
   "metadata": {
    "collapsed": false
   },
   "outputs": [],
   "source": [
    "ql.Init(sess, 'practice/cartpole-ql-1')"
   ]
  },
  {
   "cell_type": "code",
   "execution_count": null,
   "metadata": {
    "collapsed": false
   },
   "outputs": [],
   "source": [
    "episode_rew = 0.\n",
    "episode_len = 0.\n",
    "old_s = env.reset()\n",
    "for i in range(100500100):\n",
    "    ss, aa, rr, ss1, gg = [], [], [], [], []\n",
    "    done = False\n",
    "    if i % 1 == 0:\n",
    "        while not done and len(ss) < ROLLOUT_LEN:\n",
    "            epsilon = 0.3 / (1 + (ql.cur_step or 0.) / 500000.)\n",
    "            if np.random.sample() < epsilon:\n",
    "                a = env.action_space.sample()\n",
    "            else:\n",
    "                a = sess.run(ql.act_s1, {ql.state1: np.reshape(old_s, (1, -1)),\n",
    "                                         ql.is_training: False})\n",
    "                a = a[0]\n",
    "\n",
    "            s, r, done, _ = env.step(a)\n",
    "\n",
    "            ss.append(old_s)\n",
    "            aa.append(a)\n",
    "            rr.append(r)\n",
    "            ss1.append(s)\n",
    "            gg.append(GAMMA if not done else 0.0)\n",
    "\n",
    "            episode_rew += r\n",
    "            episode_len += 1\n",
    "\n",
    "            old_s = s\n",
    "\n",
    "        rew = 0.\n",
    "        g = 1.\n",
    "        for i in reversed(range(len(ss))):\n",
    "            rew = rr[i] + gg[i] * rew\n",
    "            g *= gg[i]\n",
    "            ss1[i] = old_s\n",
    "            rr[i] = r\n",
    "            gg[i] = g\n",
    "\n",
    "        if done:\n",
    "            ql.Stat({'Env/Reward': episode_rew, 'Env/Length': episode_len})\n",
    "            episode_rew, episode_len = 0., 0.\n",
    "            old_s = env.reset()\n",
    "\n",
    "        buf.add(np.array(ss), np.array(aa), np.array(rr), np.array(ss1), np.array(gg), 100)\n",
    "\n",
    "    ql.Step(sess)"
   ]
  },
  {
   "cell_type": "code",
   "execution_count": null,
   "metadata": {
    "collapsed": true
   },
   "outputs": [],
   "source": []
  }
 ],
 "metadata": {
  "kernelspec": {
   "display_name": "Python [conda root]",
   "language": "python",
   "name": "conda-root-py"
  },
  "language_info": {
   "codemirror_mode": {
    "name": "ipython",
    "version": 2
   },
   "file_extension": ".py",
   "mimetype": "text/x-python",
   "name": "python",
   "nbconvert_exporter": "python",
   "pygments_lexer": "ipython2",
   "version": "2.7.12"
  }
 },
 "nbformat": 4,
 "nbformat_minor": 1
}
