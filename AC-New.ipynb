{
 "cells": [
  {
   "cell_type": "code",
   "execution_count": 2,
   "metadata": {
    "collapsed": true
   },
   "outputs": [],
   "source": [
    "import random\n",
    "import time"
   ]
  },
  {
   "cell_type": "code",
   "execution_count": 3,
   "metadata": {
    "collapsed": true
   },
   "outputs": [],
   "source": [
    "%matplotlib inline\n",
    "from matplotlib import pyplot as plt\n",
    "%config InlineBackend.figure_format = 'retina'"
   ]
  },
  {
   "cell_type": "code",
   "execution_count": 4,
   "metadata": {
    "collapsed": true
   },
   "outputs": [],
   "source": [
    "import tensorflow as tf\n",
    "import numpy as np\n",
    "\n",
    "np.set_printoptions(precision=4, suppress=True)"
   ]
  },
  {
   "cell_type": "code",
   "execution_count": 5,
   "metadata": {
    "collapsed": false
   },
   "outputs": [],
   "source": [
    "import tensorflow.contrib.layers"
   ]
  },
  {
   "cell_type": "code",
   "execution_count": 6,
   "metadata": {
    "collapsed": true
   },
   "outputs": [],
   "source": [
    "import gym"
   ]
  },
  {
   "cell_type": "code",
   "execution_count": 18,
   "metadata": {
    "collapsed": false
   },
   "outputs": [
    {
     "name": "stderr",
     "output_type": "stream",
     "text": [
      "[2017-01-25 19:44:11,510] Making new env: CartPole-v1\n"
     ]
    }
   ],
   "source": [
    "env = gym.make('CartPole-v1')\n",
    "# env = gym.make('LunarLander-v2')"
   ]
  },
  {
   "cell_type": "code",
   "execution_count": 19,
   "metadata": {
    "collapsed": false
   },
   "outputs": [
    {
     "data": {
      "text/plain": [
       "Box(4,)"
      ]
     },
     "execution_count": 19,
     "metadata": {},
     "output_type": "execute_result"
    }
   ],
   "source": [
    "env.observation_space"
   ]
  },
  {
   "cell_type": "code",
   "execution_count": 8,
   "metadata": {
    "collapsed": true
   },
   "outputs": [],
   "source": [
    "def CartPoleAC(state, is_training):\n",
    "    hidden = tf.contrib.layers.fully_connected(\n",
    "        state, 32,\n",
    "        activation_fn=tf.nn.elu,\n",
    "        weights_initializer=tf.truncated_normal_initializer(stddev=0.1),\n",
    "        scope='hidden1')\n",
    "    hidden = tf.contrib.layers.fully_connected(\n",
    "        hidden, 32,\n",
    "        activation_fn=tf.nn.elu,\n",
    "        weights_initializer=tf.truncated_normal_initializer(stddev=0.1),\n",
    "        scope='hidden2')\n",
    "\n",
    "    baseline = tf.contrib.layers.linear(hidden, 1,\n",
    "                                     weights_initializer=tf.truncated_normal_initializer(stddev=0.1),\n",
    "                                     biases_initializer=tf.constant_initializer(0.),\n",
    "                                     scope='baseline')\n",
    "    logits = tf.contrib.layers.linear(hidden, env.action_space.n,  # num_actions\n",
    "                                      weights_initializer=tf.truncated_normal_initializer(stddev=0.01),\n",
    "                                      scope='logits')\n",
    "    return logits, baseline"
   ]
  },
  {
   "cell_type": "code",
   "execution_count": 9,
   "metadata": {
    "collapsed": true
   },
   "outputs": [],
   "source": [
    "ROLLOUT_LEN = 20\n",
    "GAMMA = 0.99"
   ]
  },
  {
   "cell_type": "code",
   "execution_count": 10,
   "metadata": {
    "collapsed": false
   },
   "outputs": [
    {
     "data": {
      "text/plain": [
       "<module 'learner' from 'learner.pyc'>"
      ]
     },
     "execution_count": 10,
     "metadata": {},
     "output_type": "execute_result"
    }
   ],
   "source": [
    "import learner\n",
    "reload(learner)"
   ]
  },
  {
   "cell_type": "code",
   "execution_count": 20,
   "metadata": {
    "collapsed": false
   },
   "outputs": [],
   "source": [
    "sess.close()\n",
    "tf.reset_default_graph()\n",
    "sess = tf.InteractiveSession()"
   ]
  },
  {
   "cell_type": "code",
   "execution_count": 21,
   "metadata": {
    "collapsed": true
   },
   "outputs": [
    {
     "name": "stdout",
     "output_type": "stream",
     "text": [
      "INFO:tensorflow:Summary name model/hidden1/weights:0/grad is illegal; using model/hidden1/weights_0/grad instead.\n"
     ]
    },
    {
     "name": "stderr",
     "output_type": "stream",
     "text": [
      "[2017-01-25 19:44:15,801] Summary name model/hidden1/weights:0/grad is illegal; using model/hidden1/weights_0/grad instead.\n"
     ]
    },
    {
     "name": "stdout",
     "output_type": "stream",
     "text": [
      "INFO:tensorflow:Summary name model/hidden1/weights:0 is illegal; using model/hidden1/weights_0 instead.\n"
     ]
    },
    {
     "name": "stderr",
     "output_type": "stream",
     "text": [
      "[2017-01-25 19:44:15,804] Summary name model/hidden1/weights:0 is illegal; using model/hidden1/weights_0 instead.\n"
     ]
    },
    {
     "name": "stdout",
     "output_type": "stream",
     "text": [
      "INFO:tensorflow:Summary name model/hidden1/biases:0/grad is illegal; using model/hidden1/biases_0/grad instead.\n"
     ]
    },
    {
     "name": "stderr",
     "output_type": "stream",
     "text": [
      "[2017-01-25 19:44:15,808] Summary name model/hidden1/biases:0/grad is illegal; using model/hidden1/biases_0/grad instead.\n"
     ]
    },
    {
     "name": "stdout",
     "output_type": "stream",
     "text": [
      "INFO:tensorflow:Summary name model/hidden1/biases:0 is illegal; using model/hidden1/biases_0 instead.\n"
     ]
    },
    {
     "name": "stderr",
     "output_type": "stream",
     "text": [
      "[2017-01-25 19:44:15,812] Summary name model/hidden1/biases:0 is illegal; using model/hidden1/biases_0 instead.\n"
     ]
    },
    {
     "name": "stdout",
     "output_type": "stream",
     "text": [
      "INFO:tensorflow:Summary name model/hidden2/weights:0/grad is illegal; using model/hidden2/weights_0/grad instead.\n"
     ]
    },
    {
     "name": "stderr",
     "output_type": "stream",
     "text": [
      "[2017-01-25 19:44:15,815] Summary name model/hidden2/weights:0/grad is illegal; using model/hidden2/weights_0/grad instead.\n"
     ]
    },
    {
     "name": "stdout",
     "output_type": "stream",
     "text": [
      "INFO:tensorflow:Summary name model/hidden2/weights:0 is illegal; using model/hidden2/weights_0 instead.\n"
     ]
    },
    {
     "name": "stderr",
     "output_type": "stream",
     "text": [
      "[2017-01-25 19:44:15,819] Summary name model/hidden2/weights:0 is illegal; using model/hidden2/weights_0 instead.\n"
     ]
    },
    {
     "name": "stdout",
     "output_type": "stream",
     "text": [
      "INFO:tensorflow:Summary name model/hidden2/biases:0/grad is illegal; using model/hidden2/biases_0/grad instead.\n"
     ]
    },
    {
     "name": "stderr",
     "output_type": "stream",
     "text": [
      "[2017-01-25 19:44:15,822] Summary name model/hidden2/biases:0/grad is illegal; using model/hidden2/biases_0/grad instead.\n"
     ]
    },
    {
     "name": "stdout",
     "output_type": "stream",
     "text": [
      "INFO:tensorflow:Summary name model/hidden2/biases:0 is illegal; using model/hidden2/biases_0 instead.\n"
     ]
    },
    {
     "name": "stderr",
     "output_type": "stream",
     "text": [
      "[2017-01-25 19:44:15,826] Summary name model/hidden2/biases:0 is illegal; using model/hidden2/biases_0 instead.\n"
     ]
    },
    {
     "name": "stdout",
     "output_type": "stream",
     "text": [
      "INFO:tensorflow:Summary name model/baseline/weights:0/grad is illegal; using model/baseline/weights_0/grad instead.\n"
     ]
    },
    {
     "name": "stderr",
     "output_type": "stream",
     "text": [
      "[2017-01-25 19:44:15,829] Summary name model/baseline/weights:0/grad is illegal; using model/baseline/weights_0/grad instead.\n"
     ]
    },
    {
     "name": "stdout",
     "output_type": "stream",
     "text": [
      "INFO:tensorflow:Summary name model/baseline/weights:0 is illegal; using model/baseline/weights_0 instead.\n"
     ]
    },
    {
     "name": "stderr",
     "output_type": "stream",
     "text": [
      "[2017-01-25 19:44:15,833] Summary name model/baseline/weights:0 is illegal; using model/baseline/weights_0 instead.\n"
     ]
    },
    {
     "name": "stdout",
     "output_type": "stream",
     "text": [
      "INFO:tensorflow:Summary name model/baseline/biases:0/grad is illegal; using model/baseline/biases_0/grad instead.\n"
     ]
    },
    {
     "name": "stderr",
     "output_type": "stream",
     "text": [
      "[2017-01-25 19:44:15,838] Summary name model/baseline/biases:0/grad is illegal; using model/baseline/biases_0/grad instead.\n"
     ]
    },
    {
     "name": "stdout",
     "output_type": "stream",
     "text": [
      "INFO:tensorflow:Summary name model/baseline/biases:0 is illegal; using model/baseline/biases_0 instead.\n"
     ]
    },
    {
     "name": "stderr",
     "output_type": "stream",
     "text": [
      "[2017-01-25 19:44:15,844] Summary name model/baseline/biases:0 is illegal; using model/baseline/biases_0 instead.\n"
     ]
    },
    {
     "name": "stdout",
     "output_type": "stream",
     "text": [
      "INFO:tensorflow:Summary name model/logits/weights:0/grad is illegal; using model/logits/weights_0/grad instead.\n"
     ]
    },
    {
     "name": "stderr",
     "output_type": "stream",
     "text": [
      "[2017-01-25 19:44:15,849] Summary name model/logits/weights:0/grad is illegal; using model/logits/weights_0/grad instead.\n"
     ]
    },
    {
     "name": "stdout",
     "output_type": "stream",
     "text": [
      "INFO:tensorflow:Summary name model/logits/weights:0 is illegal; using model/logits/weights_0 instead.\n"
     ]
    },
    {
     "name": "stderr",
     "output_type": "stream",
     "text": [
      "[2017-01-25 19:44:15,854] Summary name model/logits/weights:0 is illegal; using model/logits/weights_0 instead.\n"
     ]
    },
    {
     "name": "stdout",
     "output_type": "stream",
     "text": [
      "INFO:tensorflow:Summary name model/logits/biases:0/grad is illegal; using model/logits/biases_0/grad instead.\n"
     ]
    },
    {
     "name": "stderr",
     "output_type": "stream",
     "text": [
      "[2017-01-25 19:44:15,859] Summary name model/logits/biases:0/grad is illegal; using model/logits/biases_0/grad instead.\n"
     ]
    },
    {
     "name": "stdout",
     "output_type": "stream",
     "text": [
      "INFO:tensorflow:Summary name model/logits/biases:0 is illegal; using model/logits/biases_0 instead.\n"
     ]
    },
    {
     "name": "stderr",
     "output_type": "stream",
     "text": [
      "[2017-01-25 19:44:15,863] Summary name model/logits/biases:0 is illegal; using model/logits/biases_0 instead.\n"
     ]
    },
    {
     "name": "stdout",
     "output_type": "stream",
     "text": [
      "INFO:tensorflow:Summary name global_step:0 is illegal; using global_step_0 instead.\n"
     ]
    },
    {
     "name": "stderr",
     "output_type": "stream",
     "text": [
      "[2017-01-25 19:44:15,868] Summary name global_step:0 is illegal; using global_step_0 instead.\n"
     ]
    }
   ],
   "source": [
    "with tf.device('/cpu:0'):\n",
    "    ac = learner.ActorCriticLearner(CartPoleAC, env.observation_space.shape[0],\n",
    "                                    options={'clip_grad': 9.,\n",
    "                                             'learning_rate': 0.0001,\n",
    "                                             'update_steps': 15000\n",
    "                                            })"
   ]
  },
  {
   "cell_type": "code",
   "execution_count": 22,
   "metadata": {
    "collapsed": false
   },
   "outputs": [],
   "source": [
    "ac.Init(sess, 'practice/cartpole-ac1')"
   ]
  },
  {
   "cell_type": "code",
   "execution_count": null,
   "metadata": {
    "collapsed": false
   },
   "outputs": [],
   "source": [
    "# %%prun\n",
    "episode_rew = 0.\n",
    "episode_len = 0.\n",
    "old_s = env.reset()\n",
    "for i in range(10000000):\n",
    "    ss, aa, rr, ss1, gg = [], [], [], [], []\n",
    "    done = False\n",
    "    while not done and len(ss) < ROLLOUT_LEN:\n",
    "        a = ac.SampleAction(sess, old_s.reshape([1, -1]))\n",
    "        s, r, done, _ = env.step(a)\n",
    "\n",
    "        ss.append(old_s)\n",
    "        aa.append(a)\n",
    "        rr.append(r)\n",
    "        ss1.append(s)\n",
    "        gg.append(GAMMA if not done else 0.0)\n",
    "\n",
    "        episode_rew += r\n",
    "        episode_len += 1\n",
    "\n",
    "        old_s = s\n",
    "\n",
    "    rew = 0.\n",
    "    g = 1.\n",
    "    for i in reversed(range(len(ss))):\n",
    "        rew = rr[i] + gg[i] * rew\n",
    "        g *= gg[i]\n",
    "        ss1[i] = old_s\n",
    "        rr[i] = r\n",
    "        gg[i] = g\n",
    "\n",
    "    if done:\n",
    "        ac.Stat({'Env/Reward': episode_rew, 'Env/Length': episode_len})\n",
    "        episode_rew, episode_len = 0., 0.\n",
    "        old_s = env.reset()\n",
    "\n",
    "    ac.Step(sess, (ss, aa, rr, old_s.reshape([1, -1]), gg))"
   ]
  },
  {
   "cell_type": "code",
   "execution_count": 17,
   "metadata": {
    "collapsed": false
   },
   "outputs": [
    {
     "data": {
      "text/plain": [
       "[array([[ 0.012 ,  0.0156,  0.0232,  0.0319]]),\n",
       " array([[ 0.0123, -0.1799,  0.0238,  0.3318]]),\n",
       " array([[ 0.0087, -0.3753,  0.0305,  0.6319]]),\n",
       " array([[ 0.0012, -0.5709,  0.0431,  0.9341]]),\n",
       " array([[-0.0102, -0.7665,  0.0618,  1.24  ]]),\n",
       " array([[-0.0255, -0.5723,  0.0866,  0.9673]]),\n",
       " array([[-0.037 , -0.3784,  0.1059,  0.703 ]]),\n",
       " array([[-0.0446, -0.5748,  0.12  ,  1.0271]]),\n",
       " array([[-0.0561, -0.3815,  0.1405,  0.7743]]),\n",
       " array([[-0.0637, -0.1885,  0.156 ,  0.529 ]]),\n",
       " array([[-0.0675,  0.0041,  0.1666,  0.2892]]),\n",
       " array([[-0.0674, -0.193 ,  0.1724,  0.6295]]),\n",
       " array([[-0.0712, -0.39  ,  0.185 ,  0.9711]]),\n",
       " array([[-0.079 , -0.5871,  0.2044,  1.3157]])]"
      ]
     },
     "execution_count": 17,
     "metadata": {},
     "output_type": "execute_result"
    }
   ],
   "source": [
    "ss"
   ]
  },
  {
   "cell_type": "code",
   "execution_count": null,
   "metadata": {
    "collapsed": true
   },
   "outputs": [],
   "source": []
  }
 ],
 "metadata": {
  "kernelspec": {
   "display_name": "Python [conda root]",
   "language": "python",
   "name": "conda-root-py"
  },
  "language_info": {
   "codemirror_mode": {
    "name": "ipython",
    "version": 2
   },
   "file_extension": ".py",
   "mimetype": "text/x-python",
   "name": "python",
   "nbconvert_exporter": "python",
   "pygments_lexer": "ipython2",
   "version": "2.7.12"
  }
 },
 "nbformat": 4,
 "nbformat_minor": 1
}
